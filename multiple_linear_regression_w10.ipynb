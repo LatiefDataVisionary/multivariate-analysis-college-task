{
  "nbformat": 4,
  "nbformat_minor": 0,
  "metadata": {
    "colab": {
      "provenance": [],
      "authorship_tag": "ABX9TyNn7qkDCnEP7drvt600QO9h",
      "include_colab_link": true
    },
    "kernelspec": {
      "name": "python3",
      "display_name": "Python 3"
    },
    "language_info": {
      "name": "python"
    }
  },
  "cells": [
    {
      "cell_type": "markdown",
      "metadata": {
        "id": "view-in-github",
        "colab_type": "text"
      },
      "source": [
        "<a href=\"https://colab.research.google.com/github/LatiefDataVisionary/multivariate-analysis-college-task/blob/main/multiple_linear_regression_w10.ipynb\" target=\"_parent\"><img src=\"https://colab.research.google.com/assets/colab-badge.svg\" alt=\"Open In Colab\"/></a>"
      ]
    },
    {
      "cell_type": "markdown",
      "source": [
        "**Import Library**"
      ],
      "metadata": {
        "id": "SqcgyCdqyAMp"
      }
    },
    {
      "cell_type": "code",
      "source": [
        "import pandas as pd\n",
        "import numpy as np"
      ],
      "metadata": {
        "id": "TelZUnLHx8WM"
      },
      "execution_count": 1,
      "outputs": []
    },
    {
      "cell_type": "markdown",
      "source": [
        "**1. Persiapan Data**"
      ],
      "metadata": {
        "id": "uuvAiXyxySoZ"
      }
    },
    {
      "cell_type": "code",
      "source": [
        "data = {\n",
        "    'X2': [50, 30, 70, 20, 60, 40, 25, 80, 35, 45],  # Budget Iklan\n",
        "    'X1': [5, 3, 7, 2, 6, 4, 3, 8, 4, 5],          # Jumlah Sales\n",
        "    'Y': [120, 80, 200, 50, 180, 100, 70, 250, 90, 130] # Penjualan\n",
        "}\n",
        "\n",
        "df = pd.DataFrame(data)\n",
        "print(\"==============================================================================\")\n",
        "print(\"                     ANALISIS REGRESI LINEAR BERGANDA                      \")\n",
        "print(\"==============================================================================\")\n",
        "print(\"\\n--- 1. DATASET AWAL ---\")\n",
        "print(df.to_string()) # Menggunakan to_string() untuk tampilan DataFrame yang lebih baik di console"
      ],
      "metadata": {
        "colab": {
          "base_uri": "https://localhost:8080/"
        },
        "id": "pSfK3dctyUup",
        "outputId": "a2988554-d5da-49d6-d06b-c19747fc6960"
      },
      "execution_count": 7,
      "outputs": [
        {
          "output_type": "stream",
          "name": "stdout",
          "text": [
            "==============================================================================\n",
            "                     ANALISIS REGRESI LINEAR BERGANDA                      \n",
            "==============================================================================\n",
            "\n",
            "--- 1. DATASET AWAL ---\n",
            "   X2  X1    Y\n",
            "0  50   5  120\n",
            "1  30   3   80\n",
            "2  70   7  200\n",
            "3  20   2   50\n",
            "4  60   6  180\n",
            "5  40   4  100\n",
            "6  25   3   70\n",
            "7  80   8  250\n",
            "8  35   4   90\n",
            "9  45   5  130\n"
          ]
        }
      ]
    },
    {
      "cell_type": "markdown",
      "source": [
        "**2. Menghitung Jumlah (Summations) dan n**"
      ],
      "metadata": {
        "id": "5YhDx8QPypx9"
      }
    },
    {
      "cell_type": "code",
      "source": [
        "n = len(df)\n",
        "sum_X1 = df['X1'].sum()\n",
        "sum_X2 =df['X2'].sum()\n",
        "sum_Y = df['Y'].sum()\n",
        "\n",
        "sum_X1_sq = (df['X1']**2).sum()\n",
        "sum_X2_sq = (df['X2']**2).sum()\n",
        "sum_Y_sq = (df['Y']**2).sum()\n",
        "\n",
        "sum_X1Y = (df['X1'] * df['Y']).sum()\n",
        "sum_X2Y = (df['X2'] * df['Y']).sum()\n",
        "sum_X1X2 = (df['X1'] * df['X2']).sum()\n",
        "\n",
        "print(\"\\n\\n--- 2. NILAI-NILAI AWAL ---\")\n",
        "print(f\"Jumlah Observasi (n)                 : {n}\")\n",
        "print(\"-\" * 60)\n",
        "print(f\"ΣX1 (Jumlah Budget Iklan)            : {sum_X1}\")\n",
        "print(f\"ΣX2 (Jumlah Sales)                   : {sum_X2}\")\n",
        "print(f\"ΣY (Jumlah Penjualan)                : {sum_Y}\")\n",
        "print(\"-\" * 60)\n",
        "print(f\"ΣX1^2 (Jumlah Kuadrat Budget Iklan)  : {sum_X1_sq}\")\n",
        "print(f\"ΣX2^2 (Jumlah Kuadrat Sales)         : {sum_X2_sq}\")\n",
        "print(f\"ΣY^2 (Jumlah Kuadrat Penjualan)      : {sum_Y_sq}\")\n",
        "print(\"-\" * 60)\n",
        "print(f\"ΣX1Y (Jumlah Produk X1 dan Y)        : {sum_X1Y}\")\n",
        "print(f\"ΣX2Y (Jumlah Produk X2 dan Y)        : {sum_X2Y}\")\n",
        "print(f\"ΣX1X2 (Jumlah Produk X1 dan X2)      : {sum_X1X2}\")"
      ],
      "metadata": {
        "colab": {
          "base_uri": "https://localhost:8080/"
        },
        "id": "cIroZgl7ypn0",
        "outputId": "feedbd8c-e417-4aa6-bdbd-a42955c9c5d8"
      },
      "execution_count": 8,
      "outputs": [
        {
          "output_type": "stream",
          "name": "stdout",
          "text": [
            "\n",
            "\n",
            "--- 2. NILAI-NILAI AWAL ---\n",
            "Jumlah Observasi (n)                 : 10\n",
            "------------------------------------------------------------\n",
            "ΣX1 (Jumlah Budget Iklan)            : 47\n",
            "ΣX2 (Jumlah Sales)                   : 455\n",
            "ΣY (Jumlah Penjualan)                : 1270\n",
            "------------------------------------------------------------\n",
            "ΣX1^2 (Jumlah Kuadrat Budget Iklan)  : 253\n",
            "ΣX2^2 (Jumlah Kuadrat Sales)         : 24175\n",
            "ΣY^2 (Jumlah Kuadrat Penjualan)      : 198100\n",
            "------------------------------------------------------------\n",
            "ΣX1Y (Jumlah Produk X1 dan Y)        : 7040\n",
            "ΣX2Y (Jumlah Produk X2 dan Y)        : 68950\n",
            "ΣX1X2 (Jumlah Produk X1 dan X2)      : 2470\n"
          ]
        }
      ]
    },
    {
      "cell_type": "markdown",
      "source": [
        "**3. Menghitung Koreksi Jumlah Kuadrat dan Produk**"
      ],
      "metadata": {
        "id": "dyN9d7cH1K_j"
      }
    },
    {
      "cell_type": "code",
      "source": [
        "sum_x1_sq_corrected = sum_X1_sq - (sum_X1**2)/n\n",
        "sum_x2_sq_corrected = sum_X2_sq - (sum_X2**2)/n\n",
        "sum_y_sq_corrected = sum_Y_sq - (sum_Y**2)/n # Meskipun tidak digunakan di a,b1,b2, ini untuk kelengkapan\n",
        "sum_x1y_corrected = sum_X1Y - (sum_X1 * sum_Y)/n\n",
        "sum_x2y_corrected = sum_X2Y - (sum_X2 * sum_Y)/n\n",
        "sum_x1x2_corrected = sum_X1X2 - (sum_X1 * sum_X2)/n\n",
        "\n",
        "print(\"\\n\\n--- 3. KOREKSI JUMLAH KUADRAT DAN PRODUK (Notasi Huruf Kecil) ---\")\n",
        "print(f\"Σx1^2                                : {sum_x1_sq_corrected:10.2f}\")\n",
        "print(f\"Σx2^2                                : {sum_x2_sq_corrected:10.2f}\")\n",
        "print(f\"Σy^2                                 : {sum_y_sq_corrected:10.2f}\")\n",
        "print(f\"Σx1y                                 : {sum_x1y_corrected:10.2f}\")\n",
        "print(f\"Σx2y                                 : {sum_x2y_corrected:10.2f}\")\n",
        "print(f\"Σx1x2                                : {sum_x1x2_corrected:10.2f}\")"
      ],
      "metadata": {
        "colab": {
          "base_uri": "https://localhost:8080/"
        },
        "id": "JnRlqzXo1RiW",
        "outputId": "3b54ed1f-c4c2-4912-a83f-772de0ac5f69"
      },
      "execution_count": 9,
      "outputs": [
        {
          "output_type": "stream",
          "name": "stdout",
          "text": [
            "\n",
            "\n",
            "--- 3. KOREKSI JUMLAH KUADRAT DAN PRODUK (Notasi Huruf Kecil) ---\n",
            "Σx1^2                                :      32.10\n",
            "Σx2^2                                :    3472.50\n",
            "Σy^2                                 :   36810.00\n",
            "Σx1y                                 :    1071.00\n",
            "Σx2y                                 :   11165.00\n",
            "Σx1x2                                :     331.50\n"
          ]
        }
      ]
    },
    {
      "cell_type": "markdown",
      "source": [
        "**4. Menghitung Koefisien Regresi b1 dan b2**"
      ],
      "metadata": {
        "id": "3nv20ys-3xhT"
      }
    },
    {
      "cell_type": "code",
      "source": [
        "denominator_b = (sum_x1_sq_corrected * sum_x2_sq_corrected) - (sum_x1x2_corrected**2)\n",
        "b1 = ((sum_x2_sq_corrected * sum_x1y_corrected) - (sum_x1x2_corrected * sum_x2y_corrected)) / denominator_b\n",
        "b2 = ((sum_x1_sq_corrected * sum_x2y_corrected) - (sum_x1x2_corrected * sum_x1y_corrected)) / denominator_b\n",
        "\n",
        "print(\"\\n\\n--- 4. PERHITUNGAN KOEFISIEN REGRESI (b1 dan b2) ---\")\n",
        "print(f\"Nilai Denominator untuk b1 dan b2    : {denominator_b:10.2f}\")\n",
        "print(\"-\" * 60)\n",
        "print(f\"Koefisien b1 (Budget Iklan)          : {b1:10.4f}\")\n",
        "print(f\"Koefisien b2 (Jumlah Sales)          : {b2:10.4f}\")"
      ],
      "metadata": {
        "colab": {
          "base_uri": "https://localhost:8080/"
        },
        "id": "kOHIlHem3x4R",
        "outputId": "25b9edf5-6b93-470a-8c40-ce21cc68c7a6"
      },
      "execution_count": 10,
      "outputs": [
        {
          "output_type": "stream",
          "name": "stdout",
          "text": [
            "\n",
            "\n",
            "--- 4. PERHITUNGAN KOEFISIEN REGRESI (b1 dan b2) ---\n",
            "Nilai Denominator untuk b1 dan b2    :    1575.00\n",
            "------------------------------------------------------------\n",
            "Koefisien b1 (Budget Iklan)          :    11.3333\n",
            "Koefisien b2 (Jumlah Sales)          :     2.1333\n"
          ]
        }
      ]
    },
    {
      "cell_type": "markdown",
      "source": [
        "**5. Menghitung Konstanta a**"
      ],
      "metadata": {
        "id": "ZNeQecUL4wb3"
      }
    },
    {
      "cell_type": "code",
      "source": [
        "a = (sum_Y - (b1 * sum_X1) - (b2 * sum_X2)) / n\n",
        "\n",
        "print(\"\\n\\n--- 5. PERHITUNGAN KONSTANTA REGRESI (a) ---\")\n",
        "print(f\"Konstanta a (Intersep)               : {a:10.4f}\")\n",
        "\n",
        "print(\"\\n\\n==============================================================================\")\n",
        "print(\"                     PERSAMAAN REGRESI LINEAR BERGANDA                      \")\n",
        "print(\"==============================================================================\")\n",
        "print(f\" Y = {a:.4f} + {b1:.4f}X1 + {b2:.4f}X2\")\n",
        "print(\"------------------------------------------------------------------------------\")\n",
        "print(f\" Penjualan = {a:.4f} + ({b1:.4f} * Budget Iklan) + ({b2:.4f} * Jumlah Sales)\")\n",
        "print(\"==============================================================================\")"
      ],
      "metadata": {
        "id": "fS3H4bes4w0E",
        "outputId": "51a86366-e033-4e0d-e8ff-8003fc810180",
        "colab": {
          "base_uri": "https://localhost:8080/"
        }
      },
      "execution_count": 11,
      "outputs": [
        {
          "output_type": "stream",
          "name": "stdout",
          "text": [
            "\n",
            "\n",
            "--- 5. PERHITUNGAN KONSTANTA REGRESI (a) ---\n",
            "Konstanta a (Intersep)               :   -23.3333\n",
            "\n",
            "\n",
            "==============================================================================\n",
            "                     PERSAMAAN REGRESI LINEAR BERGANDA                      \n",
            "==============================================================================\n",
            " Y = -23.3333 + 11.3333X1 + 2.1333X2\n",
            "------------------------------------------------------------------------------\n",
            " Penjualan = -23.3333 + (11.3333 * Budget Iklan) + (2.1333 * Jumlah Sales)\n",
            "==============================================================================\n"
          ]
        }
      ]
    }
  ]
}