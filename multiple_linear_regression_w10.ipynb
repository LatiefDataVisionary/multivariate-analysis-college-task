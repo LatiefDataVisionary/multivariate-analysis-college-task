{
  "nbformat": 4,
  "nbformat_minor": 0,
  "metadata": {
    "colab": {
      "provenance": [],
      "authorship_tag": "ABX9TyOJGGEr+a1pqEZzEB1NxUf7",
      "include_colab_link": true
    },
    "kernelspec": {
      "name": "python3",
      "display_name": "Python 3"
    },
    "language_info": {
      "name": "python"
    }
  },
  "cells": [
    {
      "cell_type": "markdown",
      "metadata": {
        "id": "view-in-github",
        "colab_type": "text"
      },
      "source": [
        "<a href=\"https://colab.research.google.com/github/LatiefDataVisionary/multivariate-analysis-college-task/blob/main/multiple_linear_regression_w10.ipynb\" target=\"_parent\"><img src=\"https://colab.research.google.com/assets/colab-badge.svg\" alt=\"Open In Colab\"/></a>"
      ]
    },
    {
      "cell_type": "markdown",
      "source": [
        "**Import Library**"
      ],
      "metadata": {
        "id": "SqcgyCdqyAMp"
      }
    },
    {
      "cell_type": "code",
      "source": [
        "import pandas as pd\n",
        "import numpy as np"
      ],
      "metadata": {
        "id": "TelZUnLHx8WM"
      },
      "execution_count": 1,
      "outputs": []
    },
    {
      "cell_type": "markdown",
      "source": [
        "**1. Persiapan Data**"
      ],
      "metadata": {
        "id": "uuvAiXyxySoZ"
      }
    },
    {
      "cell_type": "code",
      "source": [
        "data = {\n",
        "    'X2': [50, 30, 70, 20, 60, 40, 25, 80, 35, 45],  # Budget Iklan\n",
        "    'X1': [5, 3, 7, 2, 6, 4, 3, 8, 4, 5],          # Jumlah Sales\n",
        "    'Y': [120, 80, 200, 50, 180, 100, 70, 250, 90, 130] # Penjualan\n",
        "}\n",
        "\n",
        "df = pd.DataFrame(data)\n",
        "# Menampilkan data\n",
        "print(\"Dataset:\\n\")\n",
        "print(df)"
      ],
      "metadata": {
        "colab": {
          "base_uri": "https://localhost:8080/"
        },
        "id": "pSfK3dctyUup",
        "outputId": "310650a0-81f5-4a10-b9bd-c16dcfe90d48"
      },
      "execution_count": 6,
      "outputs": [
        {
          "output_type": "stream",
          "name": "stdout",
          "text": [
            "Dataset:\n",
            "\n",
            "   X2  X1    Y\n",
            "0  50   5  120\n",
            "1  30   3   80\n",
            "2  70   7  200\n",
            "3  20   2   50\n",
            "4  60   6  180\n",
            "5  40   4  100\n",
            "6  25   3   70\n",
            "7  80   8  250\n",
            "8  35   4   90\n",
            "9  45   5  130\n"
          ]
        }
      ]
    },
    {
      "cell_type": "markdown",
      "source": [],
      "metadata": {
        "id": "5YhDx8QPypx9"
      }
    },
    {
      "cell_type": "code",
      "source": [],
      "metadata": {
        "id": "cIroZgl7ypn0"
      },
      "execution_count": null,
      "outputs": []
    }
  ]
}