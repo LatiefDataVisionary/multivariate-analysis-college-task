{
  "nbformat": 4,
  "nbformat_minor": 0,
  "metadata": {
    "colab": {
      "provenance": [],
      "authorship_tag": "ABX9TyP56PD/VcbR9YmyK8HTQ/B9",
      "include_colab_link": true
    },
    "kernelspec": {
      "name": "python3",
      "display_name": "Python 3"
    },
    "language_info": {
      "name": "python"
    }
  },
  "cells": [
    {
      "cell_type": "markdown",
      "metadata": {
        "id": "view-in-github",
        "colab_type": "text"
      },
      "source": [
        "<a href=\"https://colab.research.google.com/github/LatiefDataVisionary/multivariate-analysis-college-task/blob/main/src/DiscriminantAnalysis_week12.ipynb\" target=\"_parent\"><img src=\"https://colab.research.google.com/assets/colab-badge.svg\" alt=\"Open In Colab\"/></a>"
      ]
    },
    {
      "cell_type": "markdown",
      "source": [
        "## **Import Libraries**"
      ],
      "metadata": {
        "id": "OaxUKq3b8NuI"
      }
    },
    {
      "cell_type": "code",
      "execution_count": 1,
      "metadata": {
        "id": "9_IqGZXyj0N8"
      },
      "outputs": [],
      "source": [
        "import pandas as pd\n",
        "import numpy as np\n",
        "from sklearn.model_selection import train_test_split\n",
        "from sklearn.discriminant_analysis import LinearDiscriminantAnalysis\n",
        "from sklearn.preprocessing import StandardScaler\n",
        "from sklearn.metrics import accuracy_score, confusion_matrix, classification_report\n",
        "import matplotlib.pyplot as plt\n",
        "import seaborn as sns\n",
        "import kagglehub\n",
        "import os"
      ]
    },
    {
      "cell_type": "markdown",
      "source": [
        "Pada bagian ini, dilakukan impor terhadap pustaka-pustaka (libraries) Python yang esensial untuk analisis data, manipulasi data, pemodelan machine learning, dan visualisasi.\n",
        "\n",
        "*   **Pandas**: Digunakan untuk manipulasi dan analisis data, khususnya untuk bekerja dengan struktur data DataFrame yang tabular.\n",
        "*   **NumPy**: Merupakan pustaka fundamental untuk komputasi numerik di Python, menyediakan dukungan untuk array dan matriks multidimensi, beserta kumpulan fungsi matematika tingkat tinggi untuk beroperasi pada array tersebut.\n",
        "*   **Scikit-learn (sklearn)**: Pustaka machine learning yang komprehensif. Dari sini, akan diimpor beberapa modul spesifik:\n",
        "    *   `train_test_split`: Untuk membagi dataset menjadi set pelatihan dan pengujian.\n",
        "    *   `LinearDiscriminantAnalysis`: Implementasi dari model Analisis Diskriminan Linier.\n",
        "    *   `StandardScaler`: Untuk melakukan standarisasi fitur (opsional, tetapi seringkali bermanfaat).\n",
        "    *   `accuracy_score`, `confusion_matrix`, `classification_report`: Metrik untuk mengevaluasi performa model klasifikasi.\n",
        "*   **Matplotlib.pyplot** dan **Seaborn**: Digunakan untuk membuat visualisasi data statis, animasi, dan interaktif. (Meskipun mungkin tidak selalu digunakan secara ekstensif dalam LDA dasar, ada baiknya untuk diimpor jika diperlukan eksplorasi atau visualisasi hasil).\n",
        "*   **KaggleHub** dan **OS**: Digunakan spesifik untuk mengunduh dan mengakses dataset dari Kaggle, sesuai dengan instruksi pemuatan data yang diberikan."
      ],
      "metadata": {
        "id": "y8QsaX-88TAv"
      }
    },
    {
      "cell_type": "markdown",
      "source": [
        "## **1. Load Dataset**"
      ],
      "metadata": {
        "id": "4kGXIL801Yvh"
      }
    },
    {
      "cell_type": "code",
      "source": [
        "path = 'https://raw.githubusercontent.com/LatiefDataVisionary/multivariate-analysis-college-task/refs/heads/main/datasets/dataset_LDA_2clusters.csv'\n",
        "\n",
        "df = pd.read_csv(path)\n",
        "df.head()"
      ],
      "metadata": {
        "colab": {
          "base_uri": "https://localhost:8080/",
          "height": 206
        },
        "id": "Vh6hu4m43dQS",
        "outputId": "f01ee4de-a0fc-43a6-fa63-576d26c9eb9a"
      },
      "execution_count": 19,
      "outputs": [
        {
          "output_type": "execute_result",
          "data": {
            "text/plain": [
              "   BloodPressure  Age  Cluster\n",
              "0             72   50        0\n",
              "1             66   31        1\n",
              "2             64   32        1\n",
              "3             66   21        1\n",
              "4             40   33        1"
            ],
            "text/html": [
              "\n",
              "  <div id=\"df-f3dc2c99-d540-4157-aa4d-cf14d84f8969\" class=\"colab-df-container\">\n",
              "    <div>\n",
              "<style scoped>\n",
              "    .dataframe tbody tr th:only-of-type {\n",
              "        vertical-align: middle;\n",
              "    }\n",
              "\n",
              "    .dataframe tbody tr th {\n",
              "        vertical-align: top;\n",
              "    }\n",
              "\n",
              "    .dataframe thead th {\n",
              "        text-align: right;\n",
              "    }\n",
              "</style>\n",
              "<table border=\"1\" class=\"dataframe\">\n",
              "  <thead>\n",
              "    <tr style=\"text-align: right;\">\n",
              "      <th></th>\n",
              "      <th>BloodPressure</th>\n",
              "      <th>Age</th>\n",
              "      <th>Cluster</th>\n",
              "    </tr>\n",
              "  </thead>\n",
              "  <tbody>\n",
              "    <tr>\n",
              "      <th>0</th>\n",
              "      <td>72</td>\n",
              "      <td>50</td>\n",
              "      <td>0</td>\n",
              "    </tr>\n",
              "    <tr>\n",
              "      <th>1</th>\n",
              "      <td>66</td>\n",
              "      <td>31</td>\n",
              "      <td>1</td>\n",
              "    </tr>\n",
              "    <tr>\n",
              "      <th>2</th>\n",
              "      <td>64</td>\n",
              "      <td>32</td>\n",
              "      <td>1</td>\n",
              "    </tr>\n",
              "    <tr>\n",
              "      <th>3</th>\n",
              "      <td>66</td>\n",
              "      <td>21</td>\n",
              "      <td>1</td>\n",
              "    </tr>\n",
              "    <tr>\n",
              "      <th>4</th>\n",
              "      <td>40</td>\n",
              "      <td>33</td>\n",
              "      <td>1</td>\n",
              "    </tr>\n",
              "  </tbody>\n",
              "</table>\n",
              "</div>\n",
              "    <div class=\"colab-df-buttons\">\n",
              "\n",
              "  <div class=\"colab-df-container\">\n",
              "    <button class=\"colab-df-convert\" onclick=\"convertToInteractive('df-f3dc2c99-d540-4157-aa4d-cf14d84f8969')\"\n",
              "            title=\"Convert this dataframe to an interactive table.\"\n",
              "            style=\"display:none;\">\n",
              "\n",
              "  <svg xmlns=\"http://www.w3.org/2000/svg\" height=\"24px\" viewBox=\"0 -960 960 960\">\n",
              "    <path d=\"M120-120v-720h720v720H120Zm60-500h600v-160H180v160Zm220 220h160v-160H400v160Zm0 220h160v-160H400v160ZM180-400h160v-160H180v160Zm440 0h160v-160H620v160ZM180-180h160v-160H180v160Zm440 0h160v-160H620v160Z\"/>\n",
              "  </svg>\n",
              "    </button>\n",
              "\n",
              "  <style>\n",
              "    .colab-df-container {\n",
              "      display:flex;\n",
              "      gap: 12px;\n",
              "    }\n",
              "\n",
              "    .colab-df-convert {\n",
              "      background-color: #E8F0FE;\n",
              "      border: none;\n",
              "      border-radius: 50%;\n",
              "      cursor: pointer;\n",
              "      display: none;\n",
              "      fill: #1967D2;\n",
              "      height: 32px;\n",
              "      padding: 0 0 0 0;\n",
              "      width: 32px;\n",
              "    }\n",
              "\n",
              "    .colab-df-convert:hover {\n",
              "      background-color: #E2EBFA;\n",
              "      box-shadow: 0px 1px 2px rgba(60, 64, 67, 0.3), 0px 1px 3px 1px rgba(60, 64, 67, 0.15);\n",
              "      fill: #174EA6;\n",
              "    }\n",
              "\n",
              "    .colab-df-buttons div {\n",
              "      margin-bottom: 4px;\n",
              "    }\n",
              "\n",
              "    [theme=dark] .colab-df-convert {\n",
              "      background-color: #3B4455;\n",
              "      fill: #D2E3FC;\n",
              "    }\n",
              "\n",
              "    [theme=dark] .colab-df-convert:hover {\n",
              "      background-color: #434B5C;\n",
              "      box-shadow: 0px 1px 3px 1px rgba(0, 0, 0, 0.15);\n",
              "      filter: drop-shadow(0px 1px 2px rgba(0, 0, 0, 0.3));\n",
              "      fill: #FFFFFF;\n",
              "    }\n",
              "  </style>\n",
              "\n",
              "    <script>\n",
              "      const buttonEl =\n",
              "        document.querySelector('#df-f3dc2c99-d540-4157-aa4d-cf14d84f8969 button.colab-df-convert');\n",
              "      buttonEl.style.display =\n",
              "        google.colab.kernel.accessAllowed ? 'block' : 'none';\n",
              "\n",
              "      async function convertToInteractive(key) {\n",
              "        const element = document.querySelector('#df-f3dc2c99-d540-4157-aa4d-cf14d84f8969');\n",
              "        const dataTable =\n",
              "          await google.colab.kernel.invokeFunction('convertToInteractive',\n",
              "                                                    [key], {});\n",
              "        if (!dataTable) return;\n",
              "\n",
              "        const docLinkHtml = 'Like what you see? Visit the ' +\n",
              "          '<a target=\"_blank\" href=https://colab.research.google.com/notebooks/data_table.ipynb>data table notebook</a>'\n",
              "          + ' to learn more about interactive tables.';\n",
              "        element.innerHTML = '';\n",
              "        dataTable['output_type'] = 'display_data';\n",
              "        await google.colab.output.renderOutput(dataTable, element);\n",
              "        const docLink = document.createElement('div');\n",
              "        docLink.innerHTML = docLinkHtml;\n",
              "        element.appendChild(docLink);\n",
              "      }\n",
              "    </script>\n",
              "  </div>\n",
              "\n",
              "\n",
              "    <div id=\"df-845a64a7-5a85-40be-921d-1d66df7d1edf\">\n",
              "      <button class=\"colab-df-quickchart\" onclick=\"quickchart('df-845a64a7-5a85-40be-921d-1d66df7d1edf')\"\n",
              "                title=\"Suggest charts\"\n",
              "                style=\"display:none;\">\n",
              "\n",
              "<svg xmlns=\"http://www.w3.org/2000/svg\" height=\"24px\"viewBox=\"0 0 24 24\"\n",
              "     width=\"24px\">\n",
              "    <g>\n",
              "        <path d=\"M19 3H5c-1.1 0-2 .9-2 2v14c0 1.1.9 2 2 2h14c1.1 0 2-.9 2-2V5c0-1.1-.9-2-2-2zM9 17H7v-7h2v7zm4 0h-2V7h2v10zm4 0h-2v-4h2v4z\"/>\n",
              "    </g>\n",
              "</svg>\n",
              "      </button>\n",
              "\n",
              "<style>\n",
              "  .colab-df-quickchart {\n",
              "      --bg-color: #E8F0FE;\n",
              "      --fill-color: #1967D2;\n",
              "      --hover-bg-color: #E2EBFA;\n",
              "      --hover-fill-color: #174EA6;\n",
              "      --disabled-fill-color: #AAA;\n",
              "      --disabled-bg-color: #DDD;\n",
              "  }\n",
              "\n",
              "  [theme=dark] .colab-df-quickchart {\n",
              "      --bg-color: #3B4455;\n",
              "      --fill-color: #D2E3FC;\n",
              "      --hover-bg-color: #434B5C;\n",
              "      --hover-fill-color: #FFFFFF;\n",
              "      --disabled-bg-color: #3B4455;\n",
              "      --disabled-fill-color: #666;\n",
              "  }\n",
              "\n",
              "  .colab-df-quickchart {\n",
              "    background-color: var(--bg-color);\n",
              "    border: none;\n",
              "    border-radius: 50%;\n",
              "    cursor: pointer;\n",
              "    display: none;\n",
              "    fill: var(--fill-color);\n",
              "    height: 32px;\n",
              "    padding: 0;\n",
              "    width: 32px;\n",
              "  }\n",
              "\n",
              "  .colab-df-quickchart:hover {\n",
              "    background-color: var(--hover-bg-color);\n",
              "    box-shadow: 0 1px 2px rgba(60, 64, 67, 0.3), 0 1px 3px 1px rgba(60, 64, 67, 0.15);\n",
              "    fill: var(--button-hover-fill-color);\n",
              "  }\n",
              "\n",
              "  .colab-df-quickchart-complete:disabled,\n",
              "  .colab-df-quickchart-complete:disabled:hover {\n",
              "    background-color: var(--disabled-bg-color);\n",
              "    fill: var(--disabled-fill-color);\n",
              "    box-shadow: none;\n",
              "  }\n",
              "\n",
              "  .colab-df-spinner {\n",
              "    border: 2px solid var(--fill-color);\n",
              "    border-color: transparent;\n",
              "    border-bottom-color: var(--fill-color);\n",
              "    animation:\n",
              "      spin 1s steps(1) infinite;\n",
              "  }\n",
              "\n",
              "  @keyframes spin {\n",
              "    0% {\n",
              "      border-color: transparent;\n",
              "      border-bottom-color: var(--fill-color);\n",
              "      border-left-color: var(--fill-color);\n",
              "    }\n",
              "    20% {\n",
              "      border-color: transparent;\n",
              "      border-left-color: var(--fill-color);\n",
              "      border-top-color: var(--fill-color);\n",
              "    }\n",
              "    30% {\n",
              "      border-color: transparent;\n",
              "      border-left-color: var(--fill-color);\n",
              "      border-top-color: var(--fill-color);\n",
              "      border-right-color: var(--fill-color);\n",
              "    }\n",
              "    40% {\n",
              "      border-color: transparent;\n",
              "      border-right-color: var(--fill-color);\n",
              "      border-top-color: var(--fill-color);\n",
              "    }\n",
              "    60% {\n",
              "      border-color: transparent;\n",
              "      border-right-color: var(--fill-color);\n",
              "    }\n",
              "    80% {\n",
              "      border-color: transparent;\n",
              "      border-right-color: var(--fill-color);\n",
              "      border-bottom-color: var(--fill-color);\n",
              "    }\n",
              "    90% {\n",
              "      border-color: transparent;\n",
              "      border-bottom-color: var(--fill-color);\n",
              "    }\n",
              "  }\n",
              "</style>\n",
              "\n",
              "      <script>\n",
              "        async function quickchart(key) {\n",
              "          const quickchartButtonEl =\n",
              "            document.querySelector('#' + key + ' button');\n",
              "          quickchartButtonEl.disabled = true;  // To prevent multiple clicks.\n",
              "          quickchartButtonEl.classList.add('colab-df-spinner');\n",
              "          try {\n",
              "            const charts = await google.colab.kernel.invokeFunction(\n",
              "                'suggestCharts', [key], {});\n",
              "          } catch (error) {\n",
              "            console.error('Error during call to suggestCharts:', error);\n",
              "          }\n",
              "          quickchartButtonEl.classList.remove('colab-df-spinner');\n",
              "          quickchartButtonEl.classList.add('colab-df-quickchart-complete');\n",
              "        }\n",
              "        (() => {\n",
              "          let quickchartButtonEl =\n",
              "            document.querySelector('#df-845a64a7-5a85-40be-921d-1d66df7d1edf button');\n",
              "          quickchartButtonEl.style.display =\n",
              "            google.colab.kernel.accessAllowed ? 'block' : 'none';\n",
              "        })();\n",
              "      </script>\n",
              "    </div>\n",
              "\n",
              "    </div>\n",
              "  </div>\n"
            ],
            "application/vnd.google.colaboratory.intrinsic+json": {
              "type": "dataframe",
              "variable_name": "df",
              "summary": "{\n  \"name\": \"df\",\n  \"rows\": 600,\n  \"fields\": [\n    {\n      \"column\": \"BloodPressure\",\n      \"properties\": {\n        \"dtype\": \"number\",\n        \"std\": 11,\n        \"min\": 24,\n        \"max\": 122,\n        \"num_unique_values\": 44,\n        \"samples\": [\n          95,\n          62,\n          85\n        ],\n        \"semantic_type\": \"\",\n        \"description\": \"\"\n      }\n    },\n    {\n      \"column\": \"Age\",\n      \"properties\": {\n        \"dtype\": \"number\",\n        \"std\": 11,\n        \"min\": 21,\n        \"max\": 81,\n        \"num_unique_values\": 50,\n        \"samples\": [\n          51,\n          55,\n          58\n        ],\n        \"semantic_type\": \"\",\n        \"description\": \"\"\n      }\n    },\n    {\n      \"column\": \"Cluster\",\n      \"properties\": {\n        \"dtype\": \"number\",\n        \"std\": 0,\n        \"min\": 0,\n        \"max\": 1,\n        \"num_unique_values\": 2,\n        \"samples\": [\n          1,\n          0\n        ],\n        \"semantic_type\": \"\",\n        \"description\": \"\"\n      }\n    }\n  ]\n}"
            }
          },
          "metadata": {},
          "execution_count": 19
        }
      ]
    },
    {
      "cell_type": "code",
      "source": [
        "df.info()"
      ],
      "metadata": {
        "colab": {
          "base_uri": "https://localhost:8080/"
        },
        "id": "99iLogwtNlpM",
        "outputId": "1f95fbfe-6acc-4453-a0b9-bee99df3077f"
      },
      "execution_count": 20,
      "outputs": [
        {
          "output_type": "stream",
          "name": "stdout",
          "text": [
            "<class 'pandas.core.frame.DataFrame'>\n",
            "RangeIndex: 600 entries, 0 to 599\n",
            "Data columns (total 3 columns):\n",
            " #   Column         Non-Null Count  Dtype\n",
            "---  ------         --------------  -----\n",
            " 0   BloodPressure  600 non-null    int64\n",
            " 1   Age            600 non-null    int64\n",
            " 2   Cluster        600 non-null    int64\n",
            "dtypes: int64(3)\n",
            "memory usage: 14.2 KB\n"
          ]
        }
      ]
    },
    {
      "cell_type": "code",
      "source": [
        "df.describe()"
      ],
      "metadata": {
        "colab": {
          "base_uri": "https://localhost:8080/",
          "height": 300
        },
        "id": "in6wupAINxHr",
        "outputId": "dc86787d-7b6e-4451-be94-02e13f0054c2"
      },
      "execution_count": 21,
      "outputs": [
        {
          "output_type": "execute_result",
          "data": {
            "text/plain": [
              "       BloodPressure         Age     Cluster\n",
              "count     600.000000  600.000000  600.000000\n",
              "mean       72.041667   33.278333    0.651667\n",
              "std        11.980086   11.822315    0.476840\n",
              "min        24.000000   21.000000    0.000000\n",
              "25%        64.000000   24.000000    0.000000\n",
              "50%        72.000000   29.000000    1.000000\n",
              "75%        80.000000   40.000000    1.000000\n",
              "max       122.000000   81.000000    1.000000"
            ],
            "text/html": [
              "\n",
              "  <div id=\"df-442bfb15-5efa-4794-a56f-21c2c80b2f98\" class=\"colab-df-container\">\n",
              "    <div>\n",
              "<style scoped>\n",
              "    .dataframe tbody tr th:only-of-type {\n",
              "        vertical-align: middle;\n",
              "    }\n",
              "\n",
              "    .dataframe tbody tr th {\n",
              "        vertical-align: top;\n",
              "    }\n",
              "\n",
              "    .dataframe thead th {\n",
              "        text-align: right;\n",
              "    }\n",
              "</style>\n",
              "<table border=\"1\" class=\"dataframe\">\n",
              "  <thead>\n",
              "    <tr style=\"text-align: right;\">\n",
              "      <th></th>\n",
              "      <th>BloodPressure</th>\n",
              "      <th>Age</th>\n",
              "      <th>Cluster</th>\n",
              "    </tr>\n",
              "  </thead>\n",
              "  <tbody>\n",
              "    <tr>\n",
              "      <th>count</th>\n",
              "      <td>600.000000</td>\n",
              "      <td>600.000000</td>\n",
              "      <td>600.000000</td>\n",
              "    </tr>\n",
              "    <tr>\n",
              "      <th>mean</th>\n",
              "      <td>72.041667</td>\n",
              "      <td>33.278333</td>\n",
              "      <td>0.651667</td>\n",
              "    </tr>\n",
              "    <tr>\n",
              "      <th>std</th>\n",
              "      <td>11.980086</td>\n",
              "      <td>11.822315</td>\n",
              "      <td>0.476840</td>\n",
              "    </tr>\n",
              "    <tr>\n",
              "      <th>min</th>\n",
              "      <td>24.000000</td>\n",
              "      <td>21.000000</td>\n",
              "      <td>0.000000</td>\n",
              "    </tr>\n",
              "    <tr>\n",
              "      <th>25%</th>\n",
              "      <td>64.000000</td>\n",
              "      <td>24.000000</td>\n",
              "      <td>0.000000</td>\n",
              "    </tr>\n",
              "    <tr>\n",
              "      <th>50%</th>\n",
              "      <td>72.000000</td>\n",
              "      <td>29.000000</td>\n",
              "      <td>1.000000</td>\n",
              "    </tr>\n",
              "    <tr>\n",
              "      <th>75%</th>\n",
              "      <td>80.000000</td>\n",
              "      <td>40.000000</td>\n",
              "      <td>1.000000</td>\n",
              "    </tr>\n",
              "    <tr>\n",
              "      <th>max</th>\n",
              "      <td>122.000000</td>\n",
              "      <td>81.000000</td>\n",
              "      <td>1.000000</td>\n",
              "    </tr>\n",
              "  </tbody>\n",
              "</table>\n",
              "</div>\n",
              "    <div class=\"colab-df-buttons\">\n",
              "\n",
              "  <div class=\"colab-df-container\">\n",
              "    <button class=\"colab-df-convert\" onclick=\"convertToInteractive('df-442bfb15-5efa-4794-a56f-21c2c80b2f98')\"\n",
              "            title=\"Convert this dataframe to an interactive table.\"\n",
              "            style=\"display:none;\">\n",
              "\n",
              "  <svg xmlns=\"http://www.w3.org/2000/svg\" height=\"24px\" viewBox=\"0 -960 960 960\">\n",
              "    <path d=\"M120-120v-720h720v720H120Zm60-500h600v-160H180v160Zm220 220h160v-160H400v160Zm0 220h160v-160H400v160ZM180-400h160v-160H180v160Zm440 0h160v-160H620v160ZM180-180h160v-160H180v160Zm440 0h160v-160H620v160Z\"/>\n",
              "  </svg>\n",
              "    </button>\n",
              "\n",
              "  <style>\n",
              "    .colab-df-container {\n",
              "      display:flex;\n",
              "      gap: 12px;\n",
              "    }\n",
              "\n",
              "    .colab-df-convert {\n",
              "      background-color: #E8F0FE;\n",
              "      border: none;\n",
              "      border-radius: 50%;\n",
              "      cursor: pointer;\n",
              "      display: none;\n",
              "      fill: #1967D2;\n",
              "      height: 32px;\n",
              "      padding: 0 0 0 0;\n",
              "      width: 32px;\n",
              "    }\n",
              "\n",
              "    .colab-df-convert:hover {\n",
              "      background-color: #E2EBFA;\n",
              "      box-shadow: 0px 1px 2px rgba(60, 64, 67, 0.3), 0px 1px 3px 1px rgba(60, 64, 67, 0.15);\n",
              "      fill: #174EA6;\n",
              "    }\n",
              "\n",
              "    .colab-df-buttons div {\n",
              "      margin-bottom: 4px;\n",
              "    }\n",
              "\n",
              "    [theme=dark] .colab-df-convert {\n",
              "      background-color: #3B4455;\n",
              "      fill: #D2E3FC;\n",
              "    }\n",
              "\n",
              "    [theme=dark] .colab-df-convert:hover {\n",
              "      background-color: #434B5C;\n",
              "      box-shadow: 0px 1px 3px 1px rgba(0, 0, 0, 0.15);\n",
              "      filter: drop-shadow(0px 1px 2px rgba(0, 0, 0, 0.3));\n",
              "      fill: #FFFFFF;\n",
              "    }\n",
              "  </style>\n",
              "\n",
              "    <script>\n",
              "      const buttonEl =\n",
              "        document.querySelector('#df-442bfb15-5efa-4794-a56f-21c2c80b2f98 button.colab-df-convert');\n",
              "      buttonEl.style.display =\n",
              "        google.colab.kernel.accessAllowed ? 'block' : 'none';\n",
              "\n",
              "      async function convertToInteractive(key) {\n",
              "        const element = document.querySelector('#df-442bfb15-5efa-4794-a56f-21c2c80b2f98');\n",
              "        const dataTable =\n",
              "          await google.colab.kernel.invokeFunction('convertToInteractive',\n",
              "                                                    [key], {});\n",
              "        if (!dataTable) return;\n",
              "\n",
              "        const docLinkHtml = 'Like what you see? Visit the ' +\n",
              "          '<a target=\"_blank\" href=https://colab.research.google.com/notebooks/data_table.ipynb>data table notebook</a>'\n",
              "          + ' to learn more about interactive tables.';\n",
              "        element.innerHTML = '';\n",
              "        dataTable['output_type'] = 'display_data';\n",
              "        await google.colab.output.renderOutput(dataTable, element);\n",
              "        const docLink = document.createElement('div');\n",
              "        docLink.innerHTML = docLinkHtml;\n",
              "        element.appendChild(docLink);\n",
              "      }\n",
              "    </script>\n",
              "  </div>\n",
              "\n",
              "\n",
              "    <div id=\"df-ae2be6fc-9ff7-4b5c-a425-4eed64b81a39\">\n",
              "      <button class=\"colab-df-quickchart\" onclick=\"quickchart('df-ae2be6fc-9ff7-4b5c-a425-4eed64b81a39')\"\n",
              "                title=\"Suggest charts\"\n",
              "                style=\"display:none;\">\n",
              "\n",
              "<svg xmlns=\"http://www.w3.org/2000/svg\" height=\"24px\"viewBox=\"0 0 24 24\"\n",
              "     width=\"24px\">\n",
              "    <g>\n",
              "        <path d=\"M19 3H5c-1.1 0-2 .9-2 2v14c0 1.1.9 2 2 2h14c1.1 0 2-.9 2-2V5c0-1.1-.9-2-2-2zM9 17H7v-7h2v7zm4 0h-2V7h2v10zm4 0h-2v-4h2v4z\"/>\n",
              "    </g>\n",
              "</svg>\n",
              "      </button>\n",
              "\n",
              "<style>\n",
              "  .colab-df-quickchart {\n",
              "      --bg-color: #E8F0FE;\n",
              "      --fill-color: #1967D2;\n",
              "      --hover-bg-color: #E2EBFA;\n",
              "      --hover-fill-color: #174EA6;\n",
              "      --disabled-fill-color: #AAA;\n",
              "      --disabled-bg-color: #DDD;\n",
              "  }\n",
              "\n",
              "  [theme=dark] .colab-df-quickchart {\n",
              "      --bg-color: #3B4455;\n",
              "      --fill-color: #D2E3FC;\n",
              "      --hover-bg-color: #434B5C;\n",
              "      --hover-fill-color: #FFFFFF;\n",
              "      --disabled-bg-color: #3B4455;\n",
              "      --disabled-fill-color: #666;\n",
              "  }\n",
              "\n",
              "  .colab-df-quickchart {\n",
              "    background-color: var(--bg-color);\n",
              "    border: none;\n",
              "    border-radius: 50%;\n",
              "    cursor: pointer;\n",
              "    display: none;\n",
              "    fill: var(--fill-color);\n",
              "    height: 32px;\n",
              "    padding: 0;\n",
              "    width: 32px;\n",
              "  }\n",
              "\n",
              "  .colab-df-quickchart:hover {\n",
              "    background-color: var(--hover-bg-color);\n",
              "    box-shadow: 0 1px 2px rgba(60, 64, 67, 0.3), 0 1px 3px 1px rgba(60, 64, 67, 0.15);\n",
              "    fill: var(--button-hover-fill-color);\n",
              "  }\n",
              "\n",
              "  .colab-df-quickchart-complete:disabled,\n",
              "  .colab-df-quickchart-complete:disabled:hover {\n",
              "    background-color: var(--disabled-bg-color);\n",
              "    fill: var(--disabled-fill-color);\n",
              "    box-shadow: none;\n",
              "  }\n",
              "\n",
              "  .colab-df-spinner {\n",
              "    border: 2px solid var(--fill-color);\n",
              "    border-color: transparent;\n",
              "    border-bottom-color: var(--fill-color);\n",
              "    animation:\n",
              "      spin 1s steps(1) infinite;\n",
              "  }\n",
              "\n",
              "  @keyframes spin {\n",
              "    0% {\n",
              "      border-color: transparent;\n",
              "      border-bottom-color: var(--fill-color);\n",
              "      border-left-color: var(--fill-color);\n",
              "    }\n",
              "    20% {\n",
              "      border-color: transparent;\n",
              "      border-left-color: var(--fill-color);\n",
              "      border-top-color: var(--fill-color);\n",
              "    }\n",
              "    30% {\n",
              "      border-color: transparent;\n",
              "      border-left-color: var(--fill-color);\n",
              "      border-top-color: var(--fill-color);\n",
              "      border-right-color: var(--fill-color);\n",
              "    }\n",
              "    40% {\n",
              "      border-color: transparent;\n",
              "      border-right-color: var(--fill-color);\n",
              "      border-top-color: var(--fill-color);\n",
              "    }\n",
              "    60% {\n",
              "      border-color: transparent;\n",
              "      border-right-color: var(--fill-color);\n",
              "    }\n",
              "    80% {\n",
              "      border-color: transparent;\n",
              "      border-right-color: var(--fill-color);\n",
              "      border-bottom-color: var(--fill-color);\n",
              "    }\n",
              "    90% {\n",
              "      border-color: transparent;\n",
              "      border-bottom-color: var(--fill-color);\n",
              "    }\n",
              "  }\n",
              "</style>\n",
              "\n",
              "      <script>\n",
              "        async function quickchart(key) {\n",
              "          const quickchartButtonEl =\n",
              "            document.querySelector('#' + key + ' button');\n",
              "          quickchartButtonEl.disabled = true;  // To prevent multiple clicks.\n",
              "          quickchartButtonEl.classList.add('colab-df-spinner');\n",
              "          try {\n",
              "            const charts = await google.colab.kernel.invokeFunction(\n",
              "                'suggestCharts', [key], {});\n",
              "          } catch (error) {\n",
              "            console.error('Error during call to suggestCharts:', error);\n",
              "          }\n",
              "          quickchartButtonEl.classList.remove('colab-df-spinner');\n",
              "          quickchartButtonEl.classList.add('colab-df-quickchart-complete');\n",
              "        }\n",
              "        (() => {\n",
              "          let quickchartButtonEl =\n",
              "            document.querySelector('#df-ae2be6fc-9ff7-4b5c-a425-4eed64b81a39 button');\n",
              "          quickchartButtonEl.style.display =\n",
              "            google.colab.kernel.accessAllowed ? 'block' : 'none';\n",
              "        })();\n",
              "      </script>\n",
              "    </div>\n",
              "\n",
              "    </div>\n",
              "  </div>\n"
            ],
            "application/vnd.google.colaboratory.intrinsic+json": {
              "type": "dataframe",
              "summary": "{\n  \"name\": \"df\",\n  \"rows\": 8,\n  \"fields\": [\n    {\n      \"column\": \"BloodPressure\",\n      \"properties\": {\n        \"dtype\": \"number\",\n        \"std\": 192.61483986053162,\n        \"min\": 11.980086310299514,\n        \"max\": 600.0,\n        \"num_unique_values\": 8,\n        \"samples\": [\n          72.04166666666667,\n          72.0,\n          600.0\n        ],\n        \"semantic_type\": \"\",\n        \"description\": \"\"\n      }\n    },\n    {\n      \"column\": \"Age\",\n      \"properties\": {\n        \"dtype\": \"number\",\n        \"std\": 201.08458671570187,\n        \"min\": 11.82231544409364,\n        \"max\": 600.0,\n        \"num_unique_values\": 8,\n        \"samples\": [\n          33.278333333333336,\n          29.0,\n          600.0\n        ],\n        \"semantic_type\": \"\",\n        \"description\": \"\"\n      }\n    },\n    {\n      \"column\": \"Cluster\",\n      \"properties\": {\n        \"dtype\": \"number\",\n        \"std\": 211.9239235153149,\n        \"min\": 0.0,\n        \"max\": 600.0,\n        \"num_unique_values\": 5,\n        \"samples\": [\n          0.6516666666666666,\n          1.0,\n          0.47683978706315194\n        ],\n        \"semantic_type\": \"\",\n        \"description\": \"\"\n      }\n    }\n  ]\n}"
            }
          },
          "metadata": {},
          "execution_count": 21
        }
      ]
    },
    {
      "cell_type": "code",
      "source": [
        "df.shape"
      ],
      "metadata": {
        "colab": {
          "base_uri": "https://localhost:8080/"
        },
        "id": "l8A06I_-81UK",
        "outputId": "54399e90-9eda-4b0e-f485-3094698b0a3d"
      },
      "execution_count": 22,
      "outputs": [
        {
          "output_type": "execute_result",
          "data": {
            "text/plain": [
              "(600, 3)"
            ]
          },
          "metadata": {},
          "execution_count": 22
        }
      ]
    },
    {
      "cell_type": "markdown",
      "source": [
        "## **2. Data Preprocessing and Preparation**"
      ],
      "metadata": {
        "id": "fdKCL1eH9BWP"
      }
    },
    {
      "cell_type": "markdown",
      "source": [
        "Tahap pra-pemrosesan data adalah langkah krusial sebelum membangun model machine learning. Tujuannya adalah untuk menyiapkan data dalam format yang sesuai untuk algoritma LDA.\n"
      ],
      "metadata": {
        "id": "-9kFw6zt9OVs"
      }
    },
    {
      "cell_type": "markdown",
      "source": [
        "1.  **Memisahkan Fitur (Variabel Independen) dan Target (Variabel Dependen)**:\n",
        "    *   Variabel independen (fitur) adalah kolom-kolom yang akan digunakan untuk membuat prediksi. Dalam kasus ini, fitur adalah `BloodPressure` dan `Age`. Variabel-variabel ini akan disimpan dalam DataFrame `X`.\n",
        "    *   Variabel dependen (target) adalah kolom yang ingin diprediksi. Dalam kasus ini, target adalah kolom `Cluster`. Variabel ini akan disimpan dalam Series `y`.\n",
        "2.  **Membagi Data menjadi Set Pelatihan dan Pengujian (`train_test_split`)**:\n",
        "    *   Dataset akan dibagi menjadi dua subset: set pelatihan (`X_train`, `y_train`) dan set pengujian (`X_test`, `y_test`).\n",
        "    *   Model akan dilatih menggunakan set pelatihan.\n",
        "    *   Performa model akan dievaluasi menggunakan set pengujian, yang merupakan data yang belum pernah dilihat oleh model selama proses pelatihan.\n",
        "    *   Parameter `test_size=0.3` menunjukkan bahwa 30% dari data akan dialokasikan untuk set pengujian, dan sisanya (70%) untuk set pelatihan.\n",
        "    *   Parameter `random_state=42` digunakan untuk memastikan bahwa pembagian data bersifat reproduktif. Artinya, jika kode dijalankan kembali dengan `random_state` yang sama, pembagian datanya akan selalu sama. Ini penting untuk konsistensi hasil.\n",
        "3.  **Penskalaan Fitur (`StandardScaler`) (Opsional namun Direkomendasikan)**:\n",
        "    *   LDA sensitif terhadap skala fitur, karena ia mencoba untuk memaksimalkan jarak antar kelas. Fitur dengan skala yang lebih besar mungkin mendominasi perhitungan jarak.\n",
        "    *   `StandardScaler` dari scikit-learn digunakan untuk melakukan standarisasi fitur dengan menghilangkan mean dan menskalakan ke varians unit.\n",
        "    *   Prosesnya adalah:\n",
        "        *   Menginisialisasi objek `StandardScaler`.\n",
        "        *   Melatih (fit) scaler **hanya** pada data fitur pelatihan (`X_train`). Ini penting untuk menghindari kebocoran data (data leakage) dari set pengujian ke proses pelatihan scaler.\n",
        "        *   Mengaplikasikan (transform) penskalaan yang telah dipelajari ke data fitur pelatihan (`X_train`) dan data fitur pengujian (`X_test`).\n",
        "    *   Setelah penskalaan, semua fitur akan memiliki mean sekitar 0 dan standar deviasi sekitar 1."
      ],
      "metadata": {
        "id": "PcmQpyjN9w6C"
      }
    },
    {
      "cell_type": "code",
      "source": [
        "# Memastikan tidak ada nilai NaN di kolom yang akan digunakan\n",
        "# Jika ada, perlu strategi penanganan (misal, imputasi atau penghapusan baris)\n",
        "print(\"Missing values before any processing:\")\n",
        "print(df.isnull().sum())"
      ],
      "metadata": {
        "id": "W9bIc5689O5o",
        "colab": {
          "base_uri": "https://localhost:8080/"
        },
        "outputId": "f4541bf9-4f17-4e44-8833-7274a35b7616"
      },
      "execution_count": 23,
      "outputs": [
        {
          "output_type": "stream",
          "name": "stdout",
          "text": [
            "Missing values before any processing:\n",
            "BloodPressure    0\n",
            "Age              0\n",
            "Cluster          0\n",
            "dtype: int64\n"
          ]
        }
      ]
    },
    {
      "cell_type": "code",
      "source": [
        "# Jika ada NaN pada fitur atau target, dan ingin menghapus barisnya:\n",
        "# df.dropna(subset=['BloodPressure', 'Age', 'Cluster'], inplace=True)\n",
        "# print(\"\\nMissing values after dropping NaN rows (if any):\")\n",
        "# print(df.isnull().sum())\n",
        "# print(\"\\nNew dataset shape after dropping NaN rows:\", df.shape)"
      ],
      "metadata": {
        "id": "jFS48Agt924K"
      },
      "execution_count": 24,
      "outputs": []
    },
    {
      "cell_type": "markdown",
      "source": [
        "### **2.1. Memisahkan Fitur (X) dan Target (y)**"
      ],
      "metadata": {
        "id": "mQSZXb3K-Cpv"
      }
    },
    {
      "cell_type": "code",
      "source": [
        "feature_columns = ['BloodPressure', 'Age']\n",
        "target_column = 'Cluster'\n",
        "\n",
        "X = df[feature_columns]\n",
        "y = df[target_column]\n",
        "\n",
        "print(\"\\nShape of features (X):\", X.shape)\n",
        "print(\"Shape of target (y):\", y.shape)\n",
        "print(\"\\nFirst 5 rows of features (X):\")\n",
        "print(X.head(10))\n",
        "print(\"\\nFirst 5 values of target (y):\")\n",
        "print(y.head(10))"
      ],
      "metadata": {
        "colab": {
          "base_uri": "https://localhost:8080/"
        },
        "id": "rnrqj_UI99xe",
        "outputId": "62cdcf5b-7d50-46df-c3cf-9b532213e6e4"
      },
      "execution_count": 31,
      "outputs": [
        {
          "output_type": "stream",
          "name": "stdout",
          "text": [
            "\n",
            "Shape of features (X): (600, 2)\n",
            "Shape of target (y): (600,)\n",
            "\n",
            "First 5 rows of features (X):\n",
            "   BloodPressure  Age\n",
            "0             72   50\n",
            "1             66   31\n",
            "2             64   32\n",
            "3             66   21\n",
            "4             40   33\n",
            "5             74   30\n",
            "6             50   26\n",
            "7             72   29\n",
            "8             70   53\n",
            "9             96   54\n",
            "\n",
            "First 5 values of target (y):\n",
            "0    0\n",
            "1    1\n",
            "2    1\n",
            "3    1\n",
            "4    1\n",
            "5    1\n",
            "6    1\n",
            "7    1\n",
            "8    0\n",
            "9    0\n",
            "Name: Cluster, dtype: int64\n"
          ]
        }
      ]
    },
    {
      "cell_type": "markdown",
      "source": [
        "### **2.2. Membagi Data menjadi Set Pelatihan dan Pengujian**\n"
      ],
      "metadata": {
        "id": "-MhfpzgS-Vvn"
      }
    },
    {
      "cell_type": "code",
      "source": [
        "# Umumnya menggunakan 70-80% untuk pelatihan dan 20-30% untuk pengujian\n",
        "X_train, X_test, y_train, y_test = train_test_split(X, y, test_size=0.3, random_state=42, stratify=y)\n",
        "# stratify=y digunakan untuk memastikan proporsi kelas target sama di train dan test set, penting untuk klasifikasi"
      ],
      "metadata": {
        "id": "sYXzN62D996E"
      },
      "execution_count": 33,
      "outputs": []
    },
    {
      "cell_type": "code",
      "source": [
        "print(\"Shape of X_train:\", X_train.shape)\n",
        "print(\"Shape of X_test:\", X_test.shape)\n",
        "print(\"Shape of y_train:\", y_train.shape)\n",
        "print(\"Shape of y_test:\", y_test.shape)"
      ],
      "metadata": {
        "colab": {
          "base_uri": "https://localhost:8080/"
        },
        "id": "ZOXzRS2H9-Ao",
        "outputId": "86267880-7b82-480a-c949-da9abc297d4f"
      },
      "execution_count": 35,
      "outputs": [
        {
          "output_type": "stream",
          "name": "stdout",
          "text": [
            "Shape of X_train: (420, 2)\n",
            "Shape of X_test: (180, 2)\n",
            "Shape of y_train: (420,)\n",
            "Shape of y_test: (180,)\n"
          ]
        }
      ]
    },
    {
      "cell_type": "code",
      "source": [
        "print(\"\\nProportion of target variable in original dataset:\")\n",
        "print(y.value_counts(normalize=True))\n",
        "print(\"\\nProportion of target variable in training set:\")\n",
        "print(y_train.value_counts(normalize=True))\n",
        "print(\"\\nProportion of target variable in test set:\")\n",
        "print(y_test.value_counts(normalize=True))"
      ],
      "metadata": {
        "colab": {
          "base_uri": "https://localhost:8080/"
        },
        "id": "7l_iJUI7C8ox",
        "outputId": "6abfd143-ded5-450e-fdc5-c6847c263d25"
      },
      "execution_count": 36,
      "outputs": [
        {
          "output_type": "stream",
          "name": "stdout",
          "text": [
            "\n",
            "Proportion of target variable in original dataset:\n",
            "Cluster\n",
            "1    0.651667\n",
            "0    0.348333\n",
            "Name: proportion, dtype: float64\n",
            "\n",
            "Proportion of target variable in training set:\n",
            "Cluster\n",
            "1    0.652381\n",
            "0    0.347619\n",
            "Name: proportion, dtype: float64\n",
            "\n",
            "Proportion of target variable in test set:\n",
            "Cluster\n",
            "1    0.65\n",
            "0    0.35\n",
            "Name: proportion, dtype: float64\n"
          ]
        }
      ]
    },
    {
      "cell_type": "markdown",
      "source": [
        "### **2.3. Penskalaan Fitur (Feature Scaling)**\n"
      ],
      "metadata": {
        "id": "-AfNoJiZ-gxZ"
      }
    },
    {
      "cell_type": "code",
      "source": [
        "# Inisialisasi StandardScaler\n",
        "scaler = StandardScaler()\n",
        "\n",
        "# Fit scaler pada data pelatihan dan transformasikan data pelatihan\n",
        "X_train_scaled = scaler.fit_transform(X_train)\n",
        "\n",
        "# Transformasikan data pengujian menggunakan scaler yang sudah di-fit pada data pelatihan\n",
        "X_test_scaled = scaler.transform(X_test)\n",
        "\n",
        "# Mengubah hasil scaling kembali menjadi DataFrame Pandas (opsional, untuk kemudahan inspeksi)\n",
        "X_train_scaled_df = pd.DataFrame(X_train_scaled, columns=feature_columns)\n",
        "X_test_scaled_df = pd.DataFrame(X_test_scaled, columns=feature_columns)\n",
        "\n",
        "print(\"First 5 rows of scaled training features (X_train_scaled_df):\")\n",
        "print(X_train_scaled_df.head())\n",
        "print(\"\\nDescriptive statistics of scaled training features:\")\n",
        "print(X_train_scaled_df.describe().round(2)) # .round(2) untuk membulatkan agar mudah dibaca\n",
        "print(\"\\nFirst 5 rows of scaled test features (X_test_scaled_df):\")\n",
        "print(X_test_scaled_df.head())"
      ],
      "metadata": {
        "colab": {
          "base_uri": "https://localhost:8080/"
        },
        "id": "5Aju6BL69-HI",
        "outputId": "9951419c-52b0-48c5-9997-67b546f6bca2"
      },
      "execution_count": 38,
      "outputs": [
        {
          "output_type": "stream",
          "name": "stdout",
          "text": [
            "First 5 rows of scaled training features (X_train_scaled_df):\n",
            "   BloodPressure       Age\n",
            "0      -0.002763 -0.774024\n",
            "1      -0.334348 -0.689673\n",
            "2       0.328822 -0.605321\n",
            "3      -0.168556 -0.689673\n",
            "4       0.163029  0.659949\n",
            "\n",
            "Descriptive statistics of scaled training features:\n",
            "       BloodPressure     Age\n",
            "count         420.00  420.00\n",
            "mean            0.00   -0.00\n",
            "std             1.00    1.00\n",
            "min            -3.98   -1.03\n",
            "25%            -0.67   -0.77\n",
            "50%            -0.00   -0.35\n",
            "75%             0.49    0.58\n",
            "max             4.14    4.03\n",
            "\n",
            "First 5 rows of scaled test features (X_test_scaled_df):\n",
            "   BloodPressure       Age\n",
            "0      -0.665933 -1.027078\n",
            "1      -0.831725  0.153841\n",
            "2      -0.168556  0.322544\n",
            "3      -0.334348 -0.267916\n",
            "4       0.494614  1.081706\n"
          ]
        }
      ]
    },
    {
      "cell_type": "markdown",
      "source": [
        "**Poin Penting:**\n",
        "- **Penanganan Missing value**:\n",
        "  - Untuk dataset `dataset_LDA_2clusters.csv` yang diberikan, ternyata tidak ada nilai yang hilang, tetapi ini adalah praktik standar yang baik.\n",
        "- **`stratify=y`**:\n",
        "  - Saat melakukan `train_test_split`, `stratify=y` sangat penting untuk masalah klasifikasi, terutama jika distribusi kelas tidak seimbang. Ini memastikan bahwa proporsi setiap kelas dalam variabel target (y) dipertahankan baik di set pelatihan maupun di set pengujian.\n",
        "- **Fitting Scaler**:\n",
        "  - `StandardScaler` (atau scaler lainnya) selalu di-fit hanya pada data pelatihan (`X_train`) dan kemudian digunakan untuk mentransformasi baik data pelatihan (`X_train`) maupun data pengujian (`X_test`). Ini mencegah kebocoran informasi dari data pengujian ke dalam proses pelatihan model (atau pra-pemrosesan)."
      ],
      "metadata": {
        "id": "V2jyw6J_-wfy"
      }
    },
    {
      "cell_type": "markdown",
      "source": [
        "Setelah langkah-langkah ini, data `X_train_scaled`, `X_test_scaled`, `y_train`, dan `y_test` siap digunakan untuk membangun dan mengevaluasi model LDA.\n"
      ],
      "metadata": {
        "id": "WtVtjtUM93Qf"
      }
    },
    {
      "cell_type": "markdown",
      "source": [
        "## **3. Model Building: Linear Discriminant Analysis (LDA)**\n"
      ],
      "metadata": {
        "id": "0-5DyzNFEkbg"
      }
    },
    {
      "cell_type": "markdown",
      "source": [
        "Setelah data disiapkan dan diproses, langkah selanjutnya adalah membangun model Analisis Diskriminan Linier (LDA).\n",
        "\n",
        "1.  **Menginisialisasi Model LDA**:\n",
        "    *   Sebuah instance dari kelas `LinearDiscriminantAnalysis` dari `sklearn.discriminant_analysis` dibuat.\n",
        "    *   Untuk kasus klasifikasi biner (dua kelompok/cluster seperti dalam dataset ini), LDA secara default akan menghasilkan satu komponen diskriminan (`n_components = min(n_features, n_classes - 1)`). Jika ada 2 fitur dan 2 kelas, maka akan ada `min(2, 2-1) = 1` komponen diskriminan. Parameter `n_components` dapat diatur secara eksplisit jika LDA juga ingin digunakan untuk reduksi dimensi menjadi jumlah komponen yang lebih sedikit dari defaultnya, namun untuk klasifikasi saja, pengaturan default biasanya sudah cukup.\n",
        "2.  **Melatih Model LDA**:\n",
        "    *   Model LDA yang telah diinisialisasi kemudian dilatih (di-\"fit\") menggunakan data fitur pelatihan yang telah diskalakan (`X_train_scaled`) dan variabel target pelatihan (`y_train`).\n",
        "    *   Selama proses `fit`, model LDA akan mempelajari parameter-parameter (koefisien dan intercept) yang paling baik untuk memisahkan antar kelas berdasarkan data pelatihan. Ini melibatkan perhitungan rata-rata kelas, matriks kovarians dalam kelas, dan matriks kovarians antar kelas untuk menemukan proyeksi yang memaksimalkan separabilitas kelas."
      ],
      "metadata": {
        "id": "FalV2se3EpBz"
      }
    },
    {
      "cell_type": "markdown",
      "source": [
        "### **3.1. Menginisialisasi model LDA**"
      ],
      "metadata": {
        "id": "lJXIvAn2EwDS"
      }
    },
    {
      "cell_type": "markdown",
      "source": [
        "Untuk klasifikasi, `n_components` tidak perlu diatur secara eksplisit jika jumlahnya kurang dari `n_classes-1`. Namun, jika ingin menggunakan LDA untuk reduksi dimensi, parameter `n_components` bisa diatur. Dalam kasus ini, dengan 2 kelas, akan ada `n_classes - 1 = 1 `komponen diskriminan."
      ],
      "metadata": {
        "id": "vjIYXLSKE1UM"
      }
    },
    {
      "cell_type": "code",
      "source": [
        "lda_model = LinearDiscriminantAnalysis(n_components=1) # Bisa juga: LinearDiscriminantAnalysis()"
      ],
      "metadata": {
        "id": "TmkSD6ZOErX4"
      },
      "execution_count": 41,
      "outputs": []
    },
    {
      "cell_type": "markdown",
      "source": [
        "### **3.2. Melatih model LDA menggunakan data pelatihan yang sudah diskalakan**"
      ],
      "metadata": {
        "id": "aQDC7RjjFEqU"
      }
    },
    {
      "cell_type": "code",
      "source": [
        "lda_model.fit(X_train_scaled, y_train)\n",
        "\n",
        "print(f\"Number of discriminant components learned: {lda_model.n_components}\")"
      ],
      "metadata": {
        "id": "ZM5tFhwYFJr1",
        "outputId": "70736ff8-f43a-4cef-d42e-504565385675",
        "colab": {
          "base_uri": "https://localhost:8080/"
        }
      },
      "execution_count": 43,
      "outputs": [
        {
          "output_type": "stream",
          "name": "stdout",
          "text": [
            "Number of discriminant components learned: 1\n"
          ]
        }
      ]
    },
    {
      "cell_type": "markdown",
      "source": [
        "## **4. Model Evaluation**\n"
      ],
      "metadata": {
        "id": "jOzPf8nBFJXX"
      }
    },
    {
      "cell_type": "markdown",
      "source": [
        "Setelah model LDA berhasil dilatih, langkah selanjutnya adalah mengevaluasi performanya menggunakan data pengujian. Evaluasi ini memberikan gambaran seberapa baik model dapat menggeneralisasi kemampuannya pada data baru.\n",
        "\n",
        "1.  **Membuat Prediksi pada Data Pengujian**:\n",
        "    *   Metode `predict()` dari model LDA yang telah dilatih (`lda_model`) digunakan untuk membuat prediksi kelas pada data fitur pengujian yang telah diskalakan (`X_test_scaled`).\n",
        "    *   Hasil prediksi ini (`y_pred`) akan dibandingkan dengan nilai target sebenarnya dari data pengujian (`y_test`).\n",
        "2.  **Menghitung Akurasi (`accuracy_score`)**:\n",
        "    *   Akurasi adalah metrik paling sederhana yang mengukur proporsi prediksi yang benar dari total jumlah prediksi.\n",
        "    *   `accuracy_score(y_test, y_pred)` menghitung nilai akurasi.\n",
        "3.  **Menampilkan Confusion Matrix (`confusion_matrix`)**:\n",
        "    *   Confusion matrix adalah tabel yang merangkum performa model klasifikasi. Untuk klasifikasi biner, tabelnya berukuran 2x2:\n",
        "        *   **True Positives (TP)**: Jumlah observasi positif yang diprediksi dengan benar sebagai positif.\n",
        "        *   **True Negatives (TN)**: Jumlah observasi negatif yang diprediksi dengan benar sebagai negatif.\n",
        "        *   **False Positives (FP) / Type I Error**: Jumlah observasi negatif yang salah diprediksi sebagai positif.\n",
        "        *   **False Negatives (FN) / Type II Error**: Jumlah observasi positif yang salah diprediksi sebagai negatif.\n",
        "    *   `confusion_matrix(y_test, y_pred)` menghasilkan matriks ini.\n",
        "    *   Visualisasi confusion matrix menggunakan `seaborn.heatmap` dapat membuatnya lebih mudah dibaca dan diinterpretasikan.\n",
        "4.  **Menampilkan Laporan Klasifikasi (`classification_report`)**:\n",
        "    *   Laporan klasifikasi memberikan metrik evaluasi yang lebih detail per kelas, termasuk:\n",
        "        *   **Precision**: Kemampuan model untuk tidak memberi label positif pada sampel yang sebenarnya negatif (`TP / (TP + FP)`).\n",
        "        *   **Recall (Sensitivity)**: Kemampuan model untuk menemukan semua sampel positif (`TP / (TP + FN)`).\n",
        "        *   **F1-score**: Rata-rata harmonik dari precision dan recall (`2 * (Precision * Recall) / (Precision + Recall)`). Ini berguna ketika ada ketidakseimbangan kelas.\n",
        "        *   **Support**: Jumlah aktual kemunculan setiap kelas dalam `y_test`.\n",
        "    *   `classification_report(y_test, y_pred)` menghasilkan laporan ini.\n",
        "\n",
        "Metrik-metrik ini secara kolektif memberikan pemahaman yang komprehensif tentang seberapa baik model LDA melakukan tugas klasifikasi pada data pengujian."
      ],
      "metadata": {
        "id": "FQ7ZjzQCImkV"
      }
    },
    {
      "cell_type": "markdown",
      "source": [
        "### **4.1. Membuat prediksi pada data pengujian**"
      ],
      "metadata": {
        "id": "xGCmdJwMIqh7"
      }
    },
    {
      "cell_type": "code",
      "source": [
        "# X_test_scaled didapatkan dari langkah pra-pemrosesan sebelumnya\n",
        "y_pred = lda_model.predict(X_test_scaled)"
      ],
      "metadata": {
        "id": "u6WmGGzRInkI"
      },
      "execution_count": null,
      "outputs": []
    },
    {
      "cell_type": "markdown",
      "source": [
        "### **4.2. Menghitung Akurasi**"
      ],
      "metadata": {
        "id": "jMmWOtOiI3M0"
      }
    },
    {
      "cell_type": "code",
      "source": [
        "accuracy = accuracy_score(y_test, y_pred)\n",
        "print(f\"Accuracy of the LDA model: {accuracy:.4f}\")\n",
        "print(f\"Accuracy in percentage: {accuracy*100:.2f}%\")"
      ],
      "metadata": {
        "id": "nMNSemCoI8kp"
      },
      "execution_count": null,
      "outputs": []
    },
    {
      "cell_type": "markdown",
      "source": [
        "### **4.3. Menampilkan Confusion Matrix**"
      ],
      "metadata": {
        "id": "w3_z_7IZI-1M"
      }
    },
    {
      "cell_type": "code",
      "source": [
        "conf_matrix = confusion_matrix(y_test, y_pred)\n",
        "print(\"Confusion Matrix:\")\n",
        "print(conf_matrix)"
      ],
      "metadata": {
        "id": "-88KqWASJC6C"
      },
      "execution_count": null,
      "outputs": []
    },
    {
      "cell_type": "markdown",
      "source": [
        "Visualisasi Confusion Matrix\n"
      ],
      "metadata": {
        "id": "VTSUs0PwJIPN"
      }
    },
    {
      "cell_type": "code",
      "source": [
        "plt.figure(figsize=(8, 6))\n",
        "sns.heatmap(conf_matrix, annot=True, fmt='d', cmap='Blues',\n",
        "            xticklabels=lda_model.classes_, yticklabels=lda_model.classes_)\n",
        "plt.xlabel('Predicted Label')\n",
        "plt.ylabel('True Label')\n",
        "plt.title('Confusion Matrix for LDA Model')\n",
        "plt.show()"
      ],
      "metadata": {
        "id": "IyUcaWpxJFOR"
      },
      "execution_count": null,
      "outputs": []
    },
    {
      "cell_type": "markdown",
      "source": [
        "### **4.4. Menampilkan Laporan Klasifikasi**"
      ],
      "metadata": {
        "id": "RjPqIkUUI-s4"
      }
    },
    {
      "cell_type": "code",
      "source": [
        "class_report = classification_report(y_test, y_pred, target_names=[f'Cluster {cls}' for cls in lda_model.classes_])\n",
        "print(\"Classification Report:\")\n",
        "print(class_report)"
      ],
      "metadata": {
        "id": "ns8vWOrNJNAD"
      },
      "execution_count": null,
      "outputs": []
    },
    {
      "cell_type": "markdown",
      "source": [
        "### **5. Extracting Discriminant Function Coefficients**\n"
      ],
      "metadata": {
        "id": "DussN9CTJosM"
      }
    },
    {
      "cell_type": "markdown",
      "source": [
        "Model Analisis Diskriminan Linier (LDA) yang telah dilatih menghasilkan sebuah fungsi (atau beberapa fungsi, tergantung jumlah kelas dan fitur) yang digunakan untuk memproyeksikan data ke ruang berdimensi lebih rendah yang memaksimalkan separabilitas antar kelas. Untuk kasus klasifikasi biner dengan dua fitur, akan ada satu fungsi diskriminan linier.\n",
        "\n",
        "Fungsi diskriminan ini memiliki bentuk:\n",
        "`LD = coef₁ * Feature₁_scaled + coef₂ * Feature₂_scaled + ... + intercept`\n",
        "\n",
        "Atau, jika hanya ada satu fungsi diskriminan (kasus biner), nilai batas keputusan (threshold) seringkali diasumsikan 0 pada sumbu diskriminan ini. Skor diskriminan (`LD_score`) untuk setiap observasi dapat dihitung, dan kemudian diklasifikasikan berdasarkan apakah skor tersebut di atas atau di bawah threshold.\n",
        "\n",
        "1.  **Mengekstrak Koefisien (`lda_model.coef_`)**:\n",
        "    *   Atribut `coef_` pada objek model LDA yang telah dilatih berisi bobot (koefisien) untuk setiap fitur.\n",
        "    *   Untuk klasifikasi biner, `lda_model.coef_` akan menghasilkan array 2D dengan satu baris (karena hanya ada satu fungsi diskriminan) dan sejumlah kolom yang sama dengan jumlah fitur. Setiap nilai dalam baris tersebut adalah koefisien untuk fitur yang bersesuaian.\n",
        "    *   Koefisien ini menunjukkan kontribusi relatif dari setiap fitur (yang telah diskalakan) terhadap skor fungsi diskriminan. Tanda (positif atau negatif) dari koefisien menunjukkan arah hubungan fitur dengan skor diskriminan.\n",
        "2.  **Mengekstrak Intercept (`lda_model.intercept_`)**:\n",
        "    *   Atribut `intercept_` pada objek model LDA berisi nilai konstanta (bias) dari fungsi diskriminan.\n",
        "    *   Untuk klasifikasi biner, ini adalah array 1D dengan satu elemen.\n",
        "3.  **Menyajikan Fungsi Diskriminan**:\n",
        "    *   Dengan koefisien dan intercept yang telah diekstrak, fungsi diskriminan linier dapat dituliskan secara eksplisit.\n",
        "    *   Penting untuk diingat bahwa koefisien ini berlaku untuk fitur yang **telah diskalakan** (jika penskalaan dilakukan sebelumnya, seperti `StandardScaler`).\n",
        "\n",
        "Memahami koefisien ini dapat memberikan wawasan tentang fitur mana yang paling penting dalam membedakan antar kelas menurut model LDA."
      ],
      "metadata": {
        "id": "NYn8SHghJtnS"
      }
    },
    {
      "cell_type": "markdown",
      "source": [
        "### **5.1. Mengekstrak Koefisien**\n"
      ],
      "metadata": {
        "id": "8poCCfotJw_h"
      }
    },
    {
      "cell_type": "code",
      "source": [
        "# lda_model.coef_ adalah array 2D, untuk klasifikasi biner, ini akan menjadi (1, n_features)\n",
        "coefficients = lda_model.coef_[0] # Ambil baris pertama karena hanya ada 1 fungsi diskriminan"
      ],
      "metadata": {
        "id": "uVVe4h9VJufS"
      },
      "execution_count": null,
      "outputs": []
    },
    {
      "cell_type": "markdown",
      "source": [
        "Membuat Series Pandas untuk menampilkan koefisien dengan nama fitur"
      ],
      "metadata": {
        "id": "adwE8fKOJ49X"
      }
    },
    {
      "cell_type": "code",
      "source": [
        "coeffs_df = pd.DataFrame(coefficients, index=feature_columns, columns=['Coefficient'])\n",
        "print(\"Discriminant Function Coefficients (for scaled features):\")\n",
        "print(coeffs_df)"
      ],
      "metadata": {
        "id": "SVELjA_EJ8XC"
      },
      "execution_count": null,
      "outputs": []
    },
    {
      "cell_type": "markdown",
      "source": [
        "### **5.2. Mengekstrak Intercept**"
      ],
      "metadata": {
        "id": "NyKylzA0J8EX"
      }
    },
    {
      "cell_type": "code",
      "source": [
        "intercept = lda_model.intercept_[0] # Intercept juga array, ambil elemen pertamanya\n",
        "print(f\"Intercept of the Discriminant Function: {intercept:.4f}\")"
      ],
      "metadata": {
        "id": "n6XDH7kSKHMp"
      },
      "execution_count": null,
      "outputs": []
    },
    {
      "cell_type": "markdown",
      "source": [
        "### **5.3. Menyajikan Fungsi Diskriminan Linier**"
      ],
      "metadata": {
        "id": "ugzFH-0oKJ1-"
      }
    },
    {
      "cell_type": "code",
      "source": [
        "# Fungsi: LD_score = (Coefficient_BP * Scaled_BloodPressure) + (Coefficient_Age * Scaled_Age) + Intercept\n",
        "# Klasifikasi: Jika LD_score > 0, prediksi kelas 1 (atau kelas dengan label lebih tinggi), jika < 0, prediksi kelas 0 (atau kelas dengan label lebih rendah).\n",
        "# (Catatan: Scikit-learn menangani ambang batasnya secara internal berdasarkan nilai output dari lda_model.decision_function())\n",
        "\n",
        "function_string = f\"LD_Score = ({coefficients[0]:.4f} * Scaled_BloodPressure) + ({coefficients[1]:.4f} * Scaled_Age) + ({intercept:.4f})\"\n",
        "print(\"Linear Discriminant Function:\")\n",
        "print(function_string)"
      ],
      "metadata": {
        "id": "GzalDnMXKO2f"
      },
      "execution_count": null,
      "outputs": []
    },
    {
      "cell_type": "code",
      "source": [
        "print(\"\\nPenjelasan Fungsi:\")\n",
        "print(\"Klasifikasi umumnya dilakukan berdasarkan tanda dari LD_Score:\")\n",
        "print(f\"  - Jika LD_Score > 0, observasi cenderung diklasifikasikan sebagai Cluster {lda_model.classes_[1]}.\") # Asumsi kelas 1 adalah kelas \"positif\"\n",
        "print(f\"  - Jika LD_Score < 0, observasi cenderung diklasifikasikan sebagai Cluster {lda_model.classes_[0]}.\") # Asumsi kelas 0 adalah kelas \"negatif\"\n",
        "print(\"(Ambang batas sebenarnya yang digunakan oleh `predict` bisa sedikit berbeda dari 0 ketat, namun ini adalah interpretasi umumnya).\")\n",
        "\n",
        "# Verifikasi manual dengan decision_function untuk satu sampel\n",
        "# Ambil satu sampel dari X_test_scaled\n",
        "sample_scaled = X_test_scaled[0]\n",
        "manual_ld_score = np.dot(sample_scaled, coefficients) + intercept\n",
        "sklearn_decision_value = lda_model.decision_function(sample_scaled.reshape(1, -1))[0]\n",
        "predicted_class_for_sample = lda_model.predict(sample_scaled.reshape(1, -1))[0]\n",
        "\n",
        "\n",
        "print(f\"\\nContoh perhitungan untuk sampel pertama dari X_test_scaled:\")\n",
        "print(f\"  Scaled_BloodPressure: {sample_scaled[0]:.4f}, Scaled_Age: {sample_scaled[1]:.4f}\")\n",
        "print(f\"  Manual LD_Score calculated: ({coefficients[0]:.4f} * {sample_scaled[0]:.4f}) + ({coefficients[1]:.4f} * {sample_scaled[1]:.4f}) + ({intercept:.4f}) = {manual_ld_score:.4f}\")\n",
        "print(f\"  Scikit-learn decision_function value: {sklearn_decision_value:.4f}\")\n",
        "print(f\"  Predicted class by lda_model.predict(): Cluster {predicted_class_for_sample}\")\n",
        "print(f\"  Actual class for this sample (from y_test): Cluster {y_test.iloc[0]}\")"
      ],
      "metadata": {
        "id": "pOdwsP0bKPw8"
      },
      "execution_count": null,
      "outputs": []
    },
    {
      "cell_type": "markdown",
      "source": [
        "### **6. Visualization**"
      ],
      "metadata": {
        "id": "I4Zr7NBDKoRM"
      }
    },
    {
      "cell_type": "markdown",
      "source": [
        "Visualisasi dapat memberikan pemahaman intuitif tentang bagaimana model LDA bekerja dan bagaimana data dipisahkan.\n",
        "\n",
        "1.  **Distribusi Fitur per Kelas**:\n",
        "    *   Membuat histogram atau density plot untuk setiap fitur (`BloodPressure` dan `Age`), yang diwarnai berdasarkan kelas (`Cluster`). Ini membantu untuk melihat apakah ada perbedaan distribusi yang jelas antara dua kelas untuk masing-masing fitur.\n",
        "2.  **Scatter Plot Fitur Asli dengan Batas Keputusan LDA**:\n",
        "    *   Karena kita memiliki dua fitur, data asli (sebelum atau sesudah penskalaan) dapat divisualisasikan dalam scatter plot 2D.\n",
        "    *   Batas keputusan (decision boundary) yang dipelajari oleh LDA dapat digambarkan sebagai garis pada plot ini. Garis ini memisahkan area di mana model akan memprediksi Kelas 0 dari area di mana ia akan memprediksi Kelas 1.\n",
        "    *   Untuk mendapatkan garis batas keputusan, kita bisa menggunakan koefisien dan intercept dari model LDA. Batas keputusan adalah tempat di mana fungsi diskriminan (atau `decision_function`) sama dengan nol.\n",
        "        `coef₁ * x₁_scaled + coef₂ * x₂_scaled + intercept = 0`\n",
        "        Jika kita menggunakan data yang diskalakan, `x₁_scaled` dan `x₂_scaled` adalah variabelnya. Kita bisa mengekspresikan salah satu variabel dalam bentuk yang lain untuk menggambar garisnya. Misal, `x₂_scaled = (-coef₁ * x₁_scaled - intercept) / coef₂`. Kemudian, nilai-nilai `x₁_scaled` dan `x₂_scaled` ini perlu di-transformasikan kembali ke skala fitur asli jika kita ingin menggambar batas keputusan pada plot fitur asli.\n",
        "3.  **Distribusi Skor Diskriminan (LD Scores)**:\n",
        "    *   Model LDA memproyeksikan data ke satu sumbu diskriminan (karena ini adalah masalah klasifikasi biner). Kita bisa menghitung skor diskriminan (proyeksi) untuk setiap titik data pada sumbu ini.\n",
        "    *   Membuat histogram atau density plot dari skor diskriminan ini, yang diwarnai berdasarkan kelas aktual, dapat menunjukkan seberapa baik sumbu diskriminan tersebut memisahkan kedua kelas. Idealnya, distribusi skor untuk kedua kelas akan memiliki tumpang tindih (overlap) yang minimal.\n",
        "    *   Skor ini bisa didapatkan dari `lda_model.transform(X_scaled)`.\n",
        "\n",
        "Visualisasi ini membantu dalam interpretasi model dan identifikasi apakah asumsi LDA (seperti distribusi normal dan kesamaan kovarians) mungkin terpenuhi secara kasar."
      ],
      "metadata": {
        "id": "v1w2CftTKrCz"
      }
    },
    {
      "cell_type": "markdown",
      "source": [
        "### **6.1. Distribusi Fitur per Kelas**"
      ],
      "metadata": {
        "id": "7sRUbSmwKvV8"
      }
    },
    {
      "cell_type": "code",
      "source": [
        "plt.figure(figsize=(14, 6))\n",
        "\n",
        "plt.subplot(1, 2, 1)\n",
        "sns.histplot(data=df, x='BloodPressure', hue='Cluster', kde=True, palette='viridis')\n",
        "plt.title('Distribution of BloodPressure by Cluster')\n",
        "plt.xlabel('BloodPressure')\n",
        "plt.ylabel('Frequency')\n",
        "\n",
        "plt.subplot(1, 2, 2)\n",
        "sns.histplot(data=df, x='Age', hue='Cluster', kde=True, palette='viridis')\n",
        "plt.title('Distribution of Age by Cluster')\n",
        "plt.xlabel('Age')\n",
        "plt.ylabel('Frequency')\n",
        "\n",
        "plt.tight_layout()\n",
        "plt.show()"
      ],
      "metadata": {
        "id": "3TFa3mMRKznU"
      },
      "execution_count": null,
      "outputs": []
    },
    {
      "cell_type": "markdown",
      "source": [
        "### **6.2. Scatter Plot Fitur (Scaled) dengan Batas Keputusan LDA**"
      ],
      "metadata": {
        "id": "bT_F9XK2K1y4"
      }
    },
    {
      "cell_type": "code",
      "source": [
        "# Kita akan menggunakan data yang diskalakan karena model dilatih padanya.\n",
        "# Ambil koefisien dan intercept dari model LDA\n",
        "coef = lda_model.coef_[0]\n",
        "intercept = lda_model.intercept_[0]\n",
        "\n",
        "# Membuat meshgrid untuk plot batas keputusan\n",
        "# Kita perlu menentukan rentang untuk x1_scaled (BloodPressure_scaled)\n",
        "# dan kemudian hitung x2_scaled (Age_scaled) berdasarkan persamaan batas keputusan.\n",
        "# Persamaan batas: coef[0]*x1_s + coef[1]*x2_s + intercept = 0\n",
        "# Maka, x2_s = (-coef[0]*x1_s - intercept) / coef[1]\n",
        "\n",
        "# Plot data yang diskalakan dari set pelatihan (atau bisa juga keseluruhan data yang diskalakan)\n",
        "X_scaled_df = pd.DataFrame(scaler.transform(X), columns=feature_columns) # Skalakan seluruh X\n",
        "X_scaled_df['Cluster'] = y.values # Tambahkan kolom cluster untuk pewarnaan\n",
        "\n",
        "plt.figure(figsize=(10, 7))\n",
        "sns.scatterplot(data=X_scaled_df, x='BloodPressure', y='Age', hue='Cluster', palette='viridis', s=50, alpha=0.7)\n",
        "plt.title('LDA Decision Boundary on Scaled Features')\n",
        "plt.xlabel('Scaled BloodPressure')\n",
        "plt.ylabel('Scaled Age')\n",
        "\n",
        "# Menyiapkan titik-titik untuk garis batas keputusan\n",
        "ax = plt.gca()\n",
        "xlim = ax.get_xlim()\n",
        "ylim = ax.get_ylim()\n",
        "\n",
        "# Buat meshgrid (alternatif: cukup plot garisnya saja)\n",
        "xx = np.linspace(xlim[0], xlim[1], 100)\n",
        "yy = np.linspace(ylim[0], ylim[1], 100)\n",
        "XX, YY = np.meshgrid(xx, yy)\n",
        "Z = lda_model.decision_function(np.c_[XX.ravel(), YY.ravel()])\n",
        "Z = Z.reshape(XX.shape)\n",
        "\n",
        "# Plot batas keputusan (contour di mana decision_function == 0)\n",
        "plt.contour(XX, YY, Z, levels=[0], linewidths=2, colors='red')\n",
        "plt.legend(title='Cluster')\n",
        "plt.show()"
      ],
      "metadata": {
        "id": "m7hDb5GLK54M"
      },
      "execution_count": null,
      "outputs": []
    },
    {
      "cell_type": "markdown",
      "source": [
        "### **6.3. Distribusi Skor Diskriminan (LD Scores)**"
      ],
      "metadata": {
        "id": "6-1p_s-DK7p7"
      }
    },
    {
      "cell_type": "code",
      "source": [
        "# Transformasikan data fitur yang diskalakan (misalnya, X_train_scaled atau X_test_scaled) ke komponen diskriminan\n",
        "# Karena n_components=1, hasilnya akan menjadi array 1D.\n",
        "X_lda_train = lda_model.transform(X_train_scaled)\n",
        "X_lda_test = lda_model.transform(X_test_scaled) # Atau gunakan seluruh data jika diinginkan\n",
        "\n",
        "# Membuat DataFrame untuk kemudahan plotting dengan Seaborn\n",
        "df_lda_scores_train = pd.DataFrame({'LD1_Score': X_lda_train[:, 0], 'Cluster': y_train})\n",
        "df_lda_scores_test = pd.DataFrame({'LD1_Score': X_lda_test[:, 0], 'Cluster': y_test})\n",
        "\n",
        "plt.figure(figsize=(10, 6))\n",
        "sns.histplot(data=df_lda_scores_train, x='LD1_Score', hue='Cluster', kde=True, palette='viridis', stat=\"density\", common_norm=False)\n",
        "plt.title('Distribution of LDA Scores (Training Data) by Cluster')\n",
        "plt.xlabel('LDA Score (LD1)')\n",
        "plt.ylabel('Density')\n",
        "plt.axvline(0, color='grey', linestyle='--', lw=2, label='Decision Threshold (approx.)') # Ambang batas umumnya 0\n",
        "plt.legend()\n",
        "plt.show()\n",
        "\n",
        "plt.figure(figsize=(10, 6))\n",
        "sns.histplot(data=df_lda_scores_test, x='LD1_Score', hue='Cluster', kde=True, palette='viridis', stat=\"density\", common_norm=False)\n",
        "plt.title('Distribution of LDA Scores (Test Data) by Cluster')\n",
        "plt.xlabel('LDA Score (LD1)')\n",
        "plt.ylabel('Density')\n",
        "plt.axvline(0, color='grey', linestyle='--', lw=2, label='Decision Threshold (approx.)')\n",
        "plt.legend()\n",
        "plt.show()"
      ],
      "metadata": {
        "id": "tjgbzFC2K-fV"
      },
      "execution_count": null,
      "outputs": []
    },
    {
      "cell_type": "markdown",
      "source": [
        "## **7. Making Predictions on New Data**"
      ],
      "metadata": {
        "id": "Jjo978CuLVEe"
      }
    },
    {
      "cell_type": "markdown",
      "source": [
        "Setelah model LDA dilatih dan dievaluasi, model tersebut dapat digunakan untuk membuat prediksi pada data baru yang belum pernah dilihat sebelumnya dan tidak memiliki label kelas.\n",
        "\n",
        "1.  **Menyiapkan Data Baru**:\n",
        "    *   Data baru harus memiliki struktur kolom fitur yang sama dengan data yang digunakan untuk melatih model (yaitu, `BloodPressure` dan `Age` dalam kasus ini).\n",
        "    *   Data baru ini akan dibuat sebagai DataFrame Pandas.\n",
        "2.  **Menerapkan Penskalaan Fitur**:\n",
        "    *   Sangat penting untuk menerapkan **transformasi penskalaan yang sama** yang digunakan pada data pelatihan. Ini berarti menggunakan objek `scaler` yang telah di-fit pada `X_train` untuk melakukan `transform` pada data baru.\n",
        "    *   Jangan melakukan `fit` atau `fit_transform` baru pada data baru, karena ini akan menskalakannya berdasarkan statistik data baru itu sendiri, bukan berdasarkan statistik data pelatihan, yang akan menyebabkan inkonsistensi.\n",
        "3.  **Membuat Prediksi**:\n",
        "    *   Metode `predict()` dari `lda_model` digunakan pada data baru yang telah diskalakan untuk mendapatkan prediksi kelas.\n",
        "    *   Metode `predict_proba()` juga dapat digunakan jika ingin mendapatkan probabilitas keanggotaan kelas untuk setiap sampel data baru. LDA secara inheren adalah model linier dan probabilitasnya diestimasi (biasanya dengan menerapkan fungsi logistik atau softmax pada skor diskriminan).\n",
        "    *   Metode `decision_function()` dapat digunakan untuk mendapatkan skor mentah pada sumbu diskriminan.\n",
        "\n",
        "Hasil prediksi ini akan menunjukkan bagaimana model mengklasifikasikan observasi baru berdasarkan pola yang telah dipelajarinya dari data pelatihan."
      ],
      "metadata": {
        "id": "0kTF8hlRLdpp"
      }
    },
    {
      "cell_type": "markdown",
      "source": [
        "### **7.1. Menyiapkan Data Baru**"
      ],
      "metadata": {
        "id": "pjrv5ogULgnQ"
      }
    },
    {
      "cell_type": "code",
      "source": [
        "new_data_dict = {\n",
        "    'BloodPressure': [76, 92, 58, 74, 62, 76, 70, 72, 60, 70],\n",
        "    'Age': [26, 66, 22, 43, 33, 63, 27, 30, 47, 23]\n",
        "}\n",
        "new_df = pd.DataFrame(new_data_dict)\n",
        "\n",
        "print(\"New data to predict:\")\n",
        "print(new_df)"
      ],
      "metadata": {
        "id": "Hza2Vv79LdTl"
      },
      "execution_count": null,
      "outputs": []
    },
    {
      "cell_type": "markdown",
      "source": [
        "### **7.2. Menerapkan Penskalaan Fitur**"
      ],
      "metadata": {
        "id": "8xzmWtI-LmBk"
      }
    },
    {
      "cell_type": "code",
      "source": [
        "# Gunakan scaler yang sudah di-fit pada X_train\n",
        "# scaler ini sudah diinisialisasi dan di-fit di langkah pra-pemrosesan\n",
        "new_df_scaled_array = scaler.transform(new_df)\n",
        "\n",
        "# Untuk kemudahan inspeksi, ubah menjadi DataFrame (opsional)\n",
        "new_df_scaled = pd.DataFrame(new_df_scaled_array, columns=feature_columns)\n",
        "print(\"New data after scaling (using the training set's scaler):\")\n",
        "print(new_df_scaled)"
      ],
      "metadata": {
        "id": "PVWD9wx3LsZG"
      },
      "execution_count": null,
      "outputs": []
    },
    {
      "cell_type": "markdown",
      "source": [
        "### **7.3. Membuat Prediksi**"
      ],
      "metadata": {
        "id": "YQ80-VqELui1"
      }
    },
    {
      "cell_type": "code",
      "source": [
        "# Menggunakan model LDA yang telah dilatih (lda_model)\n",
        "new_predictions_class = lda_model.predict(new_df_scaled_array)\n",
        "new_predictions_proba = lda_model.predict_proba(new_df_scaled_array)\n",
        "new_decision_scores = lda_model.decision_function(new_df_scaled_array)\n",
        "\n",
        "\n",
        "# Menambahkan hasil prediksi ke DataFrame data baru untuk kemudahan analisis\n",
        "new_df['Predicted_Cluster'] = new_predictions_class\n",
        "new_df['Probability_Cluster_0'] = new_predictions_proba[:, 0] # Probabilitas untuk kelas 0\n",
        "new_df['Probability_Cluster_1'] = new_predictions_proba[:, 1] # Probabilitas untuk kelas 1\n",
        "new_df['LD_Score'] = new_decision_scores\n",
        "\n",
        "print(\"New data with predictions and probabilities:\")\n",
        "print(new_df)\n",
        "print(\"\\n\" + \"=\"*50 + \"\\n\")\n",
        "\n",
        "print(\"Interpretation of results:\")\n",
        "for index, row in new_df.iterrows():\n",
        "    print(f\"Sample {index + 1} (BP: {row['BloodPressure']}, Age: {row['Age']}):\")\n",
        "    print(f\"  - Predicted Cluster: {row['Predicted_Cluster']}\")\n",
        "    print(f\"  - Probability for Cluster 0: {row['Probability_Cluster_0']:.4f}\")\n",
        "    print(f\"  - Probability for Cluster 1: {row['Probability_Cluster_1']:.4f}\")\n",
        "    print(f\"  - Raw LDA Score (Decision Function): {row['LD_Score']:.4f}\\n\")\n"
      ],
      "metadata": {
        "id": "21gvsmNbL1_v"
      },
      "execution_count": null,
      "outputs": []
    }
  ]
}