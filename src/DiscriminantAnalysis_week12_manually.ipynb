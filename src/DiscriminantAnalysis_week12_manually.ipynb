{
  "nbformat": 4,
  "nbformat_minor": 0,
  "metadata": {
    "colab": {
      "provenance": [],
      "authorship_tag": "ABX9TyO1Y6j/LzC5ZX76/PRYIEd5",
      "include_colab_link": true
    },
    "kernelspec": {
      "name": "python3",
      "display_name": "Python 3"
    },
    "language_info": {
      "name": "python"
    }
  },
  "cells": [
    {
      "cell_type": "markdown",
      "metadata": {
        "id": "view-in-github",
        "colab_type": "text"
      },
      "source": [
        "<a href=\"https://colab.research.google.com/github/LatiefDataVisionary/multivariate-analysis-college-task/blob/main/src/DiscriminantAnalysis_week12_manually.ipynb\" target=\"_parent\"><img src=\"https://colab.research.google.com/assets/colab-badge.svg\" alt=\"Open In Colab\"/></a>"
      ]
    },
    {
      "cell_type": "markdown",
      "source": [
        "## **1. Library Importation and Data Loading**"
      ],
      "metadata": {
        "id": "8C2w7cYF5Qgn"
      }
    },
    {
      "cell_type": "markdown",
      "source": [
        "Pada bagian awal ini, dilakukan impor terhadap pustaka-pustaka Python yang dibutuhkan dan pemuatan dataset.\n",
        "\n",
        "1.  **Impor Pustaka**:\n",
        "    *   **Pandas**: Digunakan untuk manipulasi data tabular, khususnya untuk membaca file CSV dan bekerja dengan struktur DataFrame.\n",
        "    *   **NumPy**: Merupakan pustaka fundamental untuk komputasi numerik, menyediakan dukungan untuk operasi array dan matriks yang efisien, yang akan sangat berguna dalam perhitungan manual LDA.\n",
        "2.  **Pemuatan Dataset**:\n",
        "    *   Dataset dimuat dari URL yang disediakan (`https://raw.githubusercontent.com/LatiefDataVisionary/multivariate-analysis-college-task/refs/heads/main/datasets/dataset_LDA_2clusters.csv`) menggunakan fungsi `pd.read_csv()` dari Pandas.\n",
        "    *   Hasil pemuatan data disimpan dalam sebuah DataFrame Pandas yang dinamakan `df`.\n",
        "3.  **Inspeksi Awal Data**:\n",
        "    *   `df.head()`: Menampilkan lima baris pertama dari DataFrame untuk mendapatkan gambaran awal mengenai struktur dan isi data.\n",
        "    *   `df.info()`: Memberikan ringkasan informasi tentang DataFrame, termasuk jumlah entri, tipe data setiap kolom, dan jumlah nilai non-null. Ini berguna untuk memeriksa apakah ada data yang hilang atau tipe data yang tidak sesuai.\n",
        "    *   `df.shape`: Menampilkan dimensi dari DataFrame (jumlah baris, jumlah kolom).\n",
        "    *   `df.describe()`: Menampilkan statistik deskriptif dasar untuk kolom-kolom numerik dalam DataFrame, seperti mean, standar deviasi, nilai minimum, maksimum, dan kuartil.\n",
        "\n",
        "Langkah-langkah ini penting untuk memastikan bahwa data telah dimuat dengan benar dan untuk mendapatkan pemahaman awal tentang dataset sebelum melanjutkan ke tahap analisis dan perhitungan selanjutnya."
      ],
      "metadata": {
        "id": "GREY5uTK5e7e"
      }
    },
    {
      "cell_type": "markdown",
      "source": [
        "### **1.1. Import library yang diperlukan**"
      ],
      "metadata": {
        "id": "BVl9mZfg5lfu"
      }
    },
    {
      "cell_type": "code",
      "execution_count": 1,
      "metadata": {
        "id": "57IuZ0zQ4kaV"
      },
      "outputs": [],
      "source": [
        "import pandas as pd\n",
        "import numpy as np"
      ]
    }
  ]
}