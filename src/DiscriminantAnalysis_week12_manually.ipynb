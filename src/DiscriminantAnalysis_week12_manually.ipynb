{
  "nbformat": 4,
  "nbformat_minor": 0,
  "metadata": {
    "colab": {
      "provenance": [],
      "authorship_tag": "ABX9TyPiBYp3eS+0FjzOWyzAebnf",
      "include_colab_link": true
    },
    "kernelspec": {
      "name": "python3",
      "display_name": "Python 3"
    },
    "language_info": {
      "name": "python"
    }
  },
  "cells": [
    {
      "cell_type": "markdown",
      "metadata": {
        "id": "view-in-github",
        "colab_type": "text"
      },
      "source": [
        "<a href=\"https://colab.research.google.com/github/LatiefDataVisionary/multivariate-analysis-college-task/blob/main/src/DiscriminantAnalysis_week12_manually.ipynb\" target=\"_parent\"><img src=\"https://colab.research.google.com/assets/colab-badge.svg\" alt=\"Open In Colab\"/></a>"
      ]
    },
    {
      "cell_type": "markdown",
      "source": [
        "## **1. Library Importation and Data Loading**"
      ],
      "metadata": {
        "id": "8C2w7cYF5Qgn"
      }
    },
    {
      "cell_type": "markdown",
      "source": [
        "Pada bagian awal ini, dilakukan impor terhadap pustaka-pustaka Python yang dibutuhkan dan pemuatan dataset.\n",
        "\n",
        "1.  **Impor Pustaka**:\n",
        "    *   **Pandas**: Digunakan untuk manipulasi data tabular, khususnya untuk membaca file CSV dan bekerja dengan struktur DataFrame.\n",
        "    *   **NumPy**: Merupakan pustaka fundamental untuk komputasi numerik, menyediakan dukungan untuk operasi array dan matriks yang efisien, yang akan sangat berguna dalam perhitungan manual LDA.\n",
        "2.  **Pemuatan Dataset**:\n",
        "    *   Dataset dimuat dari URL yang disediakan (`https://raw.githubusercontent.com/LatiefDataVisionary/multivariate-analysis-college-task/refs/heads/main/datasets/dataset_LDA_2clusters.csv`) menggunakan fungsi `pd.read_csv()` dari Pandas.\n",
        "    *   Hasil pemuatan data disimpan dalam sebuah DataFrame Pandas yang dinamakan `df`.\n",
        "3.  **Inspeksi Awal Data**:\n",
        "    *   `df.head()`: Menampilkan lima baris pertama dari DataFrame untuk mendapatkan gambaran awal mengenai struktur dan isi data.\n",
        "    *   `df.info()`: Memberikan ringkasan informasi tentang DataFrame, termasuk jumlah entri, tipe data setiap kolom, dan jumlah nilai non-null. Ini berguna untuk memeriksa apakah ada data yang hilang atau tipe data yang tidak sesuai.\n",
        "    *   `df.shape`: Menampilkan dimensi dari DataFrame (jumlah baris, jumlah kolom).\n",
        "    *   `df.describe()`: Menampilkan statistik deskriptif dasar untuk kolom-kolom numerik dalam DataFrame, seperti mean, standar deviasi, nilai minimum, maksimum, dan kuartil.\n",
        "\n",
        "Langkah-langkah ini penting untuk memastikan bahwa data telah dimuat dengan benar dan untuk mendapatkan pemahaman awal tentang dataset sebelum melanjutkan ke tahap analisis dan perhitungan selanjutnya."
      ],
      "metadata": {
        "id": "GREY5uTK5e7e"
      }
    },
    {
      "cell_type": "markdown",
      "source": [
        "### **1.1. Import library yang diperlukan**"
      ],
      "metadata": {
        "id": "BVl9mZfg5lfu"
      }
    },
    {
      "cell_type": "code",
      "execution_count": null,
      "metadata": {
        "id": "57IuZ0zQ4kaV"
      },
      "outputs": [],
      "source": [
        "import pandas as pd\n",
        "import numpy as np\n",
        "import matplotlib.pyplot as plt"
      ]
    },
    {
      "cell_type": "markdown",
      "source": [
        "### **1.2. Pemuatan dataset dari URL**"
      ],
      "metadata": {
        "id": "LwqzO46P58gG"
      }
    },
    {
      "cell_type": "code",
      "source": [
        "data_url = 'https://raw.githubusercontent.com/LatiefDataVisionary/multivariate-analysis-college-task/refs/heads/main/datasets/dataset_LDA_2clusters.csv'\n",
        "\n",
        "df = pd.read_csv(data_url)"
      ],
      "metadata": {
        "id": "1w-TzKmX5804"
      },
      "execution_count": null,
      "outputs": []
    },
    {
      "cell_type": "markdown",
      "source": [
        "### **1.3. Informasi dataset**"
      ],
      "metadata": {
        "id": "EDT0tN3v6KZ_"
      }
    },
    {
      "cell_type": "code",
      "source": [
        "df.head(10)"
      ],
      "metadata": {
        "colab": {
          "base_uri": "https://localhost:8080/",
          "height": 363
        },
        "id": "azhBccIJ6Spm",
        "outputId": "4ed4a5d7-ed4d-4e92-d805-3683f2d1d495"
      },
      "execution_count": null,
      "outputs": [
        {
          "output_type": "execute_result",
          "data": {
            "text/plain": [
              "   BloodPressure  Age  Cluster\n",
              "0             72   50        0\n",
              "1             66   31        1\n",
              "2             64   32        1\n",
              "3             66   21        1\n",
              "4             40   33        1\n",
              "5             74   30        1\n",
              "6             50   26        1\n",
              "7             72   29        1\n",
              "8             70   53        0\n",
              "9             96   54        0"
            ],
            "text/html": [
              "\n",
              "  <div id=\"df-284433e1-967d-47b8-9371-86c040faf5bd\" class=\"colab-df-container\">\n",
              "    <div>\n",
              "<style scoped>\n",
              "    .dataframe tbody tr th:only-of-type {\n",
              "        vertical-align: middle;\n",
              "    }\n",
              "\n",
              "    .dataframe tbody tr th {\n",
              "        vertical-align: top;\n",
              "    }\n",
              "\n",
              "    .dataframe thead th {\n",
              "        text-align: right;\n",
              "    }\n",
              "</style>\n",
              "<table border=\"1\" class=\"dataframe\">\n",
              "  <thead>\n",
              "    <tr style=\"text-align: right;\">\n",
              "      <th></th>\n",
              "      <th>BloodPressure</th>\n",
              "      <th>Age</th>\n",
              "      <th>Cluster</th>\n",
              "    </tr>\n",
              "  </thead>\n",
              "  <tbody>\n",
              "    <tr>\n",
              "      <th>0</th>\n",
              "      <td>72</td>\n",
              "      <td>50</td>\n",
              "      <td>0</td>\n",
              "    </tr>\n",
              "    <tr>\n",
              "      <th>1</th>\n",
              "      <td>66</td>\n",
              "      <td>31</td>\n",
              "      <td>1</td>\n",
              "    </tr>\n",
              "    <tr>\n",
              "      <th>2</th>\n",
              "      <td>64</td>\n",
              "      <td>32</td>\n",
              "      <td>1</td>\n",
              "    </tr>\n",
              "    <tr>\n",
              "      <th>3</th>\n",
              "      <td>66</td>\n",
              "      <td>21</td>\n",
              "      <td>1</td>\n",
              "    </tr>\n",
              "    <tr>\n",
              "      <th>4</th>\n",
              "      <td>40</td>\n",
              "      <td>33</td>\n",
              "      <td>1</td>\n",
              "    </tr>\n",
              "    <tr>\n",
              "      <th>5</th>\n",
              "      <td>74</td>\n",
              "      <td>30</td>\n",
              "      <td>1</td>\n",
              "    </tr>\n",
              "    <tr>\n",
              "      <th>6</th>\n",
              "      <td>50</td>\n",
              "      <td>26</td>\n",
              "      <td>1</td>\n",
              "    </tr>\n",
              "    <tr>\n",
              "      <th>7</th>\n",
              "      <td>72</td>\n",
              "      <td>29</td>\n",
              "      <td>1</td>\n",
              "    </tr>\n",
              "    <tr>\n",
              "      <th>8</th>\n",
              "      <td>70</td>\n",
              "      <td>53</td>\n",
              "      <td>0</td>\n",
              "    </tr>\n",
              "    <tr>\n",
              "      <th>9</th>\n",
              "      <td>96</td>\n",
              "      <td>54</td>\n",
              "      <td>0</td>\n",
              "    </tr>\n",
              "  </tbody>\n",
              "</table>\n",
              "</div>\n",
              "    <div class=\"colab-df-buttons\">\n",
              "\n",
              "  <div class=\"colab-df-container\">\n",
              "    <button class=\"colab-df-convert\" onclick=\"convertToInteractive('df-284433e1-967d-47b8-9371-86c040faf5bd')\"\n",
              "            title=\"Convert this dataframe to an interactive table.\"\n",
              "            style=\"display:none;\">\n",
              "\n",
              "  <svg xmlns=\"http://www.w3.org/2000/svg\" height=\"24px\" viewBox=\"0 -960 960 960\">\n",
              "    <path d=\"M120-120v-720h720v720H120Zm60-500h600v-160H180v160Zm220 220h160v-160H400v160Zm0 220h160v-160H400v160ZM180-400h160v-160H180v160Zm440 0h160v-160H620v160ZM180-180h160v-160H180v160Zm440 0h160v-160H620v160Z\"/>\n",
              "  </svg>\n",
              "    </button>\n",
              "\n",
              "  <style>\n",
              "    .colab-df-container {\n",
              "      display:flex;\n",
              "      gap: 12px;\n",
              "    }\n",
              "\n",
              "    .colab-df-convert {\n",
              "      background-color: #E8F0FE;\n",
              "      border: none;\n",
              "      border-radius: 50%;\n",
              "      cursor: pointer;\n",
              "      display: none;\n",
              "      fill: #1967D2;\n",
              "      height: 32px;\n",
              "      padding: 0 0 0 0;\n",
              "      width: 32px;\n",
              "    }\n",
              "\n",
              "    .colab-df-convert:hover {\n",
              "      background-color: #E2EBFA;\n",
              "      box-shadow: 0px 1px 2px rgba(60, 64, 67, 0.3), 0px 1px 3px 1px rgba(60, 64, 67, 0.15);\n",
              "      fill: #174EA6;\n",
              "    }\n",
              "\n",
              "    .colab-df-buttons div {\n",
              "      margin-bottom: 4px;\n",
              "    }\n",
              "\n",
              "    [theme=dark] .colab-df-convert {\n",
              "      background-color: #3B4455;\n",
              "      fill: #D2E3FC;\n",
              "    }\n",
              "\n",
              "    [theme=dark] .colab-df-convert:hover {\n",
              "      background-color: #434B5C;\n",
              "      box-shadow: 0px 1px 3px 1px rgba(0, 0, 0, 0.15);\n",
              "      filter: drop-shadow(0px 1px 2px rgba(0, 0, 0, 0.3));\n",
              "      fill: #FFFFFF;\n",
              "    }\n",
              "  </style>\n",
              "\n",
              "    <script>\n",
              "      const buttonEl =\n",
              "        document.querySelector('#df-284433e1-967d-47b8-9371-86c040faf5bd button.colab-df-convert');\n",
              "      buttonEl.style.display =\n",
              "        google.colab.kernel.accessAllowed ? 'block' : 'none';\n",
              "\n",
              "      async function convertToInteractive(key) {\n",
              "        const element = document.querySelector('#df-284433e1-967d-47b8-9371-86c040faf5bd');\n",
              "        const dataTable =\n",
              "          await google.colab.kernel.invokeFunction('convertToInteractive',\n",
              "                                                    [key], {});\n",
              "        if (!dataTable) return;\n",
              "\n",
              "        const docLinkHtml = 'Like what you see? Visit the ' +\n",
              "          '<a target=\"_blank\" href=https://colab.research.google.com/notebooks/data_table.ipynb>data table notebook</a>'\n",
              "          + ' to learn more about interactive tables.';\n",
              "        element.innerHTML = '';\n",
              "        dataTable['output_type'] = 'display_data';\n",
              "        await google.colab.output.renderOutput(dataTable, element);\n",
              "        const docLink = document.createElement('div');\n",
              "        docLink.innerHTML = docLinkHtml;\n",
              "        element.appendChild(docLink);\n",
              "      }\n",
              "    </script>\n",
              "  </div>\n",
              "\n",
              "\n",
              "    <div id=\"df-c3643acd-fedd-420a-adb1-7094763cac5c\">\n",
              "      <button class=\"colab-df-quickchart\" onclick=\"quickchart('df-c3643acd-fedd-420a-adb1-7094763cac5c')\"\n",
              "                title=\"Suggest charts\"\n",
              "                style=\"display:none;\">\n",
              "\n",
              "<svg xmlns=\"http://www.w3.org/2000/svg\" height=\"24px\"viewBox=\"0 0 24 24\"\n",
              "     width=\"24px\">\n",
              "    <g>\n",
              "        <path d=\"M19 3H5c-1.1 0-2 .9-2 2v14c0 1.1.9 2 2 2h14c1.1 0 2-.9 2-2V5c0-1.1-.9-2-2-2zM9 17H7v-7h2v7zm4 0h-2V7h2v10zm4 0h-2v-4h2v4z\"/>\n",
              "    </g>\n",
              "</svg>\n",
              "      </button>\n",
              "\n",
              "<style>\n",
              "  .colab-df-quickchart {\n",
              "      --bg-color: #E8F0FE;\n",
              "      --fill-color: #1967D2;\n",
              "      --hover-bg-color: #E2EBFA;\n",
              "      --hover-fill-color: #174EA6;\n",
              "      --disabled-fill-color: #AAA;\n",
              "      --disabled-bg-color: #DDD;\n",
              "  }\n",
              "\n",
              "  [theme=dark] .colab-df-quickchart {\n",
              "      --bg-color: #3B4455;\n",
              "      --fill-color: #D2E3FC;\n",
              "      --hover-bg-color: #434B5C;\n",
              "      --hover-fill-color: #FFFFFF;\n",
              "      --disabled-bg-color: #3B4455;\n",
              "      --disabled-fill-color: #666;\n",
              "  }\n",
              "\n",
              "  .colab-df-quickchart {\n",
              "    background-color: var(--bg-color);\n",
              "    border: none;\n",
              "    border-radius: 50%;\n",
              "    cursor: pointer;\n",
              "    display: none;\n",
              "    fill: var(--fill-color);\n",
              "    height: 32px;\n",
              "    padding: 0;\n",
              "    width: 32px;\n",
              "  }\n",
              "\n",
              "  .colab-df-quickchart:hover {\n",
              "    background-color: var(--hover-bg-color);\n",
              "    box-shadow: 0 1px 2px rgba(60, 64, 67, 0.3), 0 1px 3px 1px rgba(60, 64, 67, 0.15);\n",
              "    fill: var(--button-hover-fill-color);\n",
              "  }\n",
              "\n",
              "  .colab-df-quickchart-complete:disabled,\n",
              "  .colab-df-quickchart-complete:disabled:hover {\n",
              "    background-color: var(--disabled-bg-color);\n",
              "    fill: var(--disabled-fill-color);\n",
              "    box-shadow: none;\n",
              "  }\n",
              "\n",
              "  .colab-df-spinner {\n",
              "    border: 2px solid var(--fill-color);\n",
              "    border-color: transparent;\n",
              "    border-bottom-color: var(--fill-color);\n",
              "    animation:\n",
              "      spin 1s steps(1) infinite;\n",
              "  }\n",
              "\n",
              "  @keyframes spin {\n",
              "    0% {\n",
              "      border-color: transparent;\n",
              "      border-bottom-color: var(--fill-color);\n",
              "      border-left-color: var(--fill-color);\n",
              "    }\n",
              "    20% {\n",
              "      border-color: transparent;\n",
              "      border-left-color: var(--fill-color);\n",
              "      border-top-color: var(--fill-color);\n",
              "    }\n",
              "    30% {\n",
              "      border-color: transparent;\n",
              "      border-left-color: var(--fill-color);\n",
              "      border-top-color: var(--fill-color);\n",
              "      border-right-color: var(--fill-color);\n",
              "    }\n",
              "    40% {\n",
              "      border-color: transparent;\n",
              "      border-right-color: var(--fill-color);\n",
              "      border-top-color: var(--fill-color);\n",
              "    }\n",
              "    60% {\n",
              "      border-color: transparent;\n",
              "      border-right-color: var(--fill-color);\n",
              "    }\n",
              "    80% {\n",
              "      border-color: transparent;\n",
              "      border-right-color: var(--fill-color);\n",
              "      border-bottom-color: var(--fill-color);\n",
              "    }\n",
              "    90% {\n",
              "      border-color: transparent;\n",
              "      border-bottom-color: var(--fill-color);\n",
              "    }\n",
              "  }\n",
              "</style>\n",
              "\n",
              "      <script>\n",
              "        async function quickchart(key) {\n",
              "          const quickchartButtonEl =\n",
              "            document.querySelector('#' + key + ' button');\n",
              "          quickchartButtonEl.disabled = true;  // To prevent multiple clicks.\n",
              "          quickchartButtonEl.classList.add('colab-df-spinner');\n",
              "          try {\n",
              "            const charts = await google.colab.kernel.invokeFunction(\n",
              "                'suggestCharts', [key], {});\n",
              "          } catch (error) {\n",
              "            console.error('Error during call to suggestCharts:', error);\n",
              "          }\n",
              "          quickchartButtonEl.classList.remove('colab-df-spinner');\n",
              "          quickchartButtonEl.classList.add('colab-df-quickchart-complete');\n",
              "        }\n",
              "        (() => {\n",
              "          let quickchartButtonEl =\n",
              "            document.querySelector('#df-c3643acd-fedd-420a-adb1-7094763cac5c button');\n",
              "          quickchartButtonEl.style.display =\n",
              "            google.colab.kernel.accessAllowed ? 'block' : 'none';\n",
              "        })();\n",
              "      </script>\n",
              "    </div>\n",
              "\n",
              "    </div>\n",
              "  </div>\n"
            ],
            "application/vnd.google.colaboratory.intrinsic+json": {
              "type": "dataframe",
              "variable_name": "df",
              "summary": "{\n  \"name\": \"df\",\n  \"rows\": 600,\n  \"fields\": [\n    {\n      \"column\": \"BloodPressure\",\n      \"properties\": {\n        \"dtype\": \"number\",\n        \"std\": 11,\n        \"min\": 24,\n        \"max\": 122,\n        \"num_unique_values\": 44,\n        \"samples\": [\n          95,\n          62,\n          85\n        ],\n        \"semantic_type\": \"\",\n        \"description\": \"\"\n      }\n    },\n    {\n      \"column\": \"Age\",\n      \"properties\": {\n        \"dtype\": \"number\",\n        \"std\": 11,\n        \"min\": 21,\n        \"max\": 81,\n        \"num_unique_values\": 50,\n        \"samples\": [\n          51,\n          55,\n          58\n        ],\n        \"semantic_type\": \"\",\n        \"description\": \"\"\n      }\n    },\n    {\n      \"column\": \"Cluster\",\n      \"properties\": {\n        \"dtype\": \"number\",\n        \"std\": 0,\n        \"min\": 0,\n        \"max\": 1,\n        \"num_unique_values\": 2,\n        \"samples\": [\n          1,\n          0\n        ],\n        \"semantic_type\": \"\",\n        \"description\": \"\"\n      }\n    }\n  ]\n}"
            }
          },
          "metadata": {},
          "execution_count": 3
        }
      ]
    },
    {
      "cell_type": "code",
      "source": [
        "df.info()"
      ],
      "metadata": {
        "colab": {
          "base_uri": "https://localhost:8080/"
        },
        "id": "TjOE_idG6UFB",
        "outputId": "8fe37d0b-76d2-4f28-d086-a423717a8a72"
      },
      "execution_count": null,
      "outputs": [
        {
          "output_type": "stream",
          "name": "stdout",
          "text": [
            "<class 'pandas.core.frame.DataFrame'>\n",
            "RangeIndex: 600 entries, 0 to 599\n",
            "Data columns (total 3 columns):\n",
            " #   Column         Non-Null Count  Dtype\n",
            "---  ------         --------------  -----\n",
            " 0   BloodPressure  600 non-null    int64\n",
            " 1   Age            600 non-null    int64\n",
            " 2   Cluster        600 non-null    int64\n",
            "dtypes: int64(3)\n",
            "memory usage: 14.2 KB\n"
          ]
        }
      ]
    },
    {
      "cell_type": "code",
      "source": [
        "df.shape"
      ],
      "metadata": {
        "colab": {
          "base_uri": "https://localhost:8080/"
        },
        "id": "6xdV_1-T6Vey",
        "outputId": "26750f3b-f7d6-41ea-cb0b-8f9e8495a750"
      },
      "execution_count": null,
      "outputs": [
        {
          "output_type": "execute_result",
          "data": {
            "text/plain": [
              "(600, 3)"
            ]
          },
          "metadata": {},
          "execution_count": 6
        }
      ]
    },
    {
      "cell_type": "code",
      "source": [
        "df.describe()"
      ],
      "metadata": {
        "colab": {
          "base_uri": "https://localhost:8080/",
          "height": 300
        },
        "id": "p9kTZt-O6aC6",
        "outputId": "4d9c54a7-e3e5-41b3-f149-4ab3fb4b33c7"
      },
      "execution_count": null,
      "outputs": [
        {
          "output_type": "execute_result",
          "data": {
            "text/plain": [
              "       BloodPressure         Age     Cluster\n",
              "count     600.000000  600.000000  600.000000\n",
              "mean       72.041667   33.278333    0.651667\n",
              "std        11.980086   11.822315    0.476840\n",
              "min        24.000000   21.000000    0.000000\n",
              "25%        64.000000   24.000000    0.000000\n",
              "50%        72.000000   29.000000    1.000000\n",
              "75%        80.000000   40.000000    1.000000\n",
              "max       122.000000   81.000000    1.000000"
            ],
            "text/html": [
              "\n",
              "  <div id=\"df-03a6a345-460d-4af5-b075-aa03e1db2584\" class=\"colab-df-container\">\n",
              "    <div>\n",
              "<style scoped>\n",
              "    .dataframe tbody tr th:only-of-type {\n",
              "        vertical-align: middle;\n",
              "    }\n",
              "\n",
              "    .dataframe tbody tr th {\n",
              "        vertical-align: top;\n",
              "    }\n",
              "\n",
              "    .dataframe thead th {\n",
              "        text-align: right;\n",
              "    }\n",
              "</style>\n",
              "<table border=\"1\" class=\"dataframe\">\n",
              "  <thead>\n",
              "    <tr style=\"text-align: right;\">\n",
              "      <th></th>\n",
              "      <th>BloodPressure</th>\n",
              "      <th>Age</th>\n",
              "      <th>Cluster</th>\n",
              "    </tr>\n",
              "  </thead>\n",
              "  <tbody>\n",
              "    <tr>\n",
              "      <th>count</th>\n",
              "      <td>600.000000</td>\n",
              "      <td>600.000000</td>\n",
              "      <td>600.000000</td>\n",
              "    </tr>\n",
              "    <tr>\n",
              "      <th>mean</th>\n",
              "      <td>72.041667</td>\n",
              "      <td>33.278333</td>\n",
              "      <td>0.651667</td>\n",
              "    </tr>\n",
              "    <tr>\n",
              "      <th>std</th>\n",
              "      <td>11.980086</td>\n",
              "      <td>11.822315</td>\n",
              "      <td>0.476840</td>\n",
              "    </tr>\n",
              "    <tr>\n",
              "      <th>min</th>\n",
              "      <td>24.000000</td>\n",
              "      <td>21.000000</td>\n",
              "      <td>0.000000</td>\n",
              "    </tr>\n",
              "    <tr>\n",
              "      <th>25%</th>\n",
              "      <td>64.000000</td>\n",
              "      <td>24.000000</td>\n",
              "      <td>0.000000</td>\n",
              "    </tr>\n",
              "    <tr>\n",
              "      <th>50%</th>\n",
              "      <td>72.000000</td>\n",
              "      <td>29.000000</td>\n",
              "      <td>1.000000</td>\n",
              "    </tr>\n",
              "    <tr>\n",
              "      <th>75%</th>\n",
              "      <td>80.000000</td>\n",
              "      <td>40.000000</td>\n",
              "      <td>1.000000</td>\n",
              "    </tr>\n",
              "    <tr>\n",
              "      <th>max</th>\n",
              "      <td>122.000000</td>\n",
              "      <td>81.000000</td>\n",
              "      <td>1.000000</td>\n",
              "    </tr>\n",
              "  </tbody>\n",
              "</table>\n",
              "</div>\n",
              "    <div class=\"colab-df-buttons\">\n",
              "\n",
              "  <div class=\"colab-df-container\">\n",
              "    <button class=\"colab-df-convert\" onclick=\"convertToInteractive('df-03a6a345-460d-4af5-b075-aa03e1db2584')\"\n",
              "            title=\"Convert this dataframe to an interactive table.\"\n",
              "            style=\"display:none;\">\n",
              "\n",
              "  <svg xmlns=\"http://www.w3.org/2000/svg\" height=\"24px\" viewBox=\"0 -960 960 960\">\n",
              "    <path d=\"M120-120v-720h720v720H120Zm60-500h600v-160H180v160Zm220 220h160v-160H400v160Zm0 220h160v-160H400v160ZM180-400h160v-160H180v160Zm440 0h160v-160H620v160ZM180-180h160v-160H180v160Zm440 0h160v-160H620v160Z\"/>\n",
              "  </svg>\n",
              "    </button>\n",
              "\n",
              "  <style>\n",
              "    .colab-df-container {\n",
              "      display:flex;\n",
              "      gap: 12px;\n",
              "    }\n",
              "\n",
              "    .colab-df-convert {\n",
              "      background-color: #E8F0FE;\n",
              "      border: none;\n",
              "      border-radius: 50%;\n",
              "      cursor: pointer;\n",
              "      display: none;\n",
              "      fill: #1967D2;\n",
              "      height: 32px;\n",
              "      padding: 0 0 0 0;\n",
              "      width: 32px;\n",
              "    }\n",
              "\n",
              "    .colab-df-convert:hover {\n",
              "      background-color: #E2EBFA;\n",
              "      box-shadow: 0px 1px 2px rgba(60, 64, 67, 0.3), 0px 1px 3px 1px rgba(60, 64, 67, 0.15);\n",
              "      fill: #174EA6;\n",
              "    }\n",
              "\n",
              "    .colab-df-buttons div {\n",
              "      margin-bottom: 4px;\n",
              "    }\n",
              "\n",
              "    [theme=dark] .colab-df-convert {\n",
              "      background-color: #3B4455;\n",
              "      fill: #D2E3FC;\n",
              "    }\n",
              "\n",
              "    [theme=dark] .colab-df-convert:hover {\n",
              "      background-color: #434B5C;\n",
              "      box-shadow: 0px 1px 3px 1px rgba(0, 0, 0, 0.15);\n",
              "      filter: drop-shadow(0px 1px 2px rgba(0, 0, 0, 0.3));\n",
              "      fill: #FFFFFF;\n",
              "    }\n",
              "  </style>\n",
              "\n",
              "    <script>\n",
              "      const buttonEl =\n",
              "        document.querySelector('#df-03a6a345-460d-4af5-b075-aa03e1db2584 button.colab-df-convert');\n",
              "      buttonEl.style.display =\n",
              "        google.colab.kernel.accessAllowed ? 'block' : 'none';\n",
              "\n",
              "      async function convertToInteractive(key) {\n",
              "        const element = document.querySelector('#df-03a6a345-460d-4af5-b075-aa03e1db2584');\n",
              "        const dataTable =\n",
              "          await google.colab.kernel.invokeFunction('convertToInteractive',\n",
              "                                                    [key], {});\n",
              "        if (!dataTable) return;\n",
              "\n",
              "        const docLinkHtml = 'Like what you see? Visit the ' +\n",
              "          '<a target=\"_blank\" href=https://colab.research.google.com/notebooks/data_table.ipynb>data table notebook</a>'\n",
              "          + ' to learn more about interactive tables.';\n",
              "        element.innerHTML = '';\n",
              "        dataTable['output_type'] = 'display_data';\n",
              "        await google.colab.output.renderOutput(dataTable, element);\n",
              "        const docLink = document.createElement('div');\n",
              "        docLink.innerHTML = docLinkHtml;\n",
              "        element.appendChild(docLink);\n",
              "      }\n",
              "    </script>\n",
              "  </div>\n",
              "\n",
              "\n",
              "    <div id=\"df-0940fdbe-a344-4475-a8a4-13b507997695\">\n",
              "      <button class=\"colab-df-quickchart\" onclick=\"quickchart('df-0940fdbe-a344-4475-a8a4-13b507997695')\"\n",
              "                title=\"Suggest charts\"\n",
              "                style=\"display:none;\">\n",
              "\n",
              "<svg xmlns=\"http://www.w3.org/2000/svg\" height=\"24px\"viewBox=\"0 0 24 24\"\n",
              "     width=\"24px\">\n",
              "    <g>\n",
              "        <path d=\"M19 3H5c-1.1 0-2 .9-2 2v14c0 1.1.9 2 2 2h14c1.1 0 2-.9 2-2V5c0-1.1-.9-2-2-2zM9 17H7v-7h2v7zm4 0h-2V7h2v10zm4 0h-2v-4h2v4z\"/>\n",
              "    </g>\n",
              "</svg>\n",
              "      </button>\n",
              "\n",
              "<style>\n",
              "  .colab-df-quickchart {\n",
              "      --bg-color: #E8F0FE;\n",
              "      --fill-color: #1967D2;\n",
              "      --hover-bg-color: #E2EBFA;\n",
              "      --hover-fill-color: #174EA6;\n",
              "      --disabled-fill-color: #AAA;\n",
              "      --disabled-bg-color: #DDD;\n",
              "  }\n",
              "\n",
              "  [theme=dark] .colab-df-quickchart {\n",
              "      --bg-color: #3B4455;\n",
              "      --fill-color: #D2E3FC;\n",
              "      --hover-bg-color: #434B5C;\n",
              "      --hover-fill-color: #FFFFFF;\n",
              "      --disabled-bg-color: #3B4455;\n",
              "      --disabled-fill-color: #666;\n",
              "  }\n",
              "\n",
              "  .colab-df-quickchart {\n",
              "    background-color: var(--bg-color);\n",
              "    border: none;\n",
              "    border-radius: 50%;\n",
              "    cursor: pointer;\n",
              "    display: none;\n",
              "    fill: var(--fill-color);\n",
              "    height: 32px;\n",
              "    padding: 0;\n",
              "    width: 32px;\n",
              "  }\n",
              "\n",
              "  .colab-df-quickchart:hover {\n",
              "    background-color: var(--hover-bg-color);\n",
              "    box-shadow: 0 1px 2px rgba(60, 64, 67, 0.3), 0 1px 3px 1px rgba(60, 64, 67, 0.15);\n",
              "    fill: var(--button-hover-fill-color);\n",
              "  }\n",
              "\n",
              "  .colab-df-quickchart-complete:disabled,\n",
              "  .colab-df-quickchart-complete:disabled:hover {\n",
              "    background-color: var(--disabled-bg-color);\n",
              "    fill: var(--disabled-fill-color);\n",
              "    box-shadow: none;\n",
              "  }\n",
              "\n",
              "  .colab-df-spinner {\n",
              "    border: 2px solid var(--fill-color);\n",
              "    border-color: transparent;\n",
              "    border-bottom-color: var(--fill-color);\n",
              "    animation:\n",
              "      spin 1s steps(1) infinite;\n",
              "  }\n",
              "\n",
              "  @keyframes spin {\n",
              "    0% {\n",
              "      border-color: transparent;\n",
              "      border-bottom-color: var(--fill-color);\n",
              "      border-left-color: var(--fill-color);\n",
              "    }\n",
              "    20% {\n",
              "      border-color: transparent;\n",
              "      border-left-color: var(--fill-color);\n",
              "      border-top-color: var(--fill-color);\n",
              "    }\n",
              "    30% {\n",
              "      border-color: transparent;\n",
              "      border-left-color: var(--fill-color);\n",
              "      border-top-color: var(--fill-color);\n",
              "      border-right-color: var(--fill-color);\n",
              "    }\n",
              "    40% {\n",
              "      border-color: transparent;\n",
              "      border-right-color: var(--fill-color);\n",
              "      border-top-color: var(--fill-color);\n",
              "    }\n",
              "    60% {\n",
              "      border-color: transparent;\n",
              "      border-right-color: var(--fill-color);\n",
              "    }\n",
              "    80% {\n",
              "      border-color: transparent;\n",
              "      border-right-color: var(--fill-color);\n",
              "      border-bottom-color: var(--fill-color);\n",
              "    }\n",
              "    90% {\n",
              "      border-color: transparent;\n",
              "      border-bottom-color: var(--fill-color);\n",
              "    }\n",
              "  }\n",
              "</style>\n",
              "\n",
              "      <script>\n",
              "        async function quickchart(key) {\n",
              "          const quickchartButtonEl =\n",
              "            document.querySelector('#' + key + ' button');\n",
              "          quickchartButtonEl.disabled = true;  // To prevent multiple clicks.\n",
              "          quickchartButtonEl.classList.add('colab-df-spinner');\n",
              "          try {\n",
              "            const charts = await google.colab.kernel.invokeFunction(\n",
              "                'suggestCharts', [key], {});\n",
              "          } catch (error) {\n",
              "            console.error('Error during call to suggestCharts:', error);\n",
              "          }\n",
              "          quickchartButtonEl.classList.remove('colab-df-spinner');\n",
              "          quickchartButtonEl.classList.add('colab-df-quickchart-complete');\n",
              "        }\n",
              "        (() => {\n",
              "          let quickchartButtonEl =\n",
              "            document.querySelector('#df-0940fdbe-a344-4475-a8a4-13b507997695 button');\n",
              "          quickchartButtonEl.style.display =\n",
              "            google.colab.kernel.accessAllowed ? 'block' : 'none';\n",
              "        })();\n",
              "      </script>\n",
              "    </div>\n",
              "\n",
              "    </div>\n",
              "  </div>\n"
            ],
            "application/vnd.google.colaboratory.intrinsic+json": {
              "type": "dataframe",
              "summary": "{\n  \"name\": \"df\",\n  \"rows\": 8,\n  \"fields\": [\n    {\n      \"column\": \"BloodPressure\",\n      \"properties\": {\n        \"dtype\": \"number\",\n        \"std\": 192.61483986053162,\n        \"min\": 11.980086310299514,\n        \"max\": 600.0,\n        \"num_unique_values\": 8,\n        \"samples\": [\n          72.04166666666667,\n          72.0,\n          600.0\n        ],\n        \"semantic_type\": \"\",\n        \"description\": \"\"\n      }\n    },\n    {\n      \"column\": \"Age\",\n      \"properties\": {\n        \"dtype\": \"number\",\n        \"std\": 201.08458671570187,\n        \"min\": 11.82231544409364,\n        \"max\": 600.0,\n        \"num_unique_values\": 8,\n        \"samples\": [\n          33.278333333333336,\n          29.0,\n          600.0\n        ],\n        \"semantic_type\": \"\",\n        \"description\": \"\"\n      }\n    },\n    {\n      \"column\": \"Cluster\",\n      \"properties\": {\n        \"dtype\": \"number\",\n        \"std\": 211.9239235153149,\n        \"min\": 0.0,\n        \"max\": 600.0,\n        \"num_unique_values\": 5,\n        \"samples\": [\n          0.6516666666666666,\n          1.0,\n          0.47683978706315194\n        ],\n        \"semantic_type\": \"\",\n        \"description\": \"\"\n      }\n    }\n  ]\n}"
            }
          },
          "metadata": {},
          "execution_count": 7
        }
      ]
    },
    {
      "source": [
        "# Menghitung jumlah kemunculan setiap nilai di kolom 'Cluster'\n",
        "counts = df['Cluster'].value_counts()\n",
        "\n",
        "# Menghitung persentase kemunculan setiap nilai di kolom 'Cluster'\n",
        "percentages = df['Cluster'].value_counts(normalize=True) * 100\n",
        "\n",
        "# Menggabungkan kedua hasil ke dalam satu DataFrame\n",
        "result = pd.DataFrame({'Count': counts, 'Percentage': percentages})\n",
        "\n",
        "# Membulatkan kolom 'Percentage' hingga 2 angka di belakang koma\n",
        "result['Percentage'] = result['Percentage'].round(2)\n",
        "\n",
        "# Menampilkan hasilnya yang sudah dibulatkan\n",
        "result"
      ],
      "cell_type": "code",
      "metadata": {
        "colab": {
          "base_uri": "https://localhost:8080/",
          "height": 143
        },
        "id": "rP1-GUVk7EWR",
        "outputId": "ff7bf9a6-60a4-45f2-eca7-60f02a20f364"
      },
      "execution_count": null,
      "outputs": [
        {
          "output_type": "execute_result",
          "data": {
            "text/plain": [
              "         Count  Percentage\n",
              "Cluster                   \n",
              "1          391       65.17\n",
              "0          209       34.83"
            ],
            "text/html": [
              "\n",
              "  <div id=\"df-a545e935-996c-4dcc-b436-032779b5ce08\" class=\"colab-df-container\">\n",
              "    <div>\n",
              "<style scoped>\n",
              "    .dataframe tbody tr th:only-of-type {\n",
              "        vertical-align: middle;\n",
              "    }\n",
              "\n",
              "    .dataframe tbody tr th {\n",
              "        vertical-align: top;\n",
              "    }\n",
              "\n",
              "    .dataframe thead th {\n",
              "        text-align: right;\n",
              "    }\n",
              "</style>\n",
              "<table border=\"1\" class=\"dataframe\">\n",
              "  <thead>\n",
              "    <tr style=\"text-align: right;\">\n",
              "      <th></th>\n",
              "      <th>Count</th>\n",
              "      <th>Percentage</th>\n",
              "    </tr>\n",
              "    <tr>\n",
              "      <th>Cluster</th>\n",
              "      <th></th>\n",
              "      <th></th>\n",
              "    </tr>\n",
              "  </thead>\n",
              "  <tbody>\n",
              "    <tr>\n",
              "      <th>1</th>\n",
              "      <td>391</td>\n",
              "      <td>65.17</td>\n",
              "    </tr>\n",
              "    <tr>\n",
              "      <th>0</th>\n",
              "      <td>209</td>\n",
              "      <td>34.83</td>\n",
              "    </tr>\n",
              "  </tbody>\n",
              "</table>\n",
              "</div>\n",
              "    <div class=\"colab-df-buttons\">\n",
              "\n",
              "  <div class=\"colab-df-container\">\n",
              "    <button class=\"colab-df-convert\" onclick=\"convertToInteractive('df-a545e935-996c-4dcc-b436-032779b5ce08')\"\n",
              "            title=\"Convert this dataframe to an interactive table.\"\n",
              "            style=\"display:none;\">\n",
              "\n",
              "  <svg xmlns=\"http://www.w3.org/2000/svg\" height=\"24px\" viewBox=\"0 -960 960 960\">\n",
              "    <path d=\"M120-120v-720h720v720H120Zm60-500h600v-160H180v160Zm220 220h160v-160H400v160Zm0 220h160v-160H400v160ZM180-400h160v-160H180v160Zm440 0h160v-160H620v160ZM180-180h160v-160H180v160Zm440 0h160v-160H620v160Z\"/>\n",
              "  </svg>\n",
              "    </button>\n",
              "\n",
              "  <style>\n",
              "    .colab-df-container {\n",
              "      display:flex;\n",
              "      gap: 12px;\n",
              "    }\n",
              "\n",
              "    .colab-df-convert {\n",
              "      background-color: #E8F0FE;\n",
              "      border: none;\n",
              "      border-radius: 50%;\n",
              "      cursor: pointer;\n",
              "      display: none;\n",
              "      fill: #1967D2;\n",
              "      height: 32px;\n",
              "      padding: 0 0 0 0;\n",
              "      width: 32px;\n",
              "    }\n",
              "\n",
              "    .colab-df-convert:hover {\n",
              "      background-color: #E2EBFA;\n",
              "      box-shadow: 0px 1px 2px rgba(60, 64, 67, 0.3), 0px 1px 3px 1px rgba(60, 64, 67, 0.15);\n",
              "      fill: #174EA6;\n",
              "    }\n",
              "\n",
              "    .colab-df-buttons div {\n",
              "      margin-bottom: 4px;\n",
              "    }\n",
              "\n",
              "    [theme=dark] .colab-df-convert {\n",
              "      background-color: #3B4455;\n",
              "      fill: #D2E3FC;\n",
              "    }\n",
              "\n",
              "    [theme=dark] .colab-df-convert:hover {\n",
              "      background-color: #434B5C;\n",
              "      box-shadow: 0px 1px 3px 1px rgba(0, 0, 0, 0.15);\n",
              "      filter: drop-shadow(0px 1px 2px rgba(0, 0, 0, 0.3));\n",
              "      fill: #FFFFFF;\n",
              "    }\n",
              "  </style>\n",
              "\n",
              "    <script>\n",
              "      const buttonEl =\n",
              "        document.querySelector('#df-a545e935-996c-4dcc-b436-032779b5ce08 button.colab-df-convert');\n",
              "      buttonEl.style.display =\n",
              "        google.colab.kernel.accessAllowed ? 'block' : 'none';\n",
              "\n",
              "      async function convertToInteractive(key) {\n",
              "        const element = document.querySelector('#df-a545e935-996c-4dcc-b436-032779b5ce08');\n",
              "        const dataTable =\n",
              "          await google.colab.kernel.invokeFunction('convertToInteractive',\n",
              "                                                    [key], {});\n",
              "        if (!dataTable) return;\n",
              "\n",
              "        const docLinkHtml = 'Like what you see? Visit the ' +\n",
              "          '<a target=\"_blank\" href=https://colab.research.google.com/notebooks/data_table.ipynb>data table notebook</a>'\n",
              "          + ' to learn more about interactive tables.';\n",
              "        element.innerHTML = '';\n",
              "        dataTable['output_type'] = 'display_data';\n",
              "        await google.colab.output.renderOutput(dataTable, element);\n",
              "        const docLink = document.createElement('div');\n",
              "        docLink.innerHTML = docLinkHtml;\n",
              "        element.appendChild(docLink);\n",
              "      }\n",
              "    </script>\n",
              "  </div>\n",
              "\n",
              "\n",
              "    <div id=\"df-499ad194-19e5-4be8-86be-8ad82dd1575e\">\n",
              "      <button class=\"colab-df-quickchart\" onclick=\"quickchart('df-499ad194-19e5-4be8-86be-8ad82dd1575e')\"\n",
              "                title=\"Suggest charts\"\n",
              "                style=\"display:none;\">\n",
              "\n",
              "<svg xmlns=\"http://www.w3.org/2000/svg\" height=\"24px\"viewBox=\"0 0 24 24\"\n",
              "     width=\"24px\">\n",
              "    <g>\n",
              "        <path d=\"M19 3H5c-1.1 0-2 .9-2 2v14c0 1.1.9 2 2 2h14c1.1 0 2-.9 2-2V5c0-1.1-.9-2-2-2zM9 17H7v-7h2v7zm4 0h-2V7h2v10zm4 0h-2v-4h2v4z\"/>\n",
              "    </g>\n",
              "</svg>\n",
              "      </button>\n",
              "\n",
              "<style>\n",
              "  .colab-df-quickchart {\n",
              "      --bg-color: #E8F0FE;\n",
              "      --fill-color: #1967D2;\n",
              "      --hover-bg-color: #E2EBFA;\n",
              "      --hover-fill-color: #174EA6;\n",
              "      --disabled-fill-color: #AAA;\n",
              "      --disabled-bg-color: #DDD;\n",
              "  }\n",
              "\n",
              "  [theme=dark] .colab-df-quickchart {\n",
              "      --bg-color: #3B4455;\n",
              "      --fill-color: #D2E3FC;\n",
              "      --hover-bg-color: #434B5C;\n",
              "      --hover-fill-color: #FFFFFF;\n",
              "      --disabled-bg-color: #3B4455;\n",
              "      --disabled-fill-color: #666;\n",
              "  }\n",
              "\n",
              "  .colab-df-quickchart {\n",
              "    background-color: var(--bg-color);\n",
              "    border: none;\n",
              "    border-radius: 50%;\n",
              "    cursor: pointer;\n",
              "    display: none;\n",
              "    fill: var(--fill-color);\n",
              "    height: 32px;\n",
              "    padding: 0;\n",
              "    width: 32px;\n",
              "  }\n",
              "\n",
              "  .colab-df-quickchart:hover {\n",
              "    background-color: var(--hover-bg-color);\n",
              "    box-shadow: 0 1px 2px rgba(60, 64, 67, 0.3), 0 1px 3px 1px rgba(60, 64, 67, 0.15);\n",
              "    fill: var(--button-hover-fill-color);\n",
              "  }\n",
              "\n",
              "  .colab-df-quickchart-complete:disabled,\n",
              "  .colab-df-quickchart-complete:disabled:hover {\n",
              "    background-color: var(--disabled-bg-color);\n",
              "    fill: var(--disabled-fill-color);\n",
              "    box-shadow: none;\n",
              "  }\n",
              "\n",
              "  .colab-df-spinner {\n",
              "    border: 2px solid var(--fill-color);\n",
              "    border-color: transparent;\n",
              "    border-bottom-color: var(--fill-color);\n",
              "    animation:\n",
              "      spin 1s steps(1) infinite;\n",
              "  }\n",
              "\n",
              "  @keyframes spin {\n",
              "    0% {\n",
              "      border-color: transparent;\n",
              "      border-bottom-color: var(--fill-color);\n",
              "      border-left-color: var(--fill-color);\n",
              "    }\n",
              "    20% {\n",
              "      border-color: transparent;\n",
              "      border-left-color: var(--fill-color);\n",
              "      border-top-color: var(--fill-color);\n",
              "    }\n",
              "    30% {\n",
              "      border-color: transparent;\n",
              "      border-left-color: var(--fill-color);\n",
              "      border-top-color: var(--fill-color);\n",
              "      border-right-color: var(--fill-color);\n",
              "    }\n",
              "    40% {\n",
              "      border-color: transparent;\n",
              "      border-right-color: var(--fill-color);\n",
              "      border-top-color: var(--fill-color);\n",
              "    }\n",
              "    60% {\n",
              "      border-color: transparent;\n",
              "      border-right-color: var(--fill-color);\n",
              "    }\n",
              "    80% {\n",
              "      border-color: transparent;\n",
              "      border-right-color: var(--fill-color);\n",
              "      border-bottom-color: var(--fill-color);\n",
              "    }\n",
              "    90% {\n",
              "      border-color: transparent;\n",
              "      border-bottom-color: var(--fill-color);\n",
              "    }\n",
              "  }\n",
              "</style>\n",
              "\n",
              "      <script>\n",
              "        async function quickchart(key) {\n",
              "          const quickchartButtonEl =\n",
              "            document.querySelector('#' + key + ' button');\n",
              "          quickchartButtonEl.disabled = true;  // To prevent multiple clicks.\n",
              "          quickchartButtonEl.classList.add('colab-df-spinner');\n",
              "          try {\n",
              "            const charts = await google.colab.kernel.invokeFunction(\n",
              "                'suggestCharts', [key], {});\n",
              "          } catch (error) {\n",
              "            console.error('Error during call to suggestCharts:', error);\n",
              "          }\n",
              "          quickchartButtonEl.classList.remove('colab-df-spinner');\n",
              "          quickchartButtonEl.classList.add('colab-df-quickchart-complete');\n",
              "        }\n",
              "        (() => {\n",
              "          let quickchartButtonEl =\n",
              "            document.querySelector('#df-499ad194-19e5-4be8-86be-8ad82dd1575e button');\n",
              "          quickchartButtonEl.style.display =\n",
              "            google.colab.kernel.accessAllowed ? 'block' : 'none';\n",
              "        })();\n",
              "      </script>\n",
              "    </div>\n",
              "\n",
              "  <div id=\"id_bcef51be-3d35-4878-badb-e49d92a6d273\">\n",
              "    <style>\n",
              "      .colab-df-generate {\n",
              "        background-color: #E8F0FE;\n",
              "        border: none;\n",
              "        border-radius: 50%;\n",
              "        cursor: pointer;\n",
              "        display: none;\n",
              "        fill: #1967D2;\n",
              "        height: 32px;\n",
              "        padding: 0 0 0 0;\n",
              "        width: 32px;\n",
              "      }\n",
              "\n",
              "      .colab-df-generate:hover {\n",
              "        background-color: #E2EBFA;\n",
              "        box-shadow: 0px 1px 2px rgba(60, 64, 67, 0.3), 0px 1px 3px 1px rgba(60, 64, 67, 0.15);\n",
              "        fill: #174EA6;\n",
              "      }\n",
              "\n",
              "      [theme=dark] .colab-df-generate {\n",
              "        background-color: #3B4455;\n",
              "        fill: #D2E3FC;\n",
              "      }\n",
              "\n",
              "      [theme=dark] .colab-df-generate:hover {\n",
              "        background-color: #434B5C;\n",
              "        box-shadow: 0px 1px 3px 1px rgba(0, 0, 0, 0.15);\n",
              "        filter: drop-shadow(0px 1px 2px rgba(0, 0, 0, 0.3));\n",
              "        fill: #FFFFFF;\n",
              "      }\n",
              "    </style>\n",
              "    <button class=\"colab-df-generate\" onclick=\"generateWithVariable('result')\"\n",
              "            title=\"Generate code using this dataframe.\"\n",
              "            style=\"display:none;\">\n",
              "\n",
              "  <svg xmlns=\"http://www.w3.org/2000/svg\" height=\"24px\"viewBox=\"0 0 24 24\"\n",
              "       width=\"24px\">\n",
              "    <path d=\"M7,19H8.4L18.45,9,17,7.55,7,17.6ZM5,21V16.75L18.45,3.32a2,2,0,0,1,2.83,0l1.4,1.43a1.91,1.91,0,0,1,.58,1.4,1.91,1.91,0,0,1-.58,1.4L9.25,21ZM18.45,9,17,7.55Zm-12,3A5.31,5.31,0,0,0,4.9,8.1,5.31,5.31,0,0,0,1,6.5,5.31,5.31,0,0,0,4.9,4.9,5.31,5.31,0,0,0,6.5,1,5.31,5.31,0,0,0,8.1,4.9,5.31,5.31,0,0,0,12,6.5,5.46,5.46,0,0,0,6.5,12Z\"/>\n",
              "  </svg>\n",
              "    </button>\n",
              "    <script>\n",
              "      (() => {\n",
              "      const buttonEl =\n",
              "        document.querySelector('#id_bcef51be-3d35-4878-badb-e49d92a6d273 button.colab-df-generate');\n",
              "      buttonEl.style.display =\n",
              "        google.colab.kernel.accessAllowed ? 'block' : 'none';\n",
              "\n",
              "      buttonEl.onclick = () => {\n",
              "        google.colab.notebook.generateWithVariable('result');\n",
              "      }\n",
              "      })();\n",
              "    </script>\n",
              "  </div>\n",
              "\n",
              "    </div>\n",
              "  </div>\n"
            ],
            "application/vnd.google.colaboratory.intrinsic+json": {
              "type": "dataframe",
              "variable_name": "result",
              "summary": "{\n  \"name\": \"result\",\n  \"rows\": 2,\n  \"fields\": [\n    {\n      \"column\": \"Cluster\",\n      \"properties\": {\n        \"dtype\": \"number\",\n        \"std\": 0,\n        \"min\": 0,\n        \"max\": 1,\n        \"num_unique_values\": 2,\n        \"samples\": [\n          0,\n          1\n        ],\n        \"semantic_type\": \"\",\n        \"description\": \"\"\n      }\n    },\n    {\n      \"column\": \"Count\",\n      \"properties\": {\n        \"dtype\": \"number\",\n        \"std\": 128,\n        \"min\": 209,\n        \"max\": 391,\n        \"num_unique_values\": 2,\n        \"samples\": [\n          209,\n          391\n        ],\n        \"semantic_type\": \"\",\n        \"description\": \"\"\n      }\n    },\n    {\n      \"column\": \"Percentage\",\n      \"properties\": {\n        \"dtype\": \"number\",\n        \"std\": 21.453619741199855,\n        \"min\": 34.83,\n        \"max\": 65.17,\n        \"num_unique_values\": 2,\n        \"samples\": [\n          34.83,\n          65.17\n        ],\n        \"semantic_type\": \"\",\n        \"description\": \"\"\n      }\n    }\n  ]\n}"
            }
          },
          "metadata": {},
          "execution_count": 13
        }
      ]
    },
    {
      "cell_type": "code",
      "source": [
        "# Create a figure and an axes for the plot\n",
        "fig, ax = plt.subplots(figsize=(8, 6))\n",
        "\n",
        "# Create the bar plot using the 'Count' column from the 'result' DataFrame\n",
        "result['Count'].plot(kind='bar', ax=ax, color=['skyblue', 'lightcoral', 'lightgreen', 'gold'])\n",
        "\n",
        "# Set the title and labels for the plot\n",
        "ax.set_title('Distribution of Clusters (Counts and Percentages)')\n",
        "ax.set_xlabel('Cluster')\n",
        "ax.set_ylabel('Count')\n",
        "ax.tick_params(axis='x', rotation=0) # Ensure x-axis labels are not rotated\n",
        "\n",
        "# Add text labels for counts and percentages on the bars\n",
        "for i, count in enumerate(result['Count']):\n",
        "    percentage = result['Percentage'][i]\n",
        "    # Add the count label\n",
        "    ax.text(i, count, str(count), ha='center', va='bottom', fontsize=10)\n",
        "    # Add the percentage label slightly above the count\n",
        "    ax.text(i, count + (ax.get_ylim()[1] * 0.02), f'{percentage:.1f}%', ha='center', va='bottom', fontsize=10)\n",
        "\n",
        "# Adjust layout to prevent labels from being cut off\n",
        "plt.tight_layout()\n",
        "\n",
        "# Display the plot\n",
        "plt.show()"
      ],
      "metadata": {
        "colab": {
          "base_uri": "https://localhost:8080/",
          "height": 607
        },
        "id": "L2koHYh17pFe",
        "outputId": "223eaeac-866a-4043-e1b4-43c0b40e0299"
      },
      "execution_count": null,
      "outputs": [
        {
          "output_type": "display_data",
          "data": {
            "text/plain": [
              "<Figure size 800x600 with 1 Axes>"
            ],
            "image/png": "[encoded data removed]"
          },
          "metadata": {}
        }
      ]
    },
    {
      "cell_type": "code",
      "source": [
        "# Create a figure and an axes for the plot\n",
        "fig, ax = plt.subplots(figsize=(8, 8))\n",
        "\n",
        "# Create the pie plot using the 'Count' column from the 'result' DataFrame\n",
        "# autopct='%1.1f%%' formats the percentage displayed on each slice\n",
        "result['Count'].plot(kind='pie', ax=ax, autopct='%1.1f%%', startangle=90, colors=['skyblue', 'lightcoral', 'lightgreen', 'gold'])\n",
        "\n",
        "# Set the title for the plot\n",
        "ax.set_title('Distribution of Clusters (Percentage)')\n",
        "\n",
        "# Ensure the pie chart is circular\n",
        "ax.axis('equal')\n",
        "\n",
        "# Display the plot\n",
        "plt.show()"
      ],
      "metadata": {
        "colab": {
          "base_uri": "https://localhost:8080/",
          "height": 675
        },
        "id": "ggUXky1s7q8G",
        "outputId": "2b873b9c-ff4f-473e-82ef-6832d6500a58"
      },
      "execution_count": null,
      "outputs": [
        {
          "output_type": "display_data",
          "data": {
            "text/plain": [
              "<Figure size 800x800 with 1 Axes>"
            ],
            "image/png": "[encoded data removed]"
          },
          "metadata": {}
        }
      ]
    },
    {
      "cell_type": "markdown",
      "source": [
        "## **2. Data Preparation for Manual LDA**"
      ],
      "metadata": {
        "id": "Rb6Na23n76SW"
      }
    },
    {
      "cell_type": "markdown",
      "source": [
        "Sebelum memulai perhitungan inti LDA secara manual, data perlu disiapkan. Langkah-langkah utamanya adalah:\n",
        "\n",
        "1.  **Mengidentifikasi Variabel Fitur (Features) dan Target (Cluster)**:\n",
        "    *   Variabel fitur adalah kolom-kolom yang akan digunakan sebagai prediktor. Berdasarkan dataset, fitur yang digunakan adalah `BloodPressure` dan `Age`. Variabel-variabel ini akan diekstrak ke dalam sebuah array NumPy atau DataFrame Pandas (`features_X`).\n",
        "    *   Variabel target adalah kolom yang menunjukkan keanggotaan kelas. Dalam dataset ini, kolom `Cluster` (dengan nilai 0 dan 1) adalah variabel target (`target_y`).\n",
        "2.  **Memisahkan Data Berdasarkan Kelas**:\n",
        "    *   Untuk perhitungan matriks sebaran dalam kelas (within-class scatter matrix) dan vektor rata-rata per kelas, data perlu dipisahkan menjadi subset berdasarkan nilai pada kolom target (`Cluster`).\n",
        "    *   Akan dibuat dua subset data:\n",
        "        *   `df_class0`: Berisi semua observasi di mana `Cluster` adalah 0.\n",
        "        *   `df_class1`: Berisi semua observasi di mana `Cluster` adalah 1.\n",
        "    *   Dari subset ini, akan diekstrak nilai fitur untuk masing-masing kelas (misalnya, `features_X_class0` dan `features_X_class1`).\n",
        "\n",
        "Persiapan ini akan mempermudah akses ke data yang relevan untuk setiap kelas selama perhitungan matematis LDA berikutnya.\n"
      ],
      "metadata": {
        "id": "g18wLnxj79eu"
      }
    },
    {
      "cell_type": "markdown",
      "source": [
        "### **2.1. Mengidentifikasi Variabel Fitur dan Target**"
      ],
      "metadata": {
        "id": "yA0oqK3l8Dpo"
      }
    },
    {
      "cell_type": "code",
      "source": [
        "feature_column_names = ['BloodPressure', 'Age']\n",
        "target_column_name = 'Cluster'\n",
        "\n",
        "# Ekstrak fitur ke dalam array NumPy untuk kemudahan perhitungan matriks\n",
        "# Kita akan menggunakan .values untuk mendapatkan array NumPy\n",
        "features_X = df[feature_column_names].values\n",
        "target_y = df[target_column_name].values\n",
        "\n",
        "print(f\"Shape of features_X: {features_X.shape}\")\n",
        "print(f\"Shape of target_y: {target_y.shape}\")\n",
        "print(f\"First 5 rows of features_X:\\n{features_X[:5]}\")\n",
        "print(f\"First 5 values of target_y:\\n{target_y[:5]}\")"
      ],
      "metadata": {
        "colab": {
          "base_uri": "https://localhost:8080/"
        },
        "id": "T11DhbdD7_kk",
        "outputId": "0a7ce84c-d511-4a87-8b01-1e8a488b746a"
      },
      "execution_count": null,
      "outputs": [
        {
          "output_type": "stream",
          "name": "stdout",
          "text": [
            "Shape of features_X: (600, 2)\n",
            "Shape of target_y: (600,)\n",
            "First 5 rows of features_X:\n",
            "[[72 50]\n",
            " [66 31]\n",
            " [64 32]\n",
            " [66 21]\n",
            " [40 33]]\n",
            "First 5 values of target_y:\n",
            "[0 1 1 1 1]\n"
          ]
        }
      ]
    },
    {
      "cell_type": "markdown",
      "source": [
        "### **2.2. Memisahkan Data Berdasarkan Kelas**"
      ],
      "metadata": {
        "id": "ouC46_Tr8Voo"
      }
    },
    {
      "cell_type": "code",
      "source": [
        "# Dapatkan DataFrame dan array fitur untuk masing-masing kelas\n",
        "\n",
        "# Kelas 0\n",
        "df_class0 = df[df[target_column_name] == 0]\n",
        "features_X_class0 = df_class0[feature_column_names].values\n",
        "\n",
        "# Kelas 1\n",
        "df_class1 = df[df[target_column_name] == 1]\n",
        "features_X_class1 = df_class1[feature_column_names].values\n",
        "\n",
        "print(f\"Shape of features_X_class0 (Cluster 0): {features_X_class0.shape}\")\n",
        "print(f\"First 5 rows of features_X_class0:\\n{features_X_class0[:5]}\")\n",
        "print(f\"Number of samples in Class 0: {len(df_class0)}\")\n",
        "\n",
        "print(\"\\n\" + \"=\"*50 + \"\\n\")\n",
        "\n",
        "print(f\"Shape of features_X_class1 (Cluster 1): {features_X_class1.shape}\")\n",
        "print(f\"First 5 rows of features_X_class1:\\n{features_X_class1[:5]}\")\n",
        "print(f\"Number of samples in Class 1: {len(df_class1)}\")\n",
        "print(\"\\n\" + \"=\"*50 + \"\\n\")\n",
        "\n",
        "# Verifikasi bahwa total sampel dari kedua kelas sama dengan total sampel di df awal\n",
        "# Ini juga mengasumsikan tidak ada NaN yang dihapus atau kelas lain yang ada.\n",
        "# Total baris adalah 600, dan kita memuat 600 baris.\n",
        "if len(df_class0) + len(df_class1) == len(df):\n",
        "    print(\"Data separation by class seems correct. Total samples match.\")\n",
        "else:\n",
        "    print(\"Warning: Mismatch in total samples after class separation. Check for other classes or NaN issues if any were handled.\")"
      ],
      "metadata": {
        "colab": {
          "base_uri": "https://localhost:8080/"
        },
        "id": "Wdft0x2j8bjY",
        "outputId": "c5fb844b-8c4a-418e-ba0d-2c61a574aba2"
      },
      "execution_count": null,
      "outputs": [
        {
          "output_type": "stream",
          "name": "stdout",
          "text": [
            "Shape of features_X_class0 (Cluster 0): (209, 2)\n",
            "First 5 rows of features_X_class0:\n",
            "[[72 50]\n",
            " [70 53]\n",
            " [96 54]\n",
            " [92 30]\n",
            " [80 57]]\n",
            "Number of samples in Class 0: 209\n",
            "\n",
            "==================================================\n",
            "\n",
            "Shape of features_X_class1 (Cluster 1): (391, 2)\n",
            "First 5 rows of features_X_class1:\n",
            "[[66 31]\n",
            " [64 32]\n",
            " [66 21]\n",
            " [40 33]\n",
            " [74 30]]\n",
            "Number of samples in Class 1: 391\n",
            "\n",
            "==================================================\n",
            "\n",
            "Data separation by class seems correct. Total samples match.\n"
          ]
        }
      ]
    },
    {
      "cell_type": "markdown",
      "source": [
        "## **Step 1: Calculate Mean Vectors for Each Class (Hitung Vektor Rata-rata untuk Setiap Kelas)**\n"
      ],
      "metadata": {
        "id": "8U0JUQSt897d"
      }
    },
    {
      "cell_type": "markdown",
      "source": [
        "Langkah pertama dalam perhitungan manual LDA adalah menghitung vektor rata-rata (mean vector) untuk setiap kelas. Vektor rata-rata ini merepresentasikan titik pusat (centroid) dari data untuk masing-masing kelas dalam ruang fitur.\n",
        "\n",
        "1.  **Definisi Vektor Rata-rata Kelas**:\n",
        "    *   Untuk sebuah kelas `k` dengan `N_k` sampel dan `d` fitur, vektor rata-rata **m**<sub>`k`</sub> adalah sebuah vektor berdimensi `d` di mana setiap elemennya adalah rata-rata dari fitur yang bersangkutan untuk semua sampel dalam kelas `k`.\n",
        "    *   Secara matematis, untuk fitur ke-`j` pada kelas `k`:\n",
        "        (m<sub>k</sub>)<sub>j</sub> = (1/N<sub>k</sub>) * Σ<sub>i=1</sub><sup>N_k</sup> (x<sub>i</sub>)<sub>j</sub>\n",
        "        di mana (x<sub>i</sub>)<sub>j</sub> adalah nilai fitur ke-`j` dari sampel ke-`i` dalam kelas `k`.\n",
        "2.  **Perhitungan Menggunakan NumPy**:\n",
        "    *   Menggunakan data fitur yang telah dipisahkan per kelas (`features_X_class0` dan `features_X_class1`), fungsi `np.mean()` dari NumPy dapat digunakan.\n",
        "    *   `axis=0` ditentukan dalam `np.mean()` untuk menghitung rata-rata sepanjang kolom (yaitu, untuk setiap fitur secara terpisah).\n",
        "    *   Hasilnya akan berupa dua vektor:\n",
        "        *   `mean_vector_class0`: Vektor rata-rata untuk Kelas 0.\n",
        "        *   `mean_vector_class1`: Vektor rata-rata untuk Kelas 1.\n",
        "    *   Juga, akan dihitung vektor rata-rata keseluruhan (overall mean vector) dari semua data fitur (`features_X`), yang akan berguna nanti saat menghitung matriks sebaran antar kelas (between-class scatter matrix).\n",
        "\n",
        "Vektor rata-rata ini adalah komponen penting untuk menghitung matriks sebaran (scatter matrices) pada langkah berikutnya."
      ],
      "metadata": {
        "id": "mQiVdCou9B6H"
      }
    },
    {
      "cell_type": "markdown",
      "source": [
        "### **a. Menghitung vektor rata-rata untuk Kelas 0**"
      ],
      "metadata": {
        "id": "xVfaJCYd9JZF"
      }
    },
    {
      "cell_type": "code",
      "source": [
        "# features_X_class0 adalah array NumPy dari fitur untuk kelas 0\n",
        "mean_vector_class0 = np.mean(features_X_class0, axis=0)\n",
        "print(f\"Mean Vector for Class 0 (m₀) (Rata-rata Vektor Kelas 0): \\n{mean_vector_class0}\")\n",
        "print(f\"  - Rata-rata BloodPressure (Kelas 0): {mean_vector_class0[0]:.4f}\")\n",
        "print(f\"  - Rata-rata Age (Kelas 0): {mean_vector_class0[1]:.4f}\")"
      ],
      "metadata": {
        "colab": {
          "base_uri": "https://localhost:8080/"
        },
        "id": "EPWYySzi9AN4",
        "outputId": "732dbde0-9139-47b2-8c81-d6847d74c53b"
      },
      "execution_count": null,
      "outputs": [
        {
          "output_type": "stream",
          "name": "stdout",
          "text": [
            "Mean Vector for Class 0 (m₀) (Rata-rata Vektor Kelas 0): \n",
            "[80.26794258 45.90909091]\n",
            "  - Rata-rata BloodPressure (Kelas 0): 80.2679\n",
            "  - Rata-rata Age (Kelas 0): 45.9091\n"
          ]
        }
      ]
    },
    {
      "cell_type": "markdown",
      "source": [
        "### **b. Menghitung vektor rata-rata untuk Kelas 1**\n"
      ],
      "metadata": {
        "id": "jY4GSjvi9Oay"
      }
    },
    {
      "cell_type": "code",
      "source": [
        "# features_X_class1 adalah array NumPy dari fitur untuk kelas 1\n",
        "mean_vector_class1 = np.mean(features_X_class1, axis=0)\n",
        "print(f\"Mean Vector for Class 1 (m₁) (Rata-rata Vektor Kelas 1): \\n{mean_vector_class1}\")\n",
        "print(f\"  - Rata-rata BloodPressure (Kelas 1): {mean_vector_class1[0]:.4f}\")\n",
        "print(f\"  - Rata-rata Age (Kelas 1): {mean_vector_class1[1]:.4f}\")"
      ],
      "metadata": {
        "colab": {
          "base_uri": "https://localhost:8080/"
        },
        "id": "Qz8U-1RX9VMj",
        "outputId": "425b74a0-e699-498f-ca9d-6c91dee2b823"
      },
      "execution_count": null,
      "outputs": [
        {
          "output_type": "stream",
          "name": "stdout",
          "text": [
            "Mean Vector for Class 1 (m₁) (Rata-rata Vektor Kelas 1): \n",
            "[67.64450128 26.52685422]\n",
            "  - Rata-rata BloodPressure (Kelas 1): 67.6445\n",
            "  - Rata-rata Age (Kelas 1): 26.5269\n"
          ]
        }
      ]
    },
    {
      "cell_type": "markdown",
      "source": [
        "### **c. Menghitung vektor rata-rata keseluruhan (overall mean) untuk semua data**"
      ],
      "metadata": {
        "id": "hbImI3Dx9TQ0"
      }
    },
    {
      "cell_type": "code",
      "source": [
        "# features_X adalah array NumPy dari semua fitur\n",
        "overall_mean_vector = np.mean(features_X, axis=0)\n",
        "print(f\"Overall Mean Vector (m) (Rata-rata Vektor Keseluruhan): \\n{overall_mean_vector}\")\n",
        "print(f\"  - Rata-rata BloodPressure (Keseluruhan): {overall_mean_vector[0]:.4f}\")\n",
        "print(f\"  - Rata-rata Age (Keseluruhan): {overall_mean_vector[1]:.4f}\")"
      ],
      "metadata": {
        "colab": {
          "base_uri": "https://localhost:8080/"
        },
        "id": "WS5U_xbV907_",
        "outputId": "74f9b977-4018-4cc0-9ed4-05dfa903b4d9"
      },
      "execution_count": null,
      "outputs": [
        {
          "output_type": "stream",
          "name": "stdout",
          "text": [
            "Overall Mean Vector (m) (Rata-rata Vektor Keseluruhan): \n",
            "[72.04166667 33.27833333]\n",
            "  - Rata-rata BloodPressure (Keseluruhan): 72.0417\n",
            "  - Rata-rata Age (Keseluruhan): 33.2783\n"
          ]
        }
      ]
    },
    {
      "cell_type": "markdown",
      "source": [
        "## **Step 2: Calculate Scatter Matrices (Hitung Matriks Sebaran)**\n"
      ],
      "metadata": {
        "id": "POygkkL2-HSJ"
      }
    },
    {
      "cell_type": "markdown",
      "source": [
        "Matriks sebaran (scatter matrices) mengukur dispersi data. Ada dua jenis matriks sebaran utama yang perlu dihitung untuk LDA:\n",
        "\n",
        "1.  **Within-Class Scatter Matrix (S<sub>W</sub>) (Matriks Sebaran Dalam Kelas)**:\n",
        "    *   S<sub>W</sub> mengukur sebaran (varians) observasi di sekitar rata-rata kelasnya masing-masing. Ini pada dasarnya adalah jumlah dari matriks kovarians individual untuk setiap kelas.\n",
        "    *   Tujuannya adalah untuk meminimalkan sebaran ini pada sumbu diskriminan.\n",
        "    *   Untuk setiap kelas `k`, matriks sebaran S<sub>k</sub> dihitung sebagai:\n",
        "        S<sub>k</sub> = Σ<sub>x ∈ Kelas k</sub> (x - m<sub>k</sub>)(x - m<sub>k</sub>)<sup>T</sup>\n",
        "        di mana `x` adalah vektor fitur sampel, dan `m_k` adalah vektor rata-rata kelas `k`.\n",
        "    *   Kemudian, S<sub>W</sub> adalah jumlah dari semua S<sub>k</sub>:\n",
        "        S<sub>W</sub> = Σ<sub>k</sub> S<sub>k</sub> = S<sub>0</sub> + S<sub>1</sub> (untuk kasus dua kelas).\n",
        "    *   Dalam praktiknya, seringkali lebih mudah menghitung matriks kovarians untuk setiap kelas (dibagi dengan N<sub>k</sub>-1 atau N<sub>k</sub>) dan kemudian menjumlahkannya (setelah dikalikan dengan N<sub>k</sub>-1 atau N<sub>k</sub>, jika S<sub>k</sub> yang digunakan adalah matriks kovarians yang telah dinormalisasi). Alternatif lain, jika S<sub>k</sub> adalah *sum of squared deviations*, maka langsung dijumlahkan. Untuk konsistensi dengan banyak teks, S<sub>k</sub> sering didefinisikan sebagai (N<sub>k</sub>-1) * Cov<sub>k</sub> atau Σ(x-m<sub>k</sub>)(x-m<sub>k</sub>)<sup>T</sup>.\n",
        "\n",
        "2.  **Between-Class Scatter Matrix (S<sub>B</sub>) (Matriks Sebaran Antar Kelas)**:\n",
        "    *   S<sub>B</sub> mengukur sebaran (varians) antar rata-rata kelas relatif terhadap rata-rata keseluruhan data.\n",
        "    *   Tujuannya adalah untuk memaksimalkan sebaran ini pada sumbu diskriminan, sehingga kelas-kelas menjadi sejauh mungkin terpisah.\n",
        "    *   Untuk kasus dua kelas (Kelas 0 dan Kelas 1), S<sub>B</sub> dapat dihitung sebagai:\n",
        "        S<sub>B</sub> = N<sub>0</sub>(m<sub>0</sub> - m)(m<sub>0</sub> - m)<sup>T</sup> + N<sub>1</sub>(m<sub>1</sub> - m)(m<sub>1</sub> - m)<sup>T</sup>\n",
        "        di mana N<sub>0</sub> dan N<sub>1</sub> adalah jumlah sampel di Kelas 0 dan Kelas 1, m<sub>0</sub> dan m<sub>1</sub> adalah vektor rata-rata Kelas 0 dan Kelas 1, dan `m` adalah vektor rata-rata keseluruhan.\n",
        "    *   Alternatif untuk dua kelas yang sering digunakan (yang akan kita gunakan karena kesederhanaannya dan menghasilkan arah eigenvector yang sama) adalah:\n",
        "        S<sub>B</sub> = (m<sub>0</sub> - m<sub>1</sub>)(m<sub>0</sub> - m<sub>1</sub>)<sup>T</sup>\n",
        "        Perbedaan utamanya adalah pada penskalaan eigenvalue, namun arah eigenvector (yang paling penting untuk sumbu diskriminan) tetap sama. Kita akan menggunakan pendekatan ini untuk S<sub>B</sub> karena kesederhanaan komputasi manualnya, meskipun definisi pertama lebih umum untuk multikelas.\n",
        "\n",
        "Perhitungan matriks-matriks ini menggunakan operasi vektor dan matriks dari NumPy.\n"
      ],
      "metadata": {
        "id": "1StRorLR-Jvb"
      }
    },
    {
      "cell_type": "markdown",
      "source": [
        "### **2.a. Within-Class Scatter Matrix (S_W) (Matriks Sebaran Dalam Kelas)**"
      ],
      "metadata": {
        "id": "IPJ5OtKa-tEj"
      }
    },
    {
      "cell_type": "markdown",
      "source": [
        "#### **2.a.1. Matriks sebaran untuk Kelas 0 (S_0)**\n"
      ],
      "metadata": {
        "id": "zRtz6zBL-S6Q"
      }
    },
    {
      "cell_type": "code",
      "source": [
        "# features_X_class0 dan mean_vector_class0 sudah dihitung sebelumnya\n",
        "scatter_matrix_class0 = np.zeros((features_X.shape[1], features_X.shape[1])) # Inisialisasi matriks nol d x d (d=jumlah fitur)\n",
        "for row_idx in range(features_X_class0.shape[0]):\n",
        "    row_vector = features_X_class0[row_idx, :].reshape(features_X.shape[1], 1) # Vektor baris (d x 1)\n",
        "    mean_vec_c0 = mean_vector_class0.reshape(features_X.shape[1], 1)      # Vektor rata-rata kelas 0 (d x 1)\n",
        "    scatter_matrix_class0 += (row_vector - mean_vec_c0).dot((row_vector - mean_vec_c0).T)\n",
        "\n",
        "print(f\"Scatter Matrix for Class 0 (S₀) (Matriks Sebaran Kelas 0):\\n{scatter_matrix_class0}\")"
      ],
      "metadata": {
        "colab": {
          "base_uri": "https://localhost:8080/"
        },
        "id": "z8PLwlrM-J9x",
        "outputId": "71832008-fe5d-4b45-a205-bc964106b988"
      },
      "execution_count": null,
      "outputs": [
        {
          "output_type": "stream",
          "name": "stdout",
          "text": [
            "Scatter Matrix for Class 0 (S₀) (Matriks Sebaran Kelas 0):\n",
            "[[23746.99521531 -6471.90909091]\n",
            " [-6471.90909091 22891.27272727]]\n"
          ]
        }
      ]
    },
    {
      "cell_type": "markdown",
      "source": [
        "#### **2.a.2. Matriks sebaran untuk Kelas 1 (S_1)**\n"
      ],
      "metadata": {
        "id": "QXbwDXX3_C5J"
      }
    },
    {
      "cell_type": "code",
      "source": [
        "# features_X_class1 dan mean_vector_class1 sudah dihitung sebelumnya\n",
        "scatter_matrix_class1 = np.zeros((features_X.shape[1], features_X.shape[1])) # Inisialisasi matriks nol d x d\n",
        "for row_idx in range(features_X_class1.shape[0]):\n",
        "    row_vector = features_X_class1[row_idx, :].reshape(features_X.shape[1], 1) # Vektor baris (d x 1)\n",
        "    mean_vec_c1 = mean_vector_class1.reshape(features_X.shape[1], 1)      # Vektor rata-rata kelas 1 (d x 1)\n",
        "    scatter_matrix_class1 += (row_vector - mean_vec_c1).dot((row_vector - mean_vec_c1).T)\n",
        "\n",
        "print(f\"Scatter Matrix for Class 1 (S₁) (Matriks Sebaran Kelas 1):\\n{scatter_matrix_class1}\")"
      ],
      "metadata": {
        "colab": {
          "base_uri": "https://localhost:8080/"
        },
        "id": "nnQPegNK_JfK",
        "outputId": "6ba80d18-33fd-40ac-95c2-9d1b4ba6862d"
      },
      "execution_count": null,
      "outputs": [
        {
          "output_type": "stream",
          "name": "stdout",
          "text": [
            "Scatter Matrix for Class 1 (S₁) (Matriks Sebaran Kelas 1):\n",
            "[[40519.58567775  -722.76726343]\n",
            " [ -722.76726343  9663.46803069]]\n"
          ]
        }
      ]
    },
    {
      "cell_type": "markdown",
      "source": [
        "#### **2.a.3. Within-class scatter matrix S_W**"
      ],
      "metadata": {
        "id": "oEbs0xL0AOx3"
      }
    },
    {
      "cell_type": "code",
      "source": [
        "S_W = scatter_matrix_class0 + scatter_matrix_class1\n",
        "print(f\"Within-Class Scatter Matrix (S_W) (Matriks Sebaran Dalam Kelas Gabungan):\\n{S_W}\")"
      ],
      "metadata": {
        "colab": {
          "base_uri": "https://localhost:8080/"
        },
        "id": "tJX2SMUtAWWI",
        "outputId": "01744e79-2a41-4acc-9481-e9618da7573d"
      },
      "execution_count": null,
      "outputs": [
        {
          "output_type": "stream",
          "name": "stdout",
          "text": [
            "Within-Class Scatter Matrix (S_W) (Matriks Sebaran Dalam Kelas Gabungan):\n",
            "[[64266.58089306 -7194.67635434]\n",
            " [-7194.67635434 32554.74075796]]\n"
          ]
        }
      ]
    },
    {
      "cell_type": "markdown",
      "source": [
        "### **2.b. Between-Class Scatter Matrix (S_B) (Matriks Sebaran Antar Kelas)**"
      ],
      "metadata": {
        "id": "Rqz3IAb_AWJI"
      }
    },
    {
      "cell_type": "code",
      "source": [
        "# mean_vector_class0 dan mean_vector_class1 sudah dihitung sebelumnya\n",
        "mean_diff_vector = (mean_vector_class0 - mean_vector_class1).reshape(features_X.shape[1], 1) # (d x 1)\n",
        "S_B = mean_diff_vector.dot(mean_diff_vector.T)\n",
        "\n",
        "# Alternatif definisi S_B (lebih umum untuk >2 kelas, dan juga valid untuk 2 kelas):\n",
        "# N0 = features_X_class0.shape[0]\n",
        "# N1 = features_X_class1.shape[0]\n",
        "# overall_mean_vec_reshaped = overall_mean_vector.reshape(features_X.shape[1], 1)\n",
        "# term0 = N0 * (mean_vector_class0.reshape(features_X.shape[1],1) - overall_mean_vec_reshaped).dot((mean_vector_class0.reshape(features_X.shape[1],1) - overall_mean_vec_reshaped).T)\n",
        "# term1 = N1 * (mean_vector_class1.reshape(features_X.shape[1],1) - overall_mean_vec_reshaped).dot((mean_vector_class1.reshape(features_X.shape[1],1) - overall_mean_vec_reshaped).T)\n",
        "# S_B_alternative = term0 + term1\n",
        "# print(f\"Alternative Between-Class Scatter Matrix (S_B_alt):\\n{S_B_alternative}\")\n",
        "# Untuk LDA 2 kelas, arah eigenvector akan sama meskipun S_B berbeda skala. Kita gunakan S_B yang lebih sederhana.\n",
        "\n",
        "print(f\"Mean Difference Vector (m₀-m₁) (Vektor Perbedaan Rata-rata):\\n{mean_diff_vector.T}\") # Transpose untuk tampilan lebih baik\n",
        "print(f\"Between-Class Scatter Matrix (S_B) (Matriks Sebaran Antar Kelas):\\n{S_B}\")"
      ],
      "metadata": {
        "colab": {
          "base_uri": "https://localhost:8080/"
        },
        "id": "lfsvqPllAqch",
        "outputId": "2665fd57-5bd0-479a-e495-893a93de8fbc"
      },
      "execution_count": null,
      "outputs": [
        {
          "output_type": "stream",
          "name": "stdout",
          "text": [
            "Mean Difference Vector (m₀-m₁) (Vektor Perbedaan Rata-rata):\n",
            "[[12.6234413  19.38223669]]\n",
            "Between-Class Scatter Matrix (S_B) (Matriks Sebaran Antar Kelas):\n",
            "[[159.35127038 244.6705272 ]\n",
            " [244.6705272  375.67109907]]\n"
          ]
        }
      ]
    },
    {
      "cell_type": "markdown",
      "source": [
        "## **Step 3: Solve the Generalized Eigenvalue Problem (Selesaikan Masalah Eigenvalue Umum)**\n"
      ],
      "metadata": {
        "id": "GvawkD61AV3t"
      }
    },
    {
      "cell_type": "markdown",
      "source": [
        "Tujuan dari LDA adalah untuk menemukan sebuah proyeksi (sumbu diskriminan) yang memaksimalkan separabilitas antar kelas. Ini secara matematis dapat dirumuskan sebagai pencarian vektor `w` yang memaksimalkan rasio J(w):\n",
        "\n",
        "J(w) = (w<sup>T</sup>S<sub>B</sub>w) / (w<sup>T</sup>S<sub>W</sub>w)\n",
        "\n",
        "Solusi untuk `w` dapat ditemukan dengan menyelesaikan masalah eigenvalue umum:\n",
        "S<sub>B</sub>w = λS<sub>W</sub>w\n",
        "\n",
        "Jika S<sub>W</sub> bersifat non-singular (dapat diinvers), ini dapat diubah menjadi masalah eigenvalue standar:\n",
        "S<sub>W</sub><sup>-1</sup>S<sub>B</sub>w = λw\n",
        "\n",
        "Di sini:\n",
        "*   `w` adalah eigenvector.\n",
        "*   `λ` adalah eigenvalue.\n",
        "\n",
        "Langkah-langkahnya adalah:\n",
        "\n",
        "1.  **Hitung Invers dari Within-Class Scatter Matrix (S<sub>W</sub><sup>-1</sup>)**:\n",
        "    *   Menggunakan fungsi `np.linalg.inv()` dari NumPy untuk menghitung matriks invers dari S<sub>W</sub>.\n",
        "    *   Penting untuk memastikan S<sub>W</sub> tidak singular (determinannya tidak nol). Jika singular, ini bisa menandakan adanya kolinearitas sempurna antar fitur atau jumlah sampel yang lebih sedikit dari jumlah fitur, yang mungkin memerlukan teknik regularisasi atau pemilihan fitur.\n",
        "2.  **Hitung Matriks Transformasi (S<sub>W</sub><sup>-1</sup>S<sub>B</sub>)**:\n",
        "    *   Melakukan perkalian matriks antara S<sub>W</sub><sup>-1</sup> dan S<sub>B</sub>.\n",
        "3.  **Hitung Eigenvalue dan Eigenvector**:\n",
        "    *   Menggunakan fungsi `np.linalg.eig()` dari NumPy pada matriks S<sub>W</sub><sup>-1</sup>S<sub>B</sub>. Fungsi ini mengembalikan dua array: satu berisi eigenvalue dan satu lagi berisi eigenvector yang bersesuaian (sebagai kolom-kolom matriks).\n",
        "4.  **Pilih Eigenvector yang Relevan**:\n",
        "    *   Untuk LDA dengan `C` kelas, akan ada paling banyak `C-1` eigenvector yang tidak nol (atau eigenvalue yang tidak nol jika menggunakan definisi S<sub>B</sub> yang bergantung pada rata-rata keseluruhan). Dalam kasus klasifikasi biner (C=2), akan ada satu eigenvector yang paling signifikan yang sesuai dengan eigenvalue terbesar. Eigenvector ini, `w`, mendefinisikan arah sumbu diskriminan linier.\n",
        "    *   Eigenvector akan diurutkan berdasarkan eigenvalue-nya dari yang terbesar ke yang terkecil. Kita akan memilih eigenvector yang memiliki eigenvalue terbesar.\n",
        "\n",
        "Eigenvector `w` yang dipilih ini adalah vektor koefisien yang akan digunakan untuk memproyeksikan data ke sumbu diskriminan.\n"
      ],
      "metadata": {
        "id": "ZmtthfYSBAhG"
      }
    },
    {
      "cell_type": "code",
      "source": [
        "# 1. Hitung Invers dari Within-Class Scatter Matrix (S_W⁻¹)\n",
        "# S_W sudah dihitung pada langkah sebelumnya\n",
        "try:\n",
        "    S_W_inv = np.linalg.inv(S_W)\n",
        "    print(f\"Inverse of Within-Class Scatter Matrix (S_W⁻¹) (Invers Matriks Sebaran Dalam Kelas):\\n{S_W_inv}\")\n",
        "except np.linalg.LinAlgError:\n",
        "    print(\"Error: Within-Class Scatter Matrix (S_W) is singular and cannot be inverted.\")\n",
        "    print(\"This might be due to perfect multicollinearity or n_samples < n_features within classes.\")\n",
        "    print(\"Consider adding a small identity matrix (regularization) or re-evaluating features.\")\n",
        "    # Contoh regularisasi (jika diperlukan dan S_W_inv tidak dapat dihitung):\n",
        "    # epsilon = 1e-6 # Nilai regularisasi kecil\n",
        "    # S_W_reg = S_W + np.eye(S_W.shape[0]) * epsilon\n",
        "    # S_W_inv = np.linalg.inv(S_W_reg)\n",
        "    # print(f\"\\nInverse of Regularized Within-Class Scatter Matrix (S_W_reg⁻¹):\\n{S_W_inv}\")\n",
        "    S_W_inv = None # Atau tangani error sesuai kebutuhan\n",
        "\n",
        "if S_W_inv is not None:\n",
        "    print(\"\\n\" + \"=\"*50 + \"\\n\")\n",
        "\n",
        "    # 2. Hitung Matriks Transformasi (S_W⁻¹ * S_B)\n",
        "    # S_B sudah dihitung pada langkah sebelumnya\n",
        "    matrix_for_eigen_decomposition = S_W_inv.dot(S_B)\n",
        "    print(f\"Matrix for Eigen Decomposition (S_W⁻¹ * S_B) (Matriks untuk Dekomposisi Eigen):\\n{matrix_for_eigen_decomposition}\")\n",
        "    print(\"\\n\" + \"=\"*50 + \"\\n\")\n",
        "\n",
        "    # 3. Hitung Eigenvalue dan Eigenvector\n",
        "    # eigenvalues adalah array 1D dari eigenvalue\n",
        "    # eigenvectors adalah matriks di mana setiap kolom adalah eigenvector yang bersesuaian dengan eigenvalue\n",
        "    eigenvalues, eigenvectors = np.linalg.eig(matrix_for_eigen_decomposition)\n",
        "\n",
        "    print(f\"Eigenvalues (λ) (Nilai Eigen):\\n{eigenvalues}\")\n",
        "    print(f\"Eigenvectors (v) (Vektor Eigen) (kolom adalah vektor eigen):\\n{eigenvectors}\")\n",
        "    print(\"\\n\" + \"=\"*50 + \"\\n\")\n",
        "\n",
        "    # 4. Pilih Eigenvector yang Relevan (w)\n",
        "    # Eigenvector yang bersesuaian dengan eigenvalue terbesar akan menjadi sumbu diskriminan.\n",
        "    # Untuk kasus 2 kelas, akan ada 1 eigenvalue non-nol yang signifikan (atau C-1 jika C>2).\n",
        "    # Pasangkan eigenvalue dengan eigenvector-nya\n",
        "    eigen_pairs = [(np.abs(eigenvalues[i]), eigenvectors[:, i]) for i in range(len(eigenvalues))]\n",
        "\n",
        "    # Urutkan pasangan (eigenvalue, eigenvector) berdasarkan eigenvalue secara menurun\n",
        "    eigen_pairs.sort(key=lambda k: k[0], reverse=True)\n",
        "\n",
        "    print(\"Eigenvalue-Eigenvector pairs, sorted by eigenvalue (descending):\")\n",
        "    for i, pair in enumerate(eigen_pairs):\n",
        "        print(f\"Pair {i+1}: Eigenvalue = {pair[0]:.4e}, Eigenvector = {pair[1].T}\") # .T untuk tampilan baris\n",
        "    print(\"\\n\" + \"=\"*50 + \"\\n\")\n",
        "\n",
        "    # Pilih eigenvector (w) yang sesuai dengan eigenvalue terbesar.\n",
        "    # Untuk klasifikasi biner, kita hanya membutuhkan satu eigenvector.\n",
        "    W_vector = eigen_pairs[0][1].reshape(features_X.shape[1], 1) # Ambil eigenvector pertama (nilai eigen terbesar) dan reshape\n",
        "    print(f\"Selected Discriminant Vector (w) (Vektor Diskriminan Terpilih):\\n{W_vector.T}\") # .T untuk tampilan baris\n",
        "    print(\"\\n\" + \"=\"*50 + \"\\n\")\n",
        "\n",
        "    print(\"Step 3: Solving generalized eigenvalue problem completed.\")\n",
        "else:\n",
        "    print(\"Step 3 could not be completed due to singular S_W.\")"
      ],
      "metadata": {
        "colab": {
          "base_uri": "https://localhost:8080/"
        },
        "id": "L9qHUVujBTlW",
        "outputId": "5cd2b376-173c-4749-8bbd-0a9209891ce6"
      },
      "execution_count": null,
      "outputs": [
        {
          "output_type": "stream",
          "name": "stdout",
          "text": [
            "Inverse of Within-Class Scatter Matrix (S_W⁻¹) (Invers Matriks Sebaran Dalam Kelas):\n",
            "[[1.59549330e-05 3.52607875e-06]\n",
            " [3.52607875e-06 3.14967643e-05]]\n",
            "\n",
            "==================================================\n",
            "\n",
            "Matrix for Eigen Decomposition (S_W⁻¹ * S_B) (Matriks untuk Dekomposisi Eigen):\n",
            "[[0.00340517 0.00522835]\n",
            " [0.00826822 0.01269515]]\n",
            "\n",
            "==================================================\n",
            "\n",
            "Eigenvalues (λ) (Nilai Eigen):\n",
            "[0.         0.01610032]\n",
            "Eigenvectors (v) (Vektor Eigen) (kolom adalah vektor eigen):\n",
            "[[-0.83794965 -0.38080787]\n",
            " [ 0.54574755 -0.92465419]]\n",
            "\n",
            "==================================================\n",
            "\n",
            "Eigenvalue-Eigenvector pairs, sorted by eigenvalue (descending):\n",
            "Pair 1: Eigenvalue = 1.6100e-02, Eigenvector = [-0.38080787 -0.92465419]\n",
            "Pair 2: Eigenvalue = 0.0000e+00, Eigenvector = [-0.83794965  0.54574755]\n",
            "\n",
            "==================================================\n",
            "\n",
            "Selected Discriminant Vector (w) (Vektor Diskriminan Terpilih):\n",
            "[[-0.38080787 -0.92465419]]\n",
            "\n",
            "==================================================\n",
            "\n",
            "Step 3: Solving generalized eigenvalue problem completed.\n"
          ]
        }
      ]
    },
    {
      "cell_type": "markdown",
      "source": [
        "## **Step 4: Project Data onto the Discriminant Axis (LD Scores) (Proyeksikan Data ke Sumbu Diskriminan (Skor LD))**\n"
      ],
      "metadata": {
        "id": "h01u-jgFBw5Z"
      }
    },
    {
      "cell_type": "markdown",
      "source": [
        "Setelah vektor diskriminan `W_vector` (eigenvector yang sesuai dengan eigenvalue terbesar dari S<sub>W</sub><sup>-1</sup>S<sub>B</sub>) ditentukan, langkah berikutnya adalah memproyeksikan data fitur asli ke sumbu baru yang didefinisikan oleh `W_vector`. Proyeksi ini mengubah data asli yang mungkin berdimensi tinggi (dalam kasus ini, 2D) menjadi data berdimensi lebih rendah (dalam kasus klasifikasi biner, menjadi 1D) yang memaksimalkan pemisahan antar kelas.\n",
        "\n",
        "1.  **Rumus Proyeksi**:\n",
        "    *   Untuk setiap sampel data `x` (vektor fitur `d x 1`), skor diskriminan linier (LD Score), `z`, dihitung sebagai:\n",
        "        `z = W_vector`<sup>T</sup>`x`\n",
        "    *   Ini adalah perkalian dot antara transpose dari vektor diskriminan (`1 x d`) dan vektor fitur sampel (`d x 1`), yang menghasilkan skalar (nilai 1D).\n",
        "2.  **Penerapan pada Seluruh Dataset**:\n",
        "    *   Operasi proyeksi ini diterapkan pada seluruh dataset fitur (`features_X`). Jika `features_X` adalah matriks `N x d` (N sampel, d fitur) dan `W_vector` adalah `d x 1`, maka `features_X.dot(W_vector)` akan menghasilkan matriks `N x 1`, yang berisi skor LD untuk setiap sampel.\n",
        "    *   Skor LD ini dapat disimpan dalam kolom baru di DataFrame asli atau sebagai array NumPy terpisah.\n",
        "    *   Skor LD ini akan digunakan untuk menentukan batas keputusan (threshold) dan untuk melakukan klasifikasi.\n",
        "\n",
        "Setelah langkah ini, setiap observasi data akan memiliki satu skor numerik yang merepresentasikan posisinya pada sumbu diskriminan linier. Idealnya, skor LD untuk kelas yang berbeda akan terkelompok secara terpisah pada sumbu ini.\n"
      ],
      "metadata": {
        "id": "kinMgN_WBwjx"
      }
    },
    {
      "cell_type": "code",
      "source": [
        "# W_vector didapatkan dari langkah sebelumnya (eigenvector yang sesuai dengan eigenvalue terbesar)\n",
        "# features_X adalah array NumPy dari semua fitur (N x d)\n",
        "# W_vector adalah array NumPy (d x 1)\n",
        "\n",
        "# Pastikan W_vector telah dihitung pada langkah sebelumnya\n",
        "if 'W_vector' in globals() and W_vector is not None:\n",
        "    # Lakukan proyeksi data: features_X (N x d) dikalikan dengan W_vector (d x 1)\n",
        "    # Hasilnya adalah ld_scores (N x 1)\n",
        "    ld_scores = features_X.dot(W_vector)\n",
        "\n",
        "    # Untuk kemudahan analisis dan visualisasi, tambahkan ld_scores ke DataFrame df\n",
        "    df['LD_Score_Manual'] = ld_scores.flatten() # flatten() untuk mengubah array (N,1) menjadi (N,)\n",
        "\n",
        "    print(f\"Shape of LD Scores array (Skor LD): {ld_scores.shape}\")\n",
        "    print(f\"First 10 LD Scores (Skor LD pertama):\\n{ld_scores[:10].flatten()}\") # Tampilkan 10 skor pertama\n",
        "    print(\"\\n\" + \"=\"*50 + \"\\n\")\n",
        "\n",
        "    print(\"DataFrame with LD_Score_Manual added:\")\n",
        "    print(df.head())\n",
        "    print(\"\\n\" + \"=\"*50 + \"\\n\")\n",
        "\n",
        "    # Visualisasi distribusi LD Scores berdasarkan kelas (opsional, tapi sangat membantu)\n",
        "    # Ini mirip dengan yang dilakukan pada evaluasi model scikit-learn,\n",
        "    # tapi kali ini menggunakan skor yang dihitung manual.\n",
        "    import matplotlib.pyplot as plt\n",
        "    import seaborn as sns\n",
        "\n",
        "    plt.figure(figsize=(10, 6))\n",
        "    sns.histplot(data=df, x='LD_Score_Manual', hue=target_column_name, kde=True, palette='viridis', stat=\"density\", common_norm=False)\n",
        "    plt.title('Distribution of Manually Calculated LD Scores by Cluster (Distribusi Skor LD Manual Berdasarkan Cluster)')\n",
        "    plt.xlabel('LD Score (Manual) (Skor LD (Manual))')\n",
        "    plt.ylabel('Density (Kepadatan)')\n",
        "    plt.legend(title=target_column_name, labels=[f'Cluster {val}' for val in sorted(df[target_column_name].unique())])\n",
        "    plt.show()\n",
        "\n",
        "else:\n",
        "    print(\"W_vector is not defined. Please ensure Step 3 was completed successfully.\")"
      ],
      "metadata": {
        "colab": {
          "base_uri": "https://localhost:8080/",
          "height": 859
        },
        "id": "CECk8ufbB5mp",
        "outputId": "f80ee370-d8fb-4f42-f182-28ac3d035f9a"
      },
      "execution_count": null,
      "outputs": [
        {
          "output_type": "stream",
          "name": "stdout",
          "text": [
            "Shape of LD Scores array (Skor LD): (600, 1)\n",
            "First 10 LD Scores (Skor LD pertama):\n",
            "[-73.65087604 -53.79759926 -53.96063771 -44.55105739 -45.745903\n",
            " -55.91940804 -43.0814024  -54.23313811 -75.66322286 -86.48888169]\n",
            "\n",
            "==================================================\n",
            "\n",
            "DataFrame with LD_Score_Manual added:\n",
            "   BloodPressure  Age  Cluster  LD_Score_Manual\n",
            "0             72   50        0       -73.650876\n",
            "1             66   31        1       -53.797599\n",
            "2             64   32        1       -53.960638\n",
            "3             66   21        1       -44.551057\n",
            "4             40   33        1       -45.745903\n",
            "\n",
            "==================================================\n",
            "\n"
          ]
        },
        {
          "output_type": "display_data",
          "data": {
            "text/plain": [
              "<Figure size 1000x600 with 1 Axes>"
            ],
            "image/png": "[encoded data removed]"
          },
          "metadata": {}
        }
      ]
    },
    {
      "cell_type": "markdown",
      "source": [
        "## **Step 5: Determine a Threshold for Classification (Tentukan Ambang Batas untuk Klasifikasi)**"
      ],
      "metadata": {
        "id": "o3E_LJ_jCd4K"
      }
    },
    {
      "cell_type": "markdown",
      "source": [
        "Setelah mendapatkan skor diskriminan linier (LD Scores) untuk setiap observasi, sebuah nilai ambang batas (threshold atau cut-off value) perlu ditentukan. Threshold ini akan digunakan untuk mengklasifikasikan observasi ke dalam salah satu dari dua kelas berdasarkan skor LD-nya.\n",
        "\n",
        "1.  **Menghitung Rata-rata Skor LD (Centroid) per Kelas pada Sumbu Diskriminan**:\n",
        "    *   Pertama, skor LD yang telah dihitung pada langkah sebelumnya (`df['LD_Score_Manual']`) dipisahkan berdasarkan kelas aslinya (`Cluster` 0 dan `Cluster` 1).\n",
        "    *   Kemudian, rata-rata dari skor LD dihitung untuk setiap kelas. Rata-rata ini adalah proyeksi dari vektor rata-rata kelas (m<sub>0</sub> dan m<sub>1</sub>) ke sumbu diskriminan `W_vector`.\n",
        "        *   `ld_mean_class0`: Rata-rata skor LD untuk Kelas 0.\n",
        "        *   `ld_mean_class1`: Rata-rata skor LD untuk Kelas 1.\n",
        "    *   Titik-titik ini dapat dianggap sebagai pusat (centroid) dari masing-masing kelas pada sumbu diskriminan 1D.\n",
        "\n",
        "2.  **Menentukan Threshold**:\n",
        "    *   Cara paling sederhana dan umum untuk menentukan threshold (jika tidak ada informasi prior probability yang berbeda atau biaya misklasifikasi yang tidak sama) adalah dengan mengambil titik tengah antara dua centroid kelas pada sumbu diskriminan.\n",
        "    *   Threshold = (ld_mean_class0 + ld_mean_class1) / 2\n",
        "    *   Observasi dengan skor LD di satu sisi threshold akan diklasifikasikan sebagai Kelas 0, dan yang di sisi lain sebagai Kelas 1. Keputusan sisi mana yang menjadi Kelas 0 atau Kelas 1 akan bergantung pada nilai relatif `ld_mean_class0` dan `ld_mean_class1` serta bagaimana `W_vector` diorientasikan (misalnya, apakah nilai LD yang lebih tinggi cenderung ke Kelas 1 atau Kelas 0).\n",
        "\n",
        "Threshold ini adalah nilai kunci yang akan digunakan pada langkah klasifikasi berikutnya.\n"
      ],
      "metadata": {
        "id": "Hox58x5wCgqA"
      }
    },
    {
      "cell_type": "code",
      "source": [
        "# Pastikan kolom 'LD_Score_Manual' ada di DataFrame df dari langkah sebelumnya\n",
        "if 'LD_Score_Manual' in df.columns:\n",
        "    # 1. Menghitung Rata-rata Skor LD (Centroid) per Kelas\n",
        "    # df_class0 dan df_class1 sudah dibuat pada langkah persiapan data,\n",
        "    # kita bisa menggunakannya atau memfilter df yang sudah memiliki LD_Score_Manual\n",
        "\n",
        "    # Ambil skor LD untuk masing-masing kelas dari DataFrame 'df' yang sudah diupdate\n",
        "    ld_scores_class0 = df[df[target_column_name] == 0]['LD_Score_Manual']\n",
        "    ld_scores_class1 = df[df[target_column_name] == 1]['LD_Score_Manual']\n",
        "\n",
        "    # Hitung rata-rata skor LD untuk setiap kelas\n",
        "    ld_mean_class0 = np.mean(ld_scores_class0)\n",
        "    ld_mean_class1 = np.mean(ld_scores_class1)\n",
        "\n",
        "    print(f\"Mean LD Score for Class 0 (Centroid Kelas 0 pada Sumbu LD): {ld_mean_class0:.4f}\")\n",
        "    print(f\"Mean LD Score for Class 1 (Centroid Kelas 1 pada Sumbu LD): {ld_mean_class1:.4f}\")\n",
        "    print(\"\\n\" + \"=\"*50 + \"\\n\")\n",
        "\n",
        "    # 2. Menentukan Threshold\n",
        "    # Threshold adalah titik tengah antara dua centroid kelas\n",
        "    classification_threshold = (ld_mean_class0 + ld_mean_class1) / 2\n",
        "    print(f\"Calculated Classification Threshold (Ambang Batas Klasifikasi Terhitung): {classification_threshold:.4f}\")\n",
        "    print(\"\\n\" + \"=\"*50 + \"\\n\")\n",
        "\n",
        "    # Menampilkan kembali visualisasi distribusi LD Scores dengan threshold\n",
        "    plt.figure(figsize=(10, 6))\n",
        "    sns.histplot(data=df, x='LD_Score_Manual', hue=target_column_name, kde=True, palette='viridis', stat=\"density\", common_norm=False)\n",
        "    plt.title('Distribution of LD Scores with Classification Threshold (Distribusi Skor LD dengan Ambang Batas)')\n",
        "    plt.xlabel('LD Score (Manual) (Skor LD (Manual))')\n",
        "    plt.ylabel('Density (Kepadatan)')\n",
        "    plt.axvline(classification_threshold, color='red', linestyle='--', lw=2, label=f'Threshold ({classification_threshold:.2f})')\n",
        "    plt.axvline(ld_mean_class0, color='blue', linestyle=':', lw=2, label=f'Mean C0 ({ld_mean_class0:.2f})')\n",
        "    plt.axvline(ld_mean_class1, color='orange', linestyle=':', lw=2, label=f'Mean C1 ({ld_mean_class1:.2f})')\n",
        "    plt.legend(title=target_column_name, labels=[f'Cluster {val}' for val in sorted(df[target_column_name].unique())] + ['Threshold', 'Mean C0', 'Mean C1'])\n",
        "    plt.show()\n",
        "\n",
        "else:\n",
        "    print(\"'LD_Score_Manual' column not found in DataFrame. Please ensure Step 4 was completed successfully.\")"
      ],
      "metadata": {
        "colab": {
          "base_uri": "https://localhost:8080/",
          "height": 728
        },
        "id": "B3YWVlnZCgRn",
        "outputId": "a626f54f-431c-4361-9785-f24d4ab2c55c"
      },
      "execution_count": null,
      "outputs": [
        {
          "output_type": "stream",
          "name": "stdout",
          "text": [
            "Mean LD Score for Class 0 (Centroid Kelas 0 pada Sumbu LD): -73.0167\n",
            "Mean LD Score for Class 1 (Centroid Kelas 1 pada Sumbu LD): -50.2877\n",
            "\n",
            "==================================================\n",
            "\n",
            "Calculated Classification Threshold (Ambang Batas Klasifikasi Terhitung): -61.6522\n",
            "\n",
            "==================================================\n",
            "\n"
          ]
        },
        {
          "output_type": "display_data",
          "data": {
            "text/plain": [
              "<Figure size 1000x600 with 1 Axes>"
            ],
            "image/png": "[encoded data removed]"
          },
          "metadata": {}
        }
      ]
    },
    {
      "cell_type": "markdown",
      "source": [
        "## **Step 6: Formulate the Discriminant Function and Classify Data (Rumuskan Fungsi Diskriminan dan Klasifikasikan Data)**\n"
      ],
      "metadata": {
        "id": "MVaNXlX4DIkc"
      }
    },
    {
      "cell_type": "markdown",
      "source": [
        "Dengan vektor diskriminan `W_vector` dan threshold klasifikasi yang telah ditentukan, kita sekarang dapat merumuskan fungsi diskriminan dan menggunakannya untuk mengklasifikasikan data.\n",
        "\n",
        "1.  **Merumuskan Fungsi Diskriminan Linier (Bentuk Skor LD)**:\n",
        "    *   Fungsi diskriminan yang menghasilkan skor LD (`z`) untuk suatu sampel `x = [BloodPressure, Age]`<sup>T</sup> diberikan oleh:\n",
        "        `z = W_vector`<sup>T</sup>`x = w₁*BloodPressure + w₂*Age`\n",
        "        Di mana `w₁` dan `w₂` adalah komponen dari `W_vector`.\n",
        "    *   Penting diingat bahwa ini adalah skor mentah. Klasifikasi terjadi dengan membandingkan skor ini dengan `classification_threshold`.\n",
        "\n",
        "2.  **Aturan Klasifikasi**:\n",
        "    *   Sebuah sampel akan diklasifikasikan ke salah satu kelas berdasarkan perbandingan skor LD-nya (`df['LD_Score_Manual']`) dengan `classification_threshold`.\n",
        "    *   Perlu ditentukan kelas mana yang diasosiasikan dengan skor LD yang lebih tinggi dan mana yang lebih rendah. Ini tergantung pada orientasi `W_vector` dan nilai `ld_mean_class0` serta `ld_mean_class1`.\n",
        "    *   Misalnya, jika `ld_mean_class1 > ld_mean_class0`:\n",
        "        *   Jika `LD_Score > classification_threshold`, maka prediksi Kelas 1.\n",
        "        *   Jika `LD_Score <= classification_threshold`, maka prediksi Kelas 0.\n",
        "    *   Sebaliknya, jika `ld_mean_class0 > ld_mean_class1`:\n",
        "        *   Jika `LD_Score > classification_threshold`, maka prediksi Kelas 0.\n",
        "        *   Jika `LD_Score <= classification_threshold`, maka prediksi Kelas 1.\n",
        "    *   Aturan ini akan diterapkan untuk membuat kolom prediksi baru di DataFrame.\n",
        "\n",
        "3.  **Menghitung Akurasi Klasifikasi Manual (Opsional)**:\n",
        "    *   Setelah prediksi dibuat untuk seluruh dataset berdasarkan aturan manual, akurasi klasifikasi dapat dihitung dengan membandingkan prediksi manual dengan label kelas asli (`target_y`).\n",
        "    *   Akurasi = (Jumlah Prediksi Benar) / (Total Jumlah Sampel)\n",
        "\n",
        "Merumuskan fungsi secara eksplisit membantu pemahaman, dan klasifikasi ulang memberikan ukuran seberapa baik metode manual ini bekerja pada data yang sama yang digunakan untuk membangunnya (ini adalah akurasi pada \"data pelatihan\" untuk metode manual ini, bukan evaluasi generalisasi yang sebenarnya)."
      ],
      "metadata": {
        "id": "tkXJhUVhDMdq"
      }
    },
    {
      "cell_type": "code",
      "source": [
        "# Pastikan variabel-variabel dari langkah sebelumnya tersedia:\n",
        "# W_vector, classification_threshold, df (dengan 'LD_Score_Manual'),\n",
        "# target_column_name, ld_mean_class0, ld_mean_class1\n",
        "\n",
        "if 'W_vector' in globals() and W_vector is not None and \\\n",
        "   'classification_threshold' in globals() and \\\n",
        "   'df' in globals() and 'LD_Score_Manual' in df.columns and \\\n",
        "   'ld_mean_class0' in globals() and 'ld_mean_class1' in globals():\n",
        "\n",
        "    w1 = W_vector[0, 0] # Koefisien untuk BloodPressure\n",
        "    w2 = W_vector[1, 0] # Koefisien untuk Age\n",
        "\n",
        "    # 1. Merumuskan Fungsi Diskriminan Linier (Bentuk Skor LD)\n",
        "    print(\"Linear Discriminant Function (LD Score Form) (Fungsi Diskriminan Linier (Bentuk Skor LD)):\")\n",
        "    print(f\"LD_Score = ({w1:.4f} * BloodPressure) + ({w2:.4f} * Age)\")\n",
        "    print(\"Catatan: 'BloodPressure' dan 'Age' adalah nilai fitur asli, bukan yang diskalakan, karena W_vector berasal dari S_W dan S_B data asli.\")\n",
        "    print(\"\\n\" + \"=\"*50 + \"\\n\")\n",
        "\n",
        "    # 2. Aturan Klasifikasi dan Membuat Prediksi Manual\n",
        "    # Tentukan kelas mana yang memiliki rata-rata LD Score lebih tinggi\n",
        "    # Ini akan menjadi kelas \"positif\" jika skor LD di atas threshold\n",
        "    predicted_class_manual = []\n",
        "\n",
        "    # Menentukan kelas mana yang memiliki nilai LD score lebih tinggi secara rata-rata\n",
        "    # Ini membantu menentukan logika > atau <= threshold\n",
        "    class_for_higher_score = 1 if ld_mean_class1 > ld_mean_class0 else 0\n",
        "    class_for_lower_score = 0 if ld_mean_class1 > ld_mean_class0 else 1\n",
        "\n",
        "    print(f\"Mean LD Score Class 0: {ld_mean_class0:.4f}\")\n",
        "    print(f\"Mean LD Score Class 1: {ld_mean_class1:.4f}\")\n",
        "    print(f\"Classification Threshold: {classification_threshold:.4f}\")\n",
        "    print(f\"Class associated with scores > threshold will be: Cluster {class_for_higher_score}\")\n",
        "    print(f\"Class associated with scores <= threshold will be: Cluster {class_for_lower_score}\")\n",
        "    print(\"\\n\" + \"=\"*50 + \"\\n\")\n",
        "\n",
        "    for score in df['LD_Score_Manual']:\n",
        "        if score > classification_threshold:\n",
        "            predicted_class_manual.append(class_for_higher_score)\n",
        "        else:\n",
        "            predicted_class_manual.append(class_for_lower_score)\n",
        "\n",
        "    df['Predicted_Cluster_Manual'] = predicted_class_manual\n",
        "\n",
        "    print(\"DataFrame with Manual Predictions (DataFrame dengan Prediksi Manual):\")\n",
        "    print(df[[target_column_name, 'LD_Score_Manual', 'Predicted_Cluster_Manual']].head(10))\n",
        "    print(\"\\n\" + \"=\"*50 + \"\\n\")\n",
        "\n",
        "    # 3. Menghitung Akurasi Klasifikasi Manual\n",
        "    actual_labels = df[target_column_name].values\n",
        "    manual_predictions = df['Predicted_Cluster_Manual'].values\n",
        "\n",
        "    correct_predictions = np.sum(actual_labels == manual_predictions)\n",
        "    total_samples = len(actual_labels)\n",
        "    manual_accuracy = correct_predictions / total_samples\n",
        "\n",
        "    print(f\"Accuracy of Manual LDA Classification (Akurasi Klasifikasi LDA Manual): {manual_accuracy:.4f}\")\n",
        "    print(f\"Accuracy in percentage: {manual_accuracy*100:.2f}%\")\n",
        "    print(f\"Number of correct predictions: {correct_predictions} out of {total_samples} samples.\")\n",
        "    print(\"\\n\" + \"=\"*50 + \"\\n\")\n",
        "\n",
        "    # (Opsional) Menampilkan Confusion Matrix untuk prediksi manual\n",
        "    from sklearn.metrics import confusion_matrix as sk_confusion_matrix\n",
        "    import seaborn as sns\n",
        "    import matplotlib.pyplot as plt\n",
        "\n",
        "    conf_matrix_manual = sk_confusion_matrix(actual_labels, manual_predictions)\n",
        "    print(\"Manual Classification Confusion Matrix (Matriks Konfusi Klasifikasi Manual):\")\n",
        "    print(conf_matrix_manual)\n",
        "\n",
        "    plt.figure(figsize=(8, 6))\n",
        "    sns.heatmap(conf_matrix_manual, annot=True, fmt='d', cmap='Greens',\n",
        "                xticklabels=sorted(df[target_column_name].unique()),\n",
        "                yticklabels=sorted(df[target_column_name].unique()))\n",
        "    plt.xlabel('Predicted Label (Manual)')\n",
        "    plt.ylabel('True Label')\n",
        "    plt.title('Confusion Matrix for Manual LDA Classification (Matriks Konfusi LDA Manual)')\n",
        "    plt.show()\n",
        "    print(\"\\n\" + \"=\"*50 + \"\\n\")\n",
        "\n",
        "\n",
        "    # Merumuskan Fungsi Diskriminan dalam bentuk D = w1*X1 + w2*X2 - C (threshold diserap jadi konstanta)\n",
        "    # D > 0 -> class_for_higher_score ; D <= 0 -> class_for_lower_score\n",
        "    # Ini ekuivalen dengan LD_Score - threshold > 0\n",
        "    constant_c = classification_threshold\n",
        "    print(\"Alternative Discriminant Function (D) (Fungsi Diskriminan Alternatif D):\")\n",
        "    print(f\"D = ({w1:.4f} * BloodPressure) + ({w2:.4f} * Age) - ({constant_c:.4f})\")\n",
        "    print(f\"Jika D > 0, prediksi Cluster {class_for_higher_score}.\")\n",
        "    print(f\"Jika D <= 0, prediksi Cluster {class_for_lower_score}.\")\n",
        "    print(\"\\n\" + \"=\"*50 + \"\\n\")\n",
        "\n",
        "\n",
        "    print(\"Step 6: Formulation of discriminant function and classification completed.\")\n",
        "\n",
        "else:\n",
        "    print(\"Required variables (W_vector, classification_threshold, df with 'LD_Score_Manual', ld_mean_class0, ld_mean_class1) not found.\")\n",
        "    print(\"Please ensure Steps 1-5 were completed successfully.\")"
      ],
      "metadata": {
        "colab": {
          "base_uri": "https://localhost:8080/",
          "height": 1000
        },
        "id": "QfXqymdADMwZ",
        "outputId": "f9bb0a9d-7706-4cc0-a2cd-1b4a293eaa86"
      },
      "execution_count": null,
      "outputs": [
        {
          "output_type": "stream",
          "name": "stdout",
          "text": [
            "Linear Discriminant Function (LD Score Form) (Fungsi Diskriminan Linier (Bentuk Skor LD)):\n",
            "LD_Score = (-0.3808 * BloodPressure) + (-0.9247 * Age)\n",
            "Catatan: 'BloodPressure' dan 'Age' adalah nilai fitur asli, bukan yang diskalakan, karena W_vector berasal dari S_W dan S_B data asli.\n",
            "\n",
            "==================================================\n",
            "\n",
            "Mean LD Score Class 0: -73.0167\n",
            "Mean LD Score Class 1: -50.2877\n",
            "Classification Threshold: -61.6522\n",
            "Class associated with scores > threshold will be: Cluster 1\n",
            "Class associated with scores <= threshold will be: Cluster 0\n",
            "\n",
            "==================================================\n",
            "\n",
            "DataFrame with Manual Predictions (DataFrame dengan Prediksi Manual):\n",
            "   Cluster  LD_Score_Manual  Predicted_Cluster_Manual\n",
            "0        0       -73.650876                         0\n",
            "1        1       -53.797599                         1\n",
            "2        1       -53.960638                         1\n",
            "3        1       -44.551057                         1\n",
            "4        1       -45.745903                         1\n",
            "5        1       -55.919408                         1\n",
            "6        1       -43.081402                         1\n",
            "7        1       -54.233138                         1\n",
            "8        0       -75.663223                         0\n",
            "9        0       -86.488882                         0\n",
            "\n",
            "==================================================\n",
            "\n",
            "Accuracy of Manual LDA Classification (Akurasi Klasifikasi LDA Manual): 0.9733\n",
            "Accuracy in percentage: 97.33%\n",
            "Number of correct predictions: 584 out of 600 samples.\n",
            "\n",
            "==================================================\n",
            "\n",
            "Manual Classification Confusion Matrix (Matriks Konfusi Klasifikasi Manual):\n",
            "[[199  10]\n",
            " [  6 385]]\n"
          ]
        },
        {
          "output_type": "display_data",
          "data": {
            "text/plain": [
              "<Figure size 800x600 with 2 Axes>"
            ],
            "image/png": "[encoded data removed]"
          },
          "metadata": {}
        },
        {
          "output_type": "stream",
          "name": "stdout",
          "text": [
            "\n",
            "==================================================\n",
            "\n",
            "Alternative Discriminant Function (D) (Fungsi Diskriminan Alternatif D):\n",
            "D = (-0.3808 * BloodPressure) + (-0.9247 * Age) - (-61.6522)\n",
            "Jika D > 0, prediksi Cluster 1.\n",
            "Jika D <= 0, prediksi Cluster 0.\n",
            "\n",
            "==================================================\n",
            "\n",
            "Step 6: Formulation of discriminant function and classification completed.\n"
          ]
        }
      ]
    },
    {
      "cell_type": "markdown",
      "source": [
        "## **Step 7: Reviewing the Formulated Manual Discriminant Function (Meninjau Rumus Fungsi Diskriminan Manual yang Telah Dirumuskan)**"
      ],
      "metadata": {
        "id": "4V5OY0MiFYBH"
      }
    },
    {
      "cell_type": "markdown",
      "source": [
        "Sebelum melanjutkan untuk membuat prediksi pada data baru, penting untuk meninjau kembali bentuk eksplisit dari fungsi diskriminan linier yang telah berhasil dibangun melalui perhitungan manual. Fungsi ini akan menjadi dasar untuk semua klasifikasi manual selanjutnya.\n",
        "\n",
        "Ada dua cara umum untuk menyajikan fungsi diskriminan:\n",
        "\n",
        "1.  **Bentuk Skor LD dengan Threshold Terpisah**:\n",
        "    *   Hitung Skor Diskriminan Linier (LD Score):\n",
        "        `LD_Score = w₁ * BloodPressure + w₂ * Age`\n",
        "    *   Kemudian, bandingkan `LD_Score` dengan `classification_threshold`:\n",
        "        *   Jika `LD_Score > classification_threshold`, prediksi `class_for_higher_score`.\n",
        "        *   Jika `LD_Score <= classification_threshold`, prediksi `class_for_lower_score`.\n",
        "\n",
        "2.  **Bentuk Fungsi Diskriminan D (Threshold Terintegrasi)**:\n",
        "    *   Definisikan fungsi D sebagai:\n",
        "        `D = w₁ * BloodPressure + w₂ * Age - classification_threshold`\n",
        "        atau dapat ditulis juga sebagai:\n",
        "        `D = LD_Score - classification_threshold`\n",
        "    *   Kemudian, aturan klasifikasi menjadi:\n",
        "        *   Jika `D > 0`, prediksi `class_for_higher_score`.\n",
        "        *   Jika `D <= 0`, prediksi `class_for_lower_score`.\n",
        "\n",
        "Kedua bentuk ini ekuivalen dan menghasilkan keputusan klasifikasi yang sama. `w₁` dan `w₂` adalah koefisien (komponen dari `W_vector`) yang ditemukan pada Step 3, dan `classification_threshold` ditentukan pada Step 5. Variabel `class_for_higher_score` dan `class_for_lower_score` ditentukan pada Step 6.\n",
        "\n",
        "Mengingat kembali rumus ini memastikan bahwa kita menggunakan dasar yang benar untuk prediksi pada data baru."
      ],
      "metadata": {
        "id": "wVZ8d-buFkLo"
      }
    },
    {
      "cell_type": "code",
      "source": [
        "# Pastikan variabel dari langkah-langkah sebelumnya tersedia:\n",
        "# W_vector, classification_threshold, class_for_higher_score, class_for_lower_score\n",
        "\n",
        "if 'W_vector' in globals() and W_vector is not None and \\\n",
        "   'classification_threshold' in globals() and \\\n",
        "   'class_for_higher_score' in globals() and 'class_for_lower_score' in globals():\n",
        "\n",
        "    w1_manual_review = W_vector[0, 0]\n",
        "    w2_manual_review = W_vector[1, 0]\n",
        "    threshold_review = classification_threshold\n",
        "    class_high_review = class_for_higher_score\n",
        "    class_low_review = class_for_lower_score\n",
        "\n",
        "    print(\"--- Review of Manual Discriminant Function ---\")\n",
        "    print(\"(Tinjauan Rumus Fungsi Diskriminan Manual)\\n\")\n",
        "\n",
        "    print(\"Bentuk 1: Skor LD dengan Threshold Terpisah\")\n",
        "    print(\"-------------------------------------------\")\n",
        "    print(f\"1. Hitung Skor LD (LD_Score):\")\n",
        "    print(f\"   LD_Score = ({w1_manual_review:.4f} * BloodPressure) + ({w2_manual_review:.4f} * Age)\")\n",
        "    print(f\"\\n2. Bandingkan LD_Score dengan Classification Threshold = {threshold_review:.4f}:\")\n",
        "    print(f\"   - Jika LD_Score > {threshold_review:.4f}, maka prediksi Cluster {class_high_review}\")\n",
        "    print(f\"   - Jika LD_Score <= {threshold_review:.4f}, maka prediksi Cluster {class_low_review}\")\n",
        "    print(\"\\n\" + \"=\"*60 + \"\\n\")\n",
        "\n",
        "    print(\"Bentuk 2: Fungsi Diskriminan D (Threshold Terintegrasi)\")\n",
        "    print(\"-------------------------------------------------------\")\n",
        "    print(f\"1. Hitung Fungsi Diskriminan D:\")\n",
        "    # D = LD_Score - threshold\n",
        "    print(f\"   D = ({w1_manual_review:.4f} * BloodPressure) + ({w2_manual_review:.4f} * Age) - ({threshold_review:.4f})\")\n",
        "    print(f\"\\n2. Bandingkan D dengan 0:\")\n",
        "    print(f\"   - Jika D > 0, maka prediksi Cluster {class_high_review}\")\n",
        "    print(f\"   - Jika D <= 0, maka prediksi Cluster {class_low_review}\")\n",
        "    print(\"\\n\" + \"=\"*60 + \"\\n\")\n",
        "\n",
        "    print(\"Step 6.1: Review of manual discriminant function completed.\")\n",
        "\n",
        "else:\n",
        "    print(\"Required variables (W_vector, classification_threshold, etc.) not found.\")\n",
        "    print(\"Please ensure previous steps (Manual LDA up to Step 6) were completed successfully.\")"
      ],
      "metadata": {
        "colab": {
          "base_uri": "https://localhost:8080/"
        },
        "id": "LVfNYTdtFj_R",
        "outputId": "df9d809d-59b5-4282-edc8-0f19e94f8ff5"
      },
      "execution_count": null,
      "outputs": [
        {
          "output_type": "stream",
          "name": "stdout",
          "text": [
            "--- Review of Manual Discriminant Function ---\n",
            "(Tinjauan Rumus Fungsi Diskriminan Manual)\n",
            "\n",
            "Bentuk 1: Skor LD dengan Threshold Terpisah\n",
            "-------------------------------------------\n",
            "1. Hitung Skor LD (LD_Score):\n",
            "   LD_Score = (-0.3808 * BloodPressure) + (-0.9247 * Age)\n",
            "\n",
            "2. Bandingkan LD_Score dengan Classification Threshold = -61.6522:\n",
            "   - Jika LD_Score > -61.6522, maka prediksi Cluster 1\n",
            "   - Jika LD_Score <= -61.6522, maka prediksi Cluster 0\n",
            "\n",
            "============================================================\n",
            "\n",
            "Bentuk 2: Fungsi Diskriminan D (Threshold Terintegrasi)\n",
            "-------------------------------------------------------\n",
            "1. Hitung Fungsi Diskriminan D:\n",
            "   D = (-0.3808 * BloodPressure) + (-0.9247 * Age) - (-61.6522)\n",
            "\n",
            "2. Bandingkan D dengan 0:\n",
            "   - Jika D > 0, maka prediksi Cluster 1\n",
            "   - Jika D <= 0, maka prediksi Cluster 0\n",
            "\n",
            "============================================================\n",
            "\n",
            "Step 6.1: Review of manual discriminant function completed.\n"
          ]
        }
      ]
    },
    {
      "cell_type": "markdown",
      "source": [
        "## **Step 8: Making Predictions on New Data (Manual) (Membuat Prediksi pada Data Baru (Manual))**\n"
      ],
      "metadata": {
        "id": "y5TR_1rpFjx0"
      }
    },
    {
      "cell_type": "markdown",
      "source": [
        "Setelah fungsi diskriminan manual dan threshold klasifikasi ditentukan, model ini dapat digunakan untuk membuat prediksi pada data baru (unseen data).\n",
        "\n",
        "1.  **Menyiapkan Data Baru**:\n",
        "    *   Data baru harus memiliki struktur kolom fitur yang sama dengan data yang digunakan untuk membangun fungsi diskriminan (yaitu, `BloodPressure` dan `Age`).\n",
        "    *   Data baru akan dibuat sebagai DataFrame Pandas.\n",
        "2.  **Menghitung Skor LD untuk Data Baru**:\n",
        "    *   Untuk setiap sampel dalam data baru, skor LD (`z_new`) dihitung menggunakan fungsi diskriminan yang telah dirumuskan pada Langkah 6:\n",
        "        `z_new = w₁ * BloodPressure_new + w₂ * Age_new`\n",
        "        di mana `w₁` dan `w₂` adalah komponen dari `W_vector`.\n",
        "3.  **Menerapkan Aturan Klasifikasi**:\n",
        "    *   Skor LD (`z_new`) dari setiap sampel data baru dibandingkan dengan `classification_threshold` yang telah ditentukan pada Langkah 5.\n",
        "    *   Aturan klasifikasi yang sama (berdasarkan `class_for_higher_score` dan `class_for_lower_score` yang ditentukan pada Langkah 6) diterapkan:\n",
        "        *   Jika `z_new > classification_threshold`, maka prediksi `class_for_higher_score`.\n",
        "        *   Jika `z_new <= classification_threshold`, maka prediksi `class_for_lower_score`.\n",
        "4.  **Menampilkan Prediksi**:\n",
        "    *   Prediksi kelas untuk data baru akan ditampilkan.\n",
        "\n",
        "Langkah ini menunjukkan bagaimana model diskriminan manual dapat digunakan untuk tujuan prediktif pada observasi baru."
      ],
      "metadata": {
        "id": "8UdV2EgIFeul"
      }
    },
    {
      "cell_type": "code",
      "source": [
        "# Pastikan variabel dari langkah sebelumnya tersedia:\n",
        "# W_vector (untuk w1, w2), classification_threshold,\n",
        "# class_for_higher_score, class_for_lower_score\n",
        "\n",
        "if 'W_vector' in globals() and W_vector is not None and \\\n",
        "   'classification_threshold' in globals() and \\\n",
        "   'class_for_higher_score' in globals() and 'class_for_lower_score' in globals():\n",
        "\n",
        "    # 1. Menyiapkan Data Baru\n",
        "    new_data_to_predict_dict = {\n",
        "        'BloodPressure': [76, 92, 58, 74, 62, 76, 70, 72, 60, 70],\n",
        "        'Age': [26, 66, 22, 43, 33, 63, 27, 30, 47, 23]\n",
        "    }\n",
        "    df_new_data = pd.DataFrame(new_data_to_predict_dict)\n",
        "\n",
        "    print(\"New data for manual prediction (Data baru untuk prediksi manual):\")\n",
        "    print(df_new_data)\n",
        "    print(\"\\n\" + \"=\"*50 + \"\\n\")\n",
        "\n",
        "    # Ekstrak koefisien w1 dan w2 dari W_vector\n",
        "    w1_manual = W_vector[0, 0]\n",
        "    w2_manual = W_vector[1, 0]\n",
        "\n",
        "    # 2. Menghitung Skor LD untuk Data Baru\n",
        "    ld_scores_new_data = []\n",
        "    for index, row in df_new_data.iterrows():\n",
        "        bp_new = row['BloodPressure']\n",
        "        age_new = row['Age']\n",
        "        ld_score_sample = (w1_manual * bp_new) + (w2_manual * age_new)\n",
        "        ld_scores_new_data.append(ld_score_sample)\n",
        "\n",
        "    df_new_data['LD_Score_Manual'] = ld_scores_new_data\n",
        "\n",
        "    print(\"New data with calculated LD Scores (Data baru dengan Skor LD terhitung):\")\n",
        "    print(df_new_data[['BloodPressure', 'Age', 'LD_Score_Manual']])\n",
        "    print(\"\\n\" + \"=\"*50 + \"\\n\")\n",
        "\n",
        "    # 3. Menerapkan Aturan Klasifikasi\n",
        "    predicted_classes_new_data = []\n",
        "    for score in df_new_data['LD_Score_Manual']:\n",
        "        if score > classification_threshold:\n",
        "            predicted_classes_new_data.append(class_for_higher_score)\n",
        "        else:\n",
        "            predicted_classes_new_data.append(class_for_lower_score)\n",
        "\n",
        "    df_new_data['Predicted_Cluster_Manual'] = predicted_classes_new_data\n",
        "\n",
        "    # 4. Menampilkan Prediksi\n",
        "    print(\"Predictions for new data using manual LDA (Prediksi untuk data baru menggunakan LDA manual):\")\n",
        "    print(df_new_data[['BloodPressure', 'Age', 'LD_Score_Manual', 'Predicted_Cluster_Manual']])\n",
        "    print(\"\\n\" + \"=\"*50 + \"\\n\")\n",
        "\n",
        "    print(\"Detailed predictions for each new sample (Prediksi detail untuk setiap sampel baru):\")\n",
        "    for index, row in df_new_data.iterrows():\n",
        "        print(f\"Sample {index + 1} (BP: {row['BloodPressure']}, Age: {row['Age']}):\")\n",
        "        print(f\"  - Calculated LD Score (Manual): {row['LD_Score_Manual']:.4f}\")\n",
        "        print(f\"  - Predicted Cluster (Manual): {row['Predicted_Cluster_Manual']}\")\n",
        "        # Untuk perbandingan, kita bisa juga mencetak nilai D = LD_Score - threshold\n",
        "        d_value = row['LD_Score_Manual'] - classification_threshold\n",
        "        print(f\"  - Value of D (LD_Score - Threshold): {d_value:.4f} (Positive suggests Cluster {class_for_higher_score}, Negative/Zero suggests Cluster {class_for_lower_score})\")\n",
        "        print(\"-\" * 30)\n",
        "\n",
        "    print(\"\\nStep 7: Manual prediction on new data completed.\")\n",
        "\n",
        "else:\n",
        "    print(\"Required variables for manual prediction are not defined.\")\n",
        "    print(\"Please ensure Steps 1-6 (Manual LDA) were completed successfully.\")"
      ],
      "metadata": {
        "id": "MvG49ldKGJeD",
        "outputId": "99f3d13f-29c1-4979-86bc-86ffaee47777",
        "colab": {
          "base_uri": "https://localhost:8080/"
        }
      },
      "execution_count": null,
      "outputs": [
        {
          "output_type": "stream",
          "name": "stdout",
          "text": [
            "New data for manual prediction (Data baru untuk prediksi manual):\n",
            "   BloodPressure  Age\n",
            "0             76   26\n",
            "1             92   66\n",
            "2             58   22\n",
            "3             74   43\n",
            "4             62   33\n",
            "5             76   63\n",
            "6             70   27\n",
            "7             72   30\n",
            "8             60   47\n",
            "9             70   23\n",
            "\n",
            "==================================================\n",
            "\n",
            "New data with calculated LD Scores (Data baru dengan Skor LD terhitung):\n",
            "   BloodPressure  Age  LD_Score_Manual\n",
            "0             76   26       -52.982407\n",
            "1             92   66       -96.061500\n",
            "2             58   22       -42.429249\n",
            "3             74   43       -67.939912\n",
            "4             62   33       -54.123676\n",
            "5             76   63       -87.194612\n",
            "6             70   27       -51.622214\n",
            "7             72   30       -55.157792\n",
            "8             60   47       -66.307219\n",
            "9             70   23       -47.923597\n",
            "\n",
            "==================================================\n",
            "\n",
            "Predictions for new data using manual LDA (Prediksi untuk data baru menggunakan LDA manual):\n",
            "   BloodPressure  Age  LD_Score_Manual  Predicted_Cluster_Manual\n",
            "0             76   26       -52.982407                         1\n",
            "1             92   66       -96.061500                         0\n",
            "2             58   22       -42.429249                         1\n",
            "3             74   43       -67.939912                         0\n",
            "4             62   33       -54.123676                         1\n",
            "5             76   63       -87.194612                         0\n",
            "6             70   27       -51.622214                         1\n",
            "7             72   30       -55.157792                         1\n",
            "8             60   47       -66.307219                         0\n",
            "9             70   23       -47.923597                         1\n",
            "\n",
            "==================================================\n",
            "\n",
            "Detailed predictions for each new sample (Prediksi detail untuk setiap sampel baru):\n",
            "Sample 1 (BP: 76.0, Age: 26.0):\n",
            "  - Calculated LD Score (Manual): -52.9824\n",
            "  - Predicted Cluster (Manual): 1.0\n",
            "  - Value of D (LD_Score - Threshold): 8.6698 (Positive suggests Cluster 1, Negative/Zero suggests Cluster 0)\n",
            "------------------------------\n",
            "Sample 2 (BP: 92.0, Age: 66.0):\n",
            "  - Calculated LD Score (Manual): -96.0615\n",
            "  - Predicted Cluster (Manual): 0.0\n",
            "  - Value of D (LD_Score - Threshold): -34.4093 (Positive suggests Cluster 1, Negative/Zero suggests Cluster 0)\n",
            "------------------------------\n",
            "Sample 3 (BP: 58.0, Age: 22.0):\n",
            "  - Calculated LD Score (Manual): -42.4292\n",
            "  - Predicted Cluster (Manual): 1.0\n",
            "  - Value of D (LD_Score - Threshold): 19.2230 (Positive suggests Cluster 1, Negative/Zero suggests Cluster 0)\n",
            "------------------------------\n",
            "Sample 4 (BP: 74.0, Age: 43.0):\n",
            "  - Calculated LD Score (Manual): -67.9399\n",
            "  - Predicted Cluster (Manual): 0.0\n",
            "  - Value of D (LD_Score - Threshold): -6.2877 (Positive suggests Cluster 1, Negative/Zero suggests Cluster 0)\n",
            "------------------------------\n",
            "Sample 5 (BP: 62.0, Age: 33.0):\n",
            "  - Calculated LD Score (Manual): -54.1237\n",
            "  - Predicted Cluster (Manual): 1.0\n",
            "  - Value of D (LD_Score - Threshold): 7.5285 (Positive suggests Cluster 1, Negative/Zero suggests Cluster 0)\n",
            "------------------------------\n",
            "Sample 6 (BP: 76.0, Age: 63.0):\n",
            "  - Calculated LD Score (Manual): -87.1946\n",
            "  - Predicted Cluster (Manual): 0.0\n",
            "  - Value of D (LD_Score - Threshold): -25.5424 (Positive suggests Cluster 1, Negative/Zero suggests Cluster 0)\n",
            "------------------------------\n",
            "Sample 7 (BP: 70.0, Age: 27.0):\n",
            "  - Calculated LD Score (Manual): -51.6222\n",
            "  - Predicted Cluster (Manual): 1.0\n",
            "  - Value of D (LD_Score - Threshold): 10.0300 (Positive suggests Cluster 1, Negative/Zero suggests Cluster 0)\n",
            "------------------------------\n",
            "Sample 8 (BP: 72.0, Age: 30.0):\n",
            "  - Calculated LD Score (Manual): -55.1578\n",
            "  - Predicted Cluster (Manual): 1.0\n",
            "  - Value of D (LD_Score - Threshold): 6.4944 (Positive suggests Cluster 1, Negative/Zero suggests Cluster 0)\n",
            "------------------------------\n",
            "Sample 9 (BP: 60.0, Age: 47.0):\n",
            "  - Calculated LD Score (Manual): -66.3072\n",
            "  - Predicted Cluster (Manual): 0.0\n",
            "  - Value of D (LD_Score - Threshold): -4.6550 (Positive suggests Cluster 1, Negative/Zero suggests Cluster 0)\n",
            "------------------------------\n",
            "Sample 10 (BP: 70.0, Age: 23.0):\n",
            "  - Calculated LD Score (Manual): -47.9236\n",
            "  - Predicted Cluster (Manual): 1.0\n",
            "  - Value of D (LD_Score - Threshold): 13.7286 (Positive suggests Cluster 1, Negative/Zero suggests Cluster 0)\n",
            "------------------------------\n",
            "\n",
            "Step 7: Manual prediction on new data completed.\n"
          ]
        }
      ]
    }
  ]
}